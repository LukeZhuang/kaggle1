{
 "cells": [
  {
   "cell_type": "code",
   "execution_count": 1,
   "metadata": {},
   "outputs": [
    {
     "name": "stdout",
     "output_type": "stream",
     "text": [
      "ok\n"
     ]
    }
   ],
   "source": [
    "import numpy as np\n",
    "import matplotlib.pyplot as plt\n",
    "import math\n",
    "import gzip\n",
    "import random\n",
    "from sklearn.decomposition import PCA\n",
    "from sklearn.cluster import KMeans\n",
    "import time\n",
    "import math\n",
    "\n",
    "def readGz(f):\n",
    "    for l in gzip.open(f):\n",
    "        yield eval(l)\n",
    "print('ok')"
   ]
  },
  {
   "cell_type": "code",
   "execution_count": 2,
   "metadata": {},
   "outputs": [
    {
     "name": "stdout",
     "output_type": "stream",
     "text": [
      "{'rating': 5.0, 'businessID': 'B408037852', 'reviewText': \"This is where i go to shop for gifts from my mom. She loves this stuff. Cna't get enough. I like that you can customize the items. Store is well alid out and shoppable.\", 'userID': 'U093387342', 'reviewTime': 'Mar 24, 2013', 'categories': [\"Women's Clothing Store\", 'Fashion Accessories Store', 'Shoe Store'], 'reviewHash': 'R471510664', 'unixReviewTime': 1364143460}\n",
      "{'rating': 5.0, 'businessID': 'B410583770', 'reviewText': \"Quaint, stylish atmosphere in a small place right off South Congress. The food and service were great. It's pricey, but the happy hour deals are considerable. Great for a date!\", 'userID': 'U637588426', 'reviewTime': 'Sep 21, 2011', 'categories': ['Italian Restaurant', 'European Restaurant'], 'reviewHash': 'R954562590', 'unixReviewTime': 1316616175}\n",
      "{'rating': 4.0, 'businessID': 'B423621081', 'reviewText': \"I'm a vegetarian, but every so often I want a hotdog with lots of toppings.  And a tall can of beer.  Frank has got that covered.  And they have a cool warehouse space with some pinball machines.  Prices are a little high for hotdogs...fancy hotdogs, but hotdogs nonetheless.  Good location and service, but gets crowded and loud.\", 'userID': 'U985379327', 'reviewTime': 'Sep 10, 2013', 'categories': ['American Restaurant', 'Cafe', 'Hot Dog Restaurant'], 'reviewHash': 'R567271252', 'unixReviewTime': 1378865039, 'categoryID': 0}\n",
      "{'rating': 3.0, 'businessID': 'B088348224', 'reviewText': 'Small, Boring, waste of money, not worth the drive. If you happen to be at the park for something else is the only time worth going.', 'userID': 'U189370087', 'reviewTime': 'Nov 19, 2012', 'categories': ['Park', 'Garden', 'Garden Center'], 'reviewHash': 'R357632647', 'unixReviewTime': 1353384745}\n",
      "{'rating': 3.0, 'businessID': 'B611740995', 'reviewText': 'While burgers may be the thing here, this beef joint happens to serve up the best salads in town. As for the burgers, usually two napkins will do just fine.', 'userID': 'U985118747', 'reviewTime': 'Jan 22, 2013', 'categories': ['Hamburger Restaurant'], 'reviewHash': 'R067705866', 'unixReviewTime': 1358899200}\n"
     ]
    }
   ],
   "source": [
    "cnt=0\n",
    "for l in readGz(\"data/train.json.gz\"):\n",
    "    print(l)\n",
    "    cnt+=1\n",
    "    if cnt>=5:\n",
    "        break"
   ]
  },
  {
   "cell_type": "code",
   "execution_count": 3,
   "metadata": {},
   "outputs": [
    {
     "name": "stdout",
     "output_type": "stream",
     "text": [
      "18793 21321\n",
      "ok\n"
     ]
    }
   ],
   "source": [
    "users=[]\n",
    "bussiness=[]\n",
    "ratings=[]\n",
    "for l in readGz(\"data/train.json.gz\"):\n",
    "    u=l['userID']\n",
    "    b=l['businessID']\n",
    "    r=float(l['rating'])\n",
    "    users.append(u)\n",
    "    bussiness.append(b)\n",
    "    ratings.append(r)\n",
    "    \n",
    "user_set=set(users)\n",
    "buss_set=set(bussiness)\n",
    "\n",
    "Nu=len(user_set)  # 18793\n",
    "Nb=len(buss_set)  # 21321\n",
    "\n",
    "user_index={}\n",
    "buss_index={}\n",
    "\n",
    "for (i,u) in enumerate(user_set):\n",
    "    user_index[u]=i\n",
    "for (i,b) in enumerate(buss_set):\n",
    "    buss_index[b]=i\n",
    "print(Nu,Nb)\n",
    "print('ok')"
   ]
  },
  {
   "cell_type": "code",
   "execution_count": 4,
   "metadata": {},
   "outputs": [
    {
     "name": "stdout",
     "output_type": "stream",
     "text": [
      "ok\n"
     ]
    }
   ],
   "source": [
    "num_train=180000\n",
    "\n",
    "y=np.zeros((Nu,Nb),dtype=np.bool_)\n",
    "\n",
    "train_set=[]\n",
    "val_set=[]\n",
    "\n",
    "user_bussiness={}\n",
    "ub_rating={}\n",
    "\n",
    "n_train=0\n",
    "n_val=0\n",
    "\n",
    "total_rating_train=0\n",
    "\n",
    "for i in range(len(users)):\n",
    "    u=user_index[users[i]]\n",
    "    b=buss_index[bussiness[i]]\n",
    "    r=ratings[i]\n",
    "    if i<num_train:\n",
    "        y[u,b]=1\n",
    "        total_rating_train+=r\n",
    "        train_set.append((u,b,r))\n",
    "        if u in user_bussiness:\n",
    "            user_bussiness[u].append((b,r))\n",
    "        else:\n",
    "            user_bussiness[u]=[(b,r)]\n",
    "        ub_rating[(u,b)]=r\n",
    "        n_train+=1\n",
    "    else:\n",
    "        val_set.append((u,b,r))\n",
    "        n_val+=1\n",
    "        \n",
    "for i in range(Nu):\n",
    "    if i not in user_bussiness:\n",
    "        user_bussiness[i]=[]\n",
    "\n",
    "total_rating_train/=num_train\n",
    "        \n",
    "print('ok')\n"
   ]
  },
  {
   "cell_type": "code",
   "execution_count": 5,
   "metadata": {
    "collapsed": true
   },
   "outputs": [],
   "source": [
    "avg_rating={}\n",
    "for (u,b_r_list) in user_bussiness.items():\n",
    "    tot_r=0\n",
    "    for (b,r) in b_r_list:\n",
    "        tot_r+=r\n",
    "    if len(b_r_list)>0:\n",
    "        tot_r/=len(b_r_list)\n",
    "    avg_rating[u]=tot_r"
   ]
  },
  {
   "cell_type": "code",
   "execution_count": 6,
   "metadata": {
    "collapsed": true
   },
   "outputs": [],
   "source": [
    "def pearson_sim(u1,u2):\n",
    "    new_u1=u1\n",
    "    new_u2=u2\n",
    "    if len(user_bussiness[u1])>len(user_bussiness[u2]):\n",
    "        new_u1=u2\n",
    "        new_u2=u1\n",
    "    numerator=0\n",
    "    denominator1=0\n",
    "    denominator2=0\n",
    "    for (b,r) in user_bussiness[new_u1]:\n",
    "        if y[new_u2,b]==1:\n",
    "            numerator+=(r-avg_rating[new_u1])*(ub_rating[(new_u2,b)]-avg_rating[new_u2])\n",
    "            denominator1+=(r-avg_rating[new_u1])**2\n",
    "            denominator2+=(ub_rating[(new_u2,b)]-avg_rating[new_u2])**2\n",
    "    if denominator1==0 or denominator2==0:\n",
    "        return 0\n",
    "    else:\n",
    "        return numerator/math.sqrt(denominator1*denominator2)"
   ]
  },
  {
   "cell_type": "code",
   "execution_count": 7,
   "metadata": {},
   "outputs": [
    {
     "name": "stdout",
     "output_type": "stream",
     "text": [
      "2017-11-19 18:47:53 finished processing 1 users\n",
      "2017-11-19 18:47:57 finished processing 1000 users\n",
      "2017-11-19 18:48:11 finished processing 2000 users\n",
      "2017-11-19 18:48:32 finished processing 3000 users\n",
      "2017-11-19 18:49:00 finished processing 4000 users\n",
      "2017-11-19 18:49:35 finished processing 5000 users\n",
      "2017-11-19 18:50:15 finished processing 6000 users\n",
      "2017-11-19 18:51:03 finished processing 7000 users\n",
      "2017-11-19 18:52:00 finished processing 8000 users\n",
      "2017-11-19 18:53:08 finished processing 9000 users\n",
      "2017-11-19 18:54:29 finished processing 10000 users\n",
      "2017-11-19 18:56:01 finished processing 11000 users\n",
      "2017-11-19 18:57:41 finished processing 12000 users\n",
      "2017-11-19 18:59:29 finished processing 13000 users\n",
      "2017-11-19 19:01:24 finished processing 14000 users\n",
      "2017-11-19 19:03:32 finished processing 15000 users\n",
      "2017-11-19 19:05:49 finished processing 16000 users\n",
      "2017-11-19 19:08:10 finished processing 17000 users\n",
      "2017-11-19 19:10:41 finished processing 18000 users\n",
      "2017-11-19 19:12:48 finished processing 18793 users\n"
     ]
    }
   ],
   "source": [
    "sim=np.zeros((Nu,Nu))\n",
    "for i in range(Nu):\n",
    "    for j in range(i):\n",
    "        sim[i,j]=sim[j,i]=pearson_sim(i,j)\n",
    "    if i==0 or (i+1)%1000==0 or i==Nu-1:\n",
    "        print(time.strftime('%Y-%m-%d %H:%M:%S',time.localtime(time.time())),'finished processing %d users' %(i+1))"
   ]
  },
  {
   "cell_type": "code",
   "execution_count": 36,
   "metadata": {
    "collapsed": true
   },
   "outputs": [],
   "source": [
    "def nearest_k_user(u,K):\n",
    "    index=list(np.argsort(sim[u,:]))\n",
    "    return reversed(index[-(K+1):-1])"
   ]
  },
  {
   "cell_type": "code",
   "execution_count": 43,
   "metadata": {},
   "outputs": [
    {
     "name": "stdout",
     "output_type": "stream",
     "text": [
      "1020 1.0\n",
      "10849 1.0\n",
      "8460 1.0\n",
      "17978 1.0\n",
      "9269 1.0\n",
      "6281 1.0\n",
      "8999 0.902134221636\n",
      "13740 0.640184399664\n",
      "6265 0.0\n",
      "6266 0.0\n"
     ]
    }
   ],
   "source": [
    "u=10\n",
    "u_list=nearest_k_user(u,10)\n",
    "for un in u_list:\n",
    "    print(un,sim[u,un])"
   ]
  },
  {
   "cell_type": "code",
   "execution_count": 45,
   "metadata": {},
   "outputs": [
    {
     "name": "stdout",
     "output_type": "stream",
     "text": [
      "3.75\n",
      "4.1\n",
      "[(8368, 3.0), (12403, 4.0), (9559, 4.0), (17991, 4.0)]\n",
      "[(4553, 4.0), (1284, 4.0), (19751, 4.0), (12247, 4.0), (17260, 4.0), (8368, 3.0), (11181, 4.0), (17013, 4.0), (340, 5.0), (160, 5.0)]\n"
     ]
    }
   ],
   "source": [
    "print(avg_rating[10])\n",
    "print(avg_rating[10849])\n",
    "print(user_bussiness[10])\n",
    "print(user_bussiness[10849])"
   ]
  },
  {
   "cell_type": "code",
   "execution_count": null,
   "metadata": {
    "scrolled": false
   },
   "outputs": [
    {
     "name": "stdout",
     "output_type": "stream",
     "text": [
      "K = 0 RMSE = 0.8095648163426826\n",
      "K = 1 RMSE = 0.8157655614251188\n",
      "K = 2 RMSE = 0.8208545059776513\n",
      "K = 3 RMSE = 0.824403791086998\n",
      "K = 4 RMSE = 0.8278764086632061\n",
      "K = 5 RMSE = 0.8312145367098952\n",
      "K = 6 RMSE = 0.8343009287485433\n",
      "K = 7 RMSE = 0.8372386442694089\n",
      "K = 8 RMSE = 0.8391549692093969\n",
      "K = 9 RMSE = 0.8434050974668083\n",
      "K = 10 RMSE = 0.8458266817645542\n",
      "K = 11 RMSE = 0.8483418987071402\n",
      "K = 12 RMSE = 0.8507657115545777\n",
      "K = 13 RMSE = 0.8532712304428333\n",
      "K = 14 RMSE = 0.8555986286085004\n",
      "K = 15 RMSE = 0.8583708504541001\n",
      "K = 16 RMSE = 0.8612801800722036\n",
      "K = 17 RMSE = 0.8636501688305736\n"
     ]
    }
   ],
   "source": [
    "Ks=range(20)\n",
    "for K in Ks:\n",
    "    RMSE_val=0.0\n",
    "    for (u,b,real_r) in val_set:\n",
    "        u_list=nearest_k_user(u,K)\n",
    "        if avg_rating[u]==0:\n",
    "            predict=total_rating_train\n",
    "        else:\n",
    "            predict=avg_rating[u]\n",
    "        for un in u_list:\n",
    "            if y[un,b]==1:\n",
    "                predict=ub_rating[(un,b)]/avg_rating[un]*avg_rating[u]\n",
    "                break\n",
    "        RMSE_val+=(predict-real_r)**2\n",
    "    RMSE_val/=len(val_set)\n",
    "    RMSE_val=math.sqrt(RMSE_val)\n",
    "    print('K =',K,'RMSE =',RMSE_val)"
   ]
  },
  {
   "cell_type": "code",
   "execution_count": null,
   "metadata": {
    "collapsed": true
   },
   "outputs": [],
   "source": []
  }
 ],
 "metadata": {
  "kernelspec": {
   "display_name": "Python 3",
   "language": "python",
   "name": "python3"
  },
  "language_info": {
   "codemirror_mode": {
    "name": "ipython",
    "version": 3
   },
   "file_extension": ".py",
   "mimetype": "text/x-python",
   "name": "python",
   "nbconvert_exporter": "python",
   "pygments_lexer": "ipython3",
   "version": "3.6.2"
  }
 },
 "nbformat": 4,
 "nbformat_minor": 2
}
