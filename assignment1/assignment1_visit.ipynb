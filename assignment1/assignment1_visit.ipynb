{
 "cells": [
  {
   "cell_type": "code",
   "execution_count": 1,
   "metadata": {},
   "outputs": [
    {
     "name": "stdout",
     "output_type": "stream",
     "text": [
      "ok\n"
     ]
    }
   ],
   "source": [
    "import numpy as np\n",
    "import matplotlib.pyplot as plt\n",
    "import math\n",
    "import gzip\n",
    "import random\n",
    "from sklearn.decomposition import PCA\n",
    "from sklearn.cluster import KMeans\n",
    "import time\n",
    "\n",
    "def readGz(f):\n",
    "    for l in gzip.open(f):\n",
    "        yield eval(l)\n",
    "print('ok')"
   ]
  },
  {
   "cell_type": "code",
   "execution_count": 2,
   "metadata": {},
   "outputs": [
    {
     "name": "stdout",
     "output_type": "stream",
     "text": [
      "{'rating': 5.0, 'businessID': 'B408037852', 'reviewText': \"This is where i go to shop for gifts from my mom. She loves this stuff. Cna't get enough. I like that you can customize the items. Store is well alid out and shoppable.\", 'userID': 'U093387342', 'reviewTime': 'Mar 24, 2013', 'categories': [\"Women's Clothing Store\", 'Fashion Accessories Store', 'Shoe Store'], 'reviewHash': 'R471510664', 'unixReviewTime': 1364143460}\n",
      "{'rating': 5.0, 'businessID': 'B410583770', 'reviewText': \"Quaint, stylish atmosphere in a small place right off South Congress. The food and service were great. It's pricey, but the happy hour deals are considerable. Great for a date!\", 'userID': 'U637588426', 'reviewTime': 'Sep 21, 2011', 'categories': ['Italian Restaurant', 'European Restaurant'], 'reviewHash': 'R954562590', 'unixReviewTime': 1316616175}\n",
      "{'rating': 4.0, 'businessID': 'B423621081', 'reviewText': \"I'm a vegetarian, but every so often I want a hotdog with lots of toppings.  And a tall can of beer.  Frank has got that covered.  And they have a cool warehouse space with some pinball machines.  Prices are a little high for hotdogs...fancy hotdogs, but hotdogs nonetheless.  Good location and service, but gets crowded and loud.\", 'userID': 'U985379327', 'reviewTime': 'Sep 10, 2013', 'categories': ['American Restaurant', 'Cafe', 'Hot Dog Restaurant'], 'reviewHash': 'R567271252', 'unixReviewTime': 1378865039, 'categoryID': 0}\n",
      "{'rating': 3.0, 'businessID': 'B088348224', 'reviewText': 'Small, Boring, waste of money, not worth the drive. If you happen to be at the park for something else is the only time worth going.', 'userID': 'U189370087', 'reviewTime': 'Nov 19, 2012', 'categories': ['Park', 'Garden', 'Garden Center'], 'reviewHash': 'R357632647', 'unixReviewTime': 1353384745}\n",
      "{'rating': 3.0, 'businessID': 'B611740995', 'reviewText': 'While burgers may be the thing here, this beef joint happens to serve up the best salads in town. As for the burgers, usually two napkins will do just fine.', 'userID': 'U985118747', 'reviewTime': 'Jan 22, 2013', 'categories': ['Hamburger Restaurant'], 'reviewHash': 'R067705866', 'unixReviewTime': 1358899200}\n"
     ]
    }
   ],
   "source": [
    "cnt=0\n",
    "for l in readGz(\"data/train.json.gz\"):\n",
    "    print(l)\n",
    "    cnt+=1\n",
    "    if cnt>=5:\n",
    "        break"
   ]
  },
  {
   "cell_type": "code",
   "execution_count": 3,
   "metadata": {
    "collapsed": true
   },
   "outputs": [],
   "source": [
    "# new_cata={}\n",
    "# cata_file=open('data/cata/new_cata.txt')\n",
    "# for line in cata_file:\n",
    "#     l=line.strip().split('\\t')\n",
    "#     new_cata[l[0]]=l[1]\n",
    "\n",
    "# def trans_cata(ca):\n",
    "#     if ca in new_cata:\n",
    "#         return new_cata[ca]\n",
    "#     else:\n",
    "#         return ca"
   ]
  },
  {
   "cell_type": "code",
   "execution_count": 4,
   "metadata": {},
   "outputs": [
    {
     "name": "stdout",
     "output_type": "stream",
     "text": [
      "18793 21321 1377\n",
      "ok\n"
     ]
    }
   ],
   "source": [
    "users=[]\n",
    "bussiness=[]\n",
    "catas=[]\n",
    "for l in readGz(\"data/train.json.gz\"):\n",
    "    u=l['userID']\n",
    "    b=l['businessID']\n",
    "    c=l['categories']\n",
    "    users.append(u)\n",
    "    bussiness.append(b)\n",
    "    catas+=c\n",
    "    \n",
    "user_set=set(users)\n",
    "buss_set=set(bussiness)\n",
    "cata_set=set(catas)\n",
    "\n",
    "Nu=len(user_set)  # 18793\n",
    "Nb=len(buss_set)  # 21321\n",
    "Nc=len(cata_set)  # 1377\n",
    "\n",
    "user_index={}\n",
    "buss_index={}\n",
    "cata_index={}\n",
    "\n",
    "for (i,u) in enumerate(user_set):\n",
    "    user_index[u]=i\n",
    "for (i,b) in enumerate(buss_set):\n",
    "    buss_index[b]=i\n",
    "for (i,c) in enumerate(cata_set):\n",
    "    cata_index[c]=i\n",
    "print(Nu,Nb,Nc)\n",
    "print('ok')"
   ]
  },
  {
   "cell_type": "code",
   "execution_count": 5,
   "metadata": {},
   "outputs": [
    {
     "name": "stdout",
     "output_type": "stream",
     "text": [
      "ok\n"
     ]
    }
   ],
   "source": [
    "num_train=199000\n",
    "\n",
    "user_cata_train=np.zeros((Nu,Nc))\n",
    "buss_cata_train=np.zeros((Nb,Nc))\n",
    "user_business_train={}\n",
    "\n",
    "user_business_val={}\n",
    "\n",
    "user_cata_all=np.zeros((Nu,Nc))\n",
    "buss_cata_all=np.zeros((Nb,Nc))\n",
    "user_business_all={}\n",
    "\n",
    "ui_val=[]\n",
    "bi_val=[]\n",
    "y_val=[]\n",
    "\n",
    "i=0\n",
    "for l in readGz(\"data/train.json.gz\"):\n",
    "    u=user_index[l['userID']]\n",
    "    b=buss_index[l['businessID']]\n",
    "    if i<num_train:\n",
    "        if u in user_business_train:\n",
    "            user_business_train[u].append(b)\n",
    "        else:\n",
    "            user_business_train[u]=[b]\n",
    "        for c in l['categories']:\n",
    "            c_i=cata_index[c]\n",
    "#             user_cata_train[u][c_i]+=1\n",
    "            user_cata_train[u][c_i]=1\n",
    "            buss_cata_train[b][c_i]=1\n",
    "    else:\n",
    "        ui_val.append(u)\n",
    "        bi_val.append(b)\n",
    "        y_val.append(1)\n",
    "        if u in user_business_val:\n",
    "            user_business_val[u].append(b)\n",
    "        else:\n",
    "            user_business_val[u]=[b]\n",
    "    if u in user_business_all:\n",
    "        user_business_all[u].append(b)\n",
    "    else:\n",
    "        user_business_all[u]=[b]\n",
    "    for c in l['categories']:\n",
    "        c_i=cata_index[c]\n",
    "#         user_cata_all[u][c_i]+=1\n",
    "        user_cata_all[u][c_i]=1\n",
    "        buss_cata_all[b][c_i]=1\n",
    "    i+=1\n",
    "print('ok')"
   ]
  },
  {
   "cell_type": "code",
   "execution_count": 6,
   "metadata": {
    "collapsed": true
   },
   "outputs": [],
   "source": [
    "mode='train'"
   ]
  },
  {
   "cell_type": "code",
   "execution_count": 7,
   "metadata": {},
   "outputs": [
    {
     "name": "stdout",
     "output_type": "stream",
     "text": [
      "2017-11-08 10:07:20 iter 1, loss=197990.9940943087\n",
      "2017-11-08 10:10:13 iter 10, loss=192316.4972478374\n",
      "2017-11-08 10:13:22 iter 20, loss=192290.8768477430\n",
      "2017-11-08 10:16:32 iter 30, loss=192288.8249517865\n",
      "2017-11-08 10:19:43 iter 40, loss=192288.6106569871\n",
      "2017-11-08 10:24:31 iter 50, loss=192288.5673629546\n",
      "2017-11-08 10:27:49 iter 60, loss=192288.5505729645\n",
      "2017-11-08 10:31:07 iter 70, loss=192288.5423840758\n",
      "2017-11-08 10:34:25 iter 80, loss=192288.5382074020\n",
      "2017-11-08 10:37:44 iter 90, loss=192288.5360617352\n",
      "2017-11-08 10:40:54 iter 100, loss=192288.5349583499\n",
      "2017-11-08 10:44:04 iter 110, loss=192288.5343909038\n",
      "2017-11-08 10:47:13 iter 120, loss=192288.5340990912\n",
      "2017-11-08 10:50:21 iter 130, loss=192288.5339490309\n",
      "2017-11-08 10:53:30 iter 140, loss=192288.5338718647\n",
      "2017-11-08 10:56:38 iter 150, loss=192288.5338321806\n",
      "2017-11-08 10:59:47 iter 160, loss=192288.5338117763\n",
      "2017-11-08 11:02:55 iter 170, loss=192288.5338012847\n",
      "2017-11-08 11:06:02 iter 180, loss=192288.5337958859\n",
      "2017-11-08 11:09:08 iter 190, loss=192288.5337931142\n",
      "2017-11-08 11:12:15 iter 200, loss=192288.5337916891\n"
     ]
    }
   ],
   "source": [
    "def sigmoid(X):\n",
    "    return 1.0/(1.0+np.exp(-X))\n",
    "\n",
    "if mode=='train':\n",
    "    user_total={}\n",
    "    buss_total={}\n",
    "    y=np.zeros((Nu,Nb),dtype=np.bool_)\n",
    "    val_mask=np.ones((Nu,Nb),dtype=np.bool_)\n",
    "    for (u,v) in user_business_train.items():\n",
    "        for b in v:\n",
    "            user_total[u]=1 if u not in user_total else user_total[u]+1\n",
    "            buss_total[b]=1 if b not in buss_total else buss_total[b]+1\n",
    "            y[u,b]=True\n",
    "    for (u,v) in user_business_val.items():\n",
    "        for b in v:\n",
    "            val_mask[u,b]=False\n",
    "\n",
    "    K=10\n",
    "    weight_scale=1\n",
    "    max_iter=200\n",
    "    print_every=10\n",
    "    lamb=1e-2\n",
    "    # gamma_u=np.random.randn(Nu,K).astype(np.float32)*weight_scale\n",
    "    # gamma_b=np.random.randn(Nb,K).astype(np.float32)*weight_scale\n",
    "#     gamma_u=np.random.randn(Nu,K)*weight_scale\n",
    "#     gamma_b=np.random.randn(Nb,K)*weight_scale\n",
    "    gamma_u=np.random.rand(Nu,K)\n",
    "    gamma_b=np.random.rand(Nb,K)\n",
    "    # learing_rate=1000/(Nu*Nb)\n",
    "    learing_rate=1e-5\n",
    "\n",
    "    # use all yij to update\n",
    "    # for it in range(max_iter):\n",
    "    #     for i in range(Nu):\n",
    "    #         sig=sigmoid(np.sum(gamma_u[i,:]*gamma_b,axis=1))\n",
    "    #         d_gamma_u_i=((y[i,:]-sig)*val_mask[i,:]).reshape((1,Nb)).dot(gamma_b).reshape(K,)/user_total[u]\n",
    "    #         gamma_u[i,:]+=learing_rate*d_gamma_u_i\n",
    "    #     loss=0.0\n",
    "    #     for j in range(Nb):\n",
    "    #         sig=sigmoid(np.sum(gamma_b[j,:]*gamma_u,axis=1))\n",
    "    #         d_gamma_b_j=((y[:,j]-sig)*val_mask[:,j]).reshape((1,Nu)).dot(gamma_u).reshape(K,)/buss_total[b]\n",
    "    #         gamma_b[j,:]+=learing_rate*d_gamma_b_j\n",
    "    #         loss+=np.sum((y[:,j]*np.log(sig)+(1.0-y[:,j])*np.log(1.0-sig))*val_mask[:,j])/(Nu*Nb)\n",
    "    # #     if it==0 or (it+1)%print_every==0:\n",
    "    #     print(time.strftime('%Y-%m-%d %H:%M:%S',time.localtime(time.time())),'iter %d, loss=%.10f' %(it+1,loss))\n",
    "\n",
    "    for it in range(max_iter):\n",
    "        gamma_u=y.dot(gamma_b.dot(np.linalg.inv(gamma_b.T.dot(gamma_b))))\n",
    "        gamma_b=y.T.dot(gamma_u.dot(np.linalg.inv(gamma_u.T.dot(gamma_u))))\n",
    "\n",
    "        loss=np.sum(np.square(gamma_u.dot(gamma_b.T)-y))\n",
    "    #     for j in range(Nb):\n",
    "    #         sig=sigmoid(np.sum(gamma_b[j,:]*gamma_u,axis=1))\n",
    "    #         d_gamma_b_j=((y[:,j]-sig)*val_mask[:,j]).reshape((1,Nu)).dot(gamma_u).reshape(K,)/buss_total[b]\n",
    "    #         gamma_b[j,:]+=learing_rate*d_gamma_b_j\n",
    "    #         loss+=np.sum((y[:,j]*np.log(sig)+(1.0-y[:,j])*np.log(1.0-sig))*val_mask[:,j])/(Nu*Nb)\n",
    "        if it==0 or (it+1)%print_every==0:\n",
    "            print(time.strftime('%Y-%m-%d %H:%M:%S',time.localtime(time.time())),'iter %d, loss=%.10f' %(it+1,loss))\n",
    "    np.save('data/gamma_u',gamma_u)\n",
    "    np.save('data/gamma_b',gamma_b)\n",
    "\n",
    "else:\n",
    "    gamma_u=np.load('data/gamma_u.npy')\n",
    "    gamma_b=np.load('data/gamma_b.npy')"
   ]
  },
  {
   "cell_type": "code",
   "execution_count": 8,
   "metadata": {
    "scrolled": false
   },
   "outputs": [
    {
     "name": "stdout",
     "output_type": "stream",
     "text": [
      "[[ -1.47099762e-04   8.47598195e-05   2.01379352e-04 ...,  -1.76658291e-04\n",
      "    1.53225584e-04  -5.37970891e-05]\n",
      " [ -1.12808520e-04   6.00433892e-05   1.53966566e-04 ...,  -1.35224977e-04\n",
      "    1.17357444e-04  -4.01190413e-05]\n",
      " [ -8.22681742e-05   4.78475938e-05   1.11777756e-04 ...,  -9.89825276e-05\n",
      "    7.99630058e-05  -2.61697541e-05]\n",
      " ..., \n",
      " [ -1.41872960e-04  -6.83829488e-05   2.15780532e-05 ...,  -5.15201919e-05\n",
      "   -2.04160694e-04   1.86661866e-04]\n",
      " [  1.14207389e-04   1.62399326e-03  -1.00746663e-03 ...,   5.18100975e-04\n",
      "    6.48948132e-04  -1.24547716e-03]\n",
      " [ -1.76501366e-96   1.43057856e-96   3.45984593e-97 ...,   8.80831713e-97\n",
      "   -1.16332741e-97  -5.91271982e-97]]\n",
      "[[ 0.45711102  7.17239794  3.79442217 ...,  3.0279491   2.4248393\n",
      "   2.40248014]\n",
      " [ 0.90756516  0.62084677  0.13644819 ...,  1.44322484  0.14341982\n",
      "   1.09262061]\n",
      " [ 0.01252168  0.05094495  0.00888877 ...,  0.16936262  0.18844412\n",
      "   0.06132108]\n",
      " ..., \n",
      " [ 0.22403181  0.27541513  0.1181501  ...,  0.11777271 -0.4143004\n",
      "   0.47932595]\n",
      " [-0.30414546  2.36453378 -0.9569005  ...,  6.89518787  0.70604165\n",
      "   1.90315972]\n",
      " [ 0.08979806  0.08803887  0.063159   ...,  0.10512212 -0.0962738\n",
      "   0.19910853]]\n",
      "0.500002023232\n",
      "True\n"
     ]
    }
   ],
   "source": [
    "print(gamma_u)\n",
    "print(gamma_b)\n",
    "def predict_y(u,b):\n",
    "    print(sigmoid(np.inner(gamma_u[u,:],gamma_b[b,:])))\n",
    "    return sigmoid(np.inner(gamma_u[u,:],gamma_b[b,:]))>0.5\n",
    "\n",
    "print(predict_y(user_index['U637588426'],buss_index['B408037852']))\n",
    "\n",
    "# for i in range(10):\n",
    "#     for j in range(10):\n",
    "#         u=user_index[users[i]]\n",
    "#         b=buss_index[bussiness[j]]\n",
    "#         print(i,j,sigmoid(np.inner(gamma_u[u,:],gamma_b[b,:])))\n",
    "\n"
   ]
  },
  {
   "cell_type": "code",
   "execution_count": 9,
   "metadata": {
    "collapsed": true
   },
   "outputs": [],
   "source": [
    "# X_user=PCA(n_components=100).fit_transform(user_cata_train)\n",
    "# user_labels=100\n",
    "# y_user = KMeans(n_clusters=user_labels,max_iter=1000,n_jobs=4).fit_predict(X_user)\n",
    "# print('ok')\n",
    "# X_buss=PCA(n_components=100).fit_transform(buss_cata_train)\n",
    "# buss_labels=100\n",
    "# y_buss = KMeans(n_clusters=buss_labels,max_iter=1000,n_jobs=4).fit_predict(X_buss)\n",
    "# print('ok')\n",
    "# label_catas=[]\n",
    "# for i in range(user_labels):\n",
    "#     index=np.where(y_user==i)[0]\n",
    "#     label_catas.append(np.sum(user_cata[index,:],axis=0))\n",
    "# print('ok')\n",
    "# UB=np.zeros((user_labels,buss_labels))\n",
    "# for (u,buss_list) in user_business_train.items():\n",
    "#     u_label=y_user[u]\n",
    "#     for b in buss_list:\n",
    "#         b_label=y_buss[b]\n",
    "#         UB[u_label,b_label]+=1\n",
    "# sort_indexs=[]\n",
    "# for i in range(user_labels):\n",
    "#     temp=UB[i,:]\n",
    "#     sii=list(np.argsort(temp)[::-1])\n",
    "#     sort_indexs.append(sii)\n",
    "# print('ok')"
   ]
  },
  {
   "cell_type": "code",
   "execution_count": 10,
   "metadata": {},
   "outputs": [
    {
     "name": "stdout",
     "output_type": "stream",
     "text": [
      "(2,)\n",
      "(2,)\n",
      "1\n"
     ]
    }
   ],
   "source": [
    "num_val=(len(users)-num_train)*2\n",
    "ui_val_first=np.array(ui_val)\n",
    "bi_val_first=np.array(bi_val)\n",
    "ui_val_second=np.random.randint(Nu,size=(num_val//2,))\n",
    "bi_val_second=np.random.randint(Nb,size=(num_val//2,))\n",
    "for i in range(ui_val_second.shape[0]):\n",
    "    y_val.append(bi_val_second[i] in user_business_all[ui_val_second[i]])\n",
    "ui_val=np.concatenate((ui_val_first,ui_val_second))\n",
    "bi_val=np.concatenate((bi_val_first,bi_val_second))\n",
    "y_val=np.array(y_val)\n",
    "print(ui_val.shape)\n",
    "print(bi_val.shape)\n",
    "print(np.sum(y_val))"
   ]
  },
  {
   "cell_type": "code",
   "execution_count": 11,
   "metadata": {
    "scrolled": true
   },
   "outputs": [
    {
     "name": "stdout",
     "output_type": "stream",
     "text": [
      "accuracy = 0.5\n",
      "true pos = 0\n",
      "false pos = 0\n",
      "false neg = 1\n",
      "true neg= 1\n"
     ]
    },
    {
     "ename": "ZeroDivisionError",
     "evalue": "division by zero",
     "output_type": "error",
     "traceback": [
      "\u001b[1;31m---------------------------------------------------------------------------\u001b[0m",
      "\u001b[1;31mZeroDivisionError\u001b[0m                         Traceback (most recent call last)",
      "\u001b[1;32m<ipython-input-11-5c5bedbdb209>\u001b[0m in \u001b[0;36m<module>\u001b[1;34m()\u001b[0m\n\u001b[0;32m     30\u001b[0m \u001b[0mprint\u001b[0m\u001b[1;33m(\u001b[0m\u001b[1;34m'false neg ='\u001b[0m\u001b[1;33m,\u001b[0m\u001b[0mfalse_neg\u001b[0m\u001b[1;33m)\u001b[0m\u001b[1;33m\u001b[0m\u001b[0m\n\u001b[0;32m     31\u001b[0m \u001b[0mprint\u001b[0m\u001b[1;33m(\u001b[0m\u001b[1;34m'true neg='\u001b[0m\u001b[1;33m,\u001b[0m\u001b[0mtrue_neg\u001b[0m\u001b[1;33m)\u001b[0m\u001b[1;33m\u001b[0m\u001b[0m\n\u001b[1;32m---> 32\u001b[1;33m \u001b[0mpp\u001b[0m\u001b[1;33m=\u001b[0m\u001b[0mtrue_pos\u001b[0m\u001b[1;33m/\u001b[0m\u001b[1;33m(\u001b[0m\u001b[0mtrue_pos\u001b[0m\u001b[1;33m+\u001b[0m\u001b[0mfalse_pos\u001b[0m\u001b[1;33m)\u001b[0m\u001b[1;33m\u001b[0m\u001b[0m\n\u001b[0m\u001b[0;32m     33\u001b[0m \u001b[0mrr\u001b[0m\u001b[1;33m=\u001b[0m\u001b[0mtrue_pos\u001b[0m\u001b[1;33m/\u001b[0m\u001b[1;33m(\u001b[0m\u001b[0mtrue_pos\u001b[0m\u001b[1;33m+\u001b[0m\u001b[0mfalse_neg\u001b[0m\u001b[1;33m)\u001b[0m\u001b[1;33m\u001b[0m\u001b[0m\n\u001b[0;32m     34\u001b[0m \u001b[0mprint\u001b[0m\u001b[1;33m(\u001b[0m\u001b[1;34m'F1 ='\u001b[0m\u001b[1;33m,\u001b[0m\u001b[1;33m(\u001b[0m\u001b[1;36m2.0\u001b[0m\u001b[1;33m*\u001b[0m\u001b[0mpp\u001b[0m\u001b[1;33m*\u001b[0m\u001b[0mrr\u001b[0m\u001b[1;33m)\u001b[0m\u001b[1;33m/\u001b[0m\u001b[1;33m(\u001b[0m\u001b[0mpp\u001b[0m\u001b[1;33m+\u001b[0m\u001b[0mrr\u001b[0m\u001b[1;33m)\u001b[0m\u001b[1;33m)\u001b[0m\u001b[1;33m\u001b[0m\u001b[0m\n",
      "\u001b[1;31mZeroDivisionError\u001b[0m: division by zero"
     ]
    }
   ],
   "source": [
    "true_pos=0\n",
    "true_neg=0\n",
    "false_pos=0\n",
    "false_neg=0\n",
    "\n",
    "for i in range(num_val):\n",
    "    ui=ui_val[i]\n",
    "    bi=bi_val[i]\n",
    "    real=y_val[i]\n",
    "    \n",
    "    if np.sum(user_cata_train[ui])==0 or np.sum(buss_cata_train[bi])==0:\n",
    "        predict=random.randint(0,1)\n",
    "    elif bi in user_business_train[ui]:\n",
    "        predict=1\n",
    "    else:\n",
    "#         predict=np.sum(user_cata_train[ui]*buss_cata_train[bi])>0\n",
    "        predict=np.inner(gamma_u[ui,:],gamma_b[bi,:])>0.00015\n",
    "        \n",
    "    if predict==1 and real==1:\n",
    "        true_pos+=1\n",
    "    elif predict==1 and real==0:\n",
    "        false_pos+=1\n",
    "    elif predict==0 and real==1:\n",
    "        false_neg+=1\n",
    "    elif predict==0 and real==0:\n",
    "        true_neg+=1\n",
    "print('accuracy =',(true_pos+true_neg)/num_val)\n",
    "print('true pos =',true_pos)\n",
    "print('false pos =',false_pos)\n",
    "print('false neg =',false_neg)\n",
    "print('true neg=',true_neg)\n",
    "pp=true_pos/(true_pos+false_pos)\n",
    "rr=true_pos/(true_pos+false_neg)\n",
    "print('F1 =',(2.0*pp*rr)/(pp+rr))"
   ]
  },
  {
   "cell_type": "code",
   "execution_count": null,
   "metadata": {
    "collapsed": true
   },
   "outputs": [],
   "source": [
    "# label_cata=label_catas[0]\n",
    "# print(list(label_cata))\n",
    "# num_tot_cata=np.sum(label_cata)\n",
    "# sort_index=np.argsort(label_cata)[::-1]\n",
    "# cata_cnt=0\n",
    "# id=0\n",
    "# while cata_cnt<num_tot_cata*0.8:\n",
    "#     cata_cnt+=label_cata[sort_index[id]]\n",
    "#     id+=1\n",
    "# print(list(np.sort(label_cata)[::-1]))\n",
    "# print(id)"
   ]
  },
  {
   "cell_type": "code",
   "execution_count": 12,
   "metadata": {},
   "outputs": [
    {
     "name": "stdout",
     "output_type": "stream",
     "text": [
      "63 11 39926\n"
     ]
    }
   ],
   "source": [
    "test_file=open('data/pairs_Visit.txt')\n",
    "fo=open('data/pairs_Visit_out2.txt','w')\n",
    "fo.write('userID-businessID,prediction\\n')\n",
    "c1=0\n",
    "c2=0\n",
    "c3=0\n",
    "for line in test_file:\n",
    "    if line == 'userID-businessID,prediction\\n':\n",
    "        continue\n",
    "    [u,b]=line.strip().split('-')\n",
    "    if u not in user_index or b not in buss_index:\n",
    "        predict=random.randint(0,1)\n",
    "        fo.write('%s-%s,%d\\n' %(u,b,predict))\n",
    "        c1+=1\n",
    "    elif buss_index[b] in user_business_all[user_index[u]]:\n",
    "        fo.write('%s-%s,1\\n' %(u,b))\n",
    "        c2+=1\n",
    "    else:\n",
    "        ui=user_index[u]\n",
    "        bi=buss_index[b]\n",
    "        \n",
    "#         predict=np.sum(user_cata_all[ui]*buss_cata_all[bi])>0\n",
    "\n",
    "        predict=np.inner(gamma_u[ui,:],gamma_b[bi,:])>0.0001\n",
    "                \n",
    "        fo.write('%s-%s,%d\\n' %(u,b,predict))\n",
    "        c3+=1\n",
    "fo.close()\n",
    "print(c1,c2,c3)"
   ]
  },
  {
   "cell_type": "code",
   "execution_count": null,
   "metadata": {
    "collapsed": true
   },
   "outputs": [],
   "source": [
    "# a=np.array([2,5,3,6,7,1,0,0,0,0])\n",
    "# tt=np.argsort(a)\n",
    "# print(tt[::-1])"
   ]
  },
  {
   "cell_type": "code",
   "execution_count": null,
   "metadata": {
    "collapsed": true
   },
   "outputs": [],
   "source": []
  }
 ],
 "metadata": {
  "kernelspec": {
   "display_name": "Python 3",
   "language": "python",
   "name": "python3"
  },
  "language_info": {
   "codemirror_mode": {
    "name": "ipython",
    "version": 3
   },
   "file_extension": ".py",
   "mimetype": "text/x-python",
   "name": "python",
   "nbconvert_exporter": "python",
   "pygments_lexer": "ipython3",
   "version": "3.6.2"
  }
 },
 "nbformat": 4,
 "nbformat_minor": 2
}
