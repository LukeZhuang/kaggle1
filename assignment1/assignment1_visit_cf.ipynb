{
 "cells": [
  {
   "cell_type": "code",
   "execution_count": 1,
   "metadata": {},
   "outputs": [
    {
     "name": "stdout",
     "output_type": "stream",
     "text": [
      "ok\n"
     ]
    }
   ],
   "source": [
    "import numpy as np\n",
    "import math\n",
    "import gzip\n",
    "import random\n",
    "import time\n",
    "import bisect\n",
    "\n",
    "def readGz(f):\n",
    "    for l in gzip.open(f):\n",
    "        yield eval(l)\n",
    "print('ok')"
   ]
  },
  {
   "cell_type": "code",
   "execution_count": 2,
   "metadata": {},
   "outputs": [
    {
     "name": "stdout",
     "output_type": "stream",
     "text": [
      "18793 21321\n",
      "ok\n"
     ]
    }
   ],
   "source": [
    "users=[]\n",
    "bussiness=[]\n",
    "for l in readGz(\"data/train.json.gz\"):\n",
    "    u=l['userID']\n",
    "    b=l['businessID']\n",
    "    users.append(u)\n",
    "    bussiness.append(b)\n",
    "    \n",
    "user_set=set(users)\n",
    "buss_set=set(bussiness)\n",
    "\n",
    "Nu=len(user_set)  # 18793\n",
    "Nb=len(buss_set)  # 21321\n",
    "\n",
    "user_index={}\n",
    "buss_index={}\n",
    "\n",
    "for (i,u) in enumerate(user_set):\n",
    "    user_index[u]=i\n",
    "for (i,b) in enumerate(buss_set):\n",
    "    buss_index[b]=i\n",
    "print(Nu,Nb)\n",
    "print('ok')"
   ]
  },
  {
   "cell_type": "code",
   "execution_count": 3,
   "metadata": {},
   "outputs": [
    {
     "name": "stdout",
     "output_type": "stream",
     "text": [
      "ok\n"
     ]
    }
   ],
   "source": [
    "num_train=199000\n",
    "\n",
    "user_business={}\n",
    "\n",
    "ui_val=[]\n",
    "bi_val=[]\n",
    "y_val=[]\n",
    "\n",
    "i=0\n",
    "for l in readGz(\"data/train.json.gz\"):\n",
    "    u=user_index[l['userID']]\n",
    "    b=buss_index[l['businessID']]\n",
    "    if i<num_train:\n",
    "        if u in user_business:\n",
    "            user_business[u].append(b)\n",
    "        else:\n",
    "            user_business[u]=[b]\n",
    "    else:\n",
    "        ui_val.append(u)\n",
    "        bi_val.append(b)\n",
    "        y_val.append(1)\n",
    "    i+=1\n",
    "print('ok')"
   ]
  },
  {
   "cell_type": "code",
   "execution_count": 4,
   "metadata": {},
   "outputs": [
    {
     "name": "stdout",
     "output_type": "stream",
     "text": [
      "[1775, 3312, 3993, 4537, 5066, 9634, 12305, 15795, 17081, 19189, 20885]\n"
     ]
    }
   ],
   "source": [
    "for (u,b_list) in user_business.items():\n",
    "    user_business[u]=sorted(b_list)\n",
    "print(user_business[0])"
   ]
  },
  {
   "cell_type": "code",
   "execution_count": 5,
   "metadata": {},
   "outputs": [],
   "source": [
    "a=user_business[1]\n",
    "i = bisect.bisect_left(a, 3534)\n",
    "if i != len(a) and a[i] == 3534:\n",
    "    print('ok')"
   ]
  },
  {
   "cell_type": "code",
   "execution_count": 6,
   "metadata": {},
   "outputs": [],
   "source": [
    "def jaccard_sim1(u1,u2):\n",
    "    temp=np.zeros(Nb)\n",
    "    for b in user_business[u1]:\n",
    "        temp[b]+=1\n",
    "    for b in user_business[u2]:\n",
    "        temp[b]+=1\n",
    "    num=np.sum(temp==2)\n",
    "    dim=np.sum(temp>0)\n",
    "    return num/dim"
   ]
  },
  {
   "cell_type": "code",
   "execution_count": 7,
   "metadata": {},
   "outputs": [],
   "source": [
    "def jaccard_sim2(u1,u2):\n",
    "    num=0\n",
    "    if len(user_business[u1])<len(user_business[u2]):\n",
    "        for b in user_business[u1]:\n",
    "            i=bisect.bisect_left(user_business[u2],b)\n",
    "            if i!=len(user_business[u2]) and user_business[u2][i]==b:\n",
    "                num+=1\n",
    "    else:\n",
    "        for b in user_business[u2]:\n",
    "            i=bisect.bisect_left(user_business[u1],b)\n",
    "            if i!=len(user_business[u1]) and user_business[u1][i]==b:\n",
    "                num+=1\n",
    "    dim=len(user_business[u1])+len(user_business[u2])-num\n",
    "    return num/dim"
   ]
  },
  {
   "cell_type": "code",
   "execution_count": 8,
   "metadata": {
    "scrolled": false
   },
   "outputs": [
    {
     "name": "stdout",
     "output_type": "stream",
     "text": [
      "2017-11-09 23:05:17 finished processing 1 users\n",
      "2017-11-09 23:05:19 finished processing 1000 users\n",
      "2017-11-09 23:05:25 finished processing 2000 users\n",
      "2017-11-09 23:05:34 finished processing 3000 users\n",
      "2017-11-09 23:05:47 finished processing 4000 users\n",
      "2017-11-09 23:06:05 finished processing 5000 users\n",
      "2017-11-09 23:06:26 finished processing 6000 users\n",
      "2017-11-09 23:06:51 finished processing 7000 users\n",
      "2017-11-09 23:07:20 finished processing 8000 users\n",
      "2017-11-09 23:07:55 finished processing 9000 users\n",
      "2017-11-09 23:08:33 finished processing 10000 users\n",
      "2017-11-09 23:09:16 finished processing 11000 users\n",
      "2017-11-09 23:10:01 finished processing 12000 users\n",
      "2017-11-09 23:10:50 finished processing 13000 users\n",
      "2017-11-09 23:11:42 finished processing 14000 users\n",
      "2017-11-09 23:12:42 finished processing 15000 users\n",
      "2017-11-09 23:13:44 finished processing 16000 users\n",
      "2017-11-09 23:14:50 finished processing 17000 users\n",
      "2017-11-09 23:16:00 finished processing 18000 users\n",
      "2017-11-09 23:16:57 finished processing 18793 users\n"
     ]
    }
   ],
   "source": [
    "sim=np.zeros((Nu,Nu))\n",
    "for i in range(Nu):\n",
    "    for j in range(i):\n",
    "        sim[i,j]=sim[j,i]=jaccard_sim2(i,j)\n",
    "    if i==0 or (i+1)%1000==0 or i==Nu-1:\n",
    "        print(time.strftime('%Y-%m-%d %H:%M:%S',time.localtime(time.time())),'finished processing %d users' %(i+1))"
   ]
  },
  {
   "cell_type": "code",
   "execution_count": 9,
   "metadata": {},
   "outputs": [
    {
     "name": "stdout",
     "output_type": "stream",
     "text": [
      "(2000,)\n",
      "(2000,)\n",
      "1001\n"
     ]
    }
   ],
   "source": [
    "num_val=(len(users)-num_train)*2\n",
    "ui_val_first=np.array(ui_val)\n",
    "bi_val_first=np.array(bi_val)\n",
    "ui_val_second=np.random.randint(Nu,size=(num_val//2,))\n",
    "bi_val_second=np.random.randint(Nb,size=(num_val//2,))\n",
    "for i in range(ui_val_second.shape[0]):\n",
    "    y_val.append(bi_val_second[i] in user_business[ui_val_second[i]])\n",
    "ui_val=np.concatenate((ui_val_first,ui_val_second))\n",
    "bi_val=np.concatenate((bi_val_first,bi_val_second))\n",
    "y_val=np.array(y_val)\n",
    "print(ui_val.shape)\n",
    "print(bi_val.shape)\n",
    "print(np.sum(y_val))"
   ]
  },
  {
   "cell_type": "code",
   "execution_count": 10,
   "metadata": {
    "collapsed": true
   },
   "outputs": [],
   "source": [
    "def nearest_k_user(u,K):\n",
    "    index=list(np.argsort(sim[u,:]))\n",
    "    return index[-(K+1):-1]"
   ]
  },
  {
   "cell_type": "code",
   "execution_count": 11,
   "metadata": {
    "scrolled": false
   },
   "outputs": [
    {
     "name": "stdout",
     "output_type": "stream",
     "text": [
      "2017-11-09 23:17:01 finished processing 1 Ks\n",
      "2017-11-09 23:18:47 finished processing 50 Ks\n",
      "2017-11-09 23:20:47 finished processing 100 Ks\n",
      "2017-11-09 23:22:59 finished processing 150 Ks\n",
      "2017-11-09 23:25:15 finished processing 200 Ks\n",
      "2017-11-09 23:27:41 finished processing 250 Ks\n",
      "2017-11-09 23:30:17 finished processing 300 Ks\n"
     ]
    },
    {
     "data": {
      "image/png": "[encoded data removed]",
      "text/plain": [
       "<matplotlib.figure.Figure at 0x29a7f4677f0>"
      ]
     },
     "metadata": {},
     "output_type": "display_data"
    },
    {
     "name": "stdout",
     "output_type": "stream",
     "text": [
      "best_K = 147\n"
     ]
    }
   ],
   "source": [
    "import matplotlib.pyplot as plt\n",
    "\n",
    "Ks=np.arange(300)\n",
    "accuracy_his=[]\n",
    "\n",
    "max_accuracy=-1\n",
    "best_K=-1\n",
    "\n",
    "for K in Ks:\n",
    "    accuracy=0\n",
    "    for i in range(num_val):\n",
    "        u=ui_val[i]\n",
    "        b=bi_val[i]\n",
    "        real=y_val[i]\n",
    "\n",
    "        nku=nearest_k_user(u,K)\n",
    "        bi_list=[]\n",
    "        for nu in nku:\n",
    "            bi_list+=user_business[nu]\n",
    "\n",
    "        predict=b in bi_list\n",
    "        \n",
    "        if predict==real:\n",
    "            accuracy+=1\n",
    "            \n",
    "    accuracy=accuracy/num_val\n",
    "    accuracy_his.append(accuracy)\n",
    "    if accuracy>max_accuracy:\n",
    "        max_accuracy=accuracy\n",
    "        best_K=K\n",
    "    if K==0 or (K+1)%50==0:\n",
    "        print(time.strftime('%Y-%m-%d %H:%M:%S',time.localtime(time.time())),'finished processing %d Ks' %(K+1))\n",
    "\n",
    "accuracy_his=np.array(accuracy_his)\n",
    "\n",
    "plt.figure(1)\n",
    "plt.plot(Ks,accuracy_his)\n",
    "plt.show()\n",
    "print('best_K =',best_K)"
   ]
  },
  {
   "cell_type": "code",
   "execution_count": 12,
   "metadata": {},
   "outputs": [
    {
     "name": "stdout",
     "output_type": "stream",
     "text": [
      "accuracy = 0.8395\n",
      "true pos = 760\n",
      "false pos = 80\n",
      "false neg = 241\n",
      "true neg= 919\n",
      "F1 = 0.8256382400869094\n"
     ]
    }
   ],
   "source": [
    "true_pos=0\n",
    "true_neg=0\n",
    "false_pos=0\n",
    "false_neg=0\n",
    "\n",
    "for i in range(num_val):\n",
    "    u=ui_val[i]\n",
    "    b=bi_val[i]\n",
    "    real=y_val[i]\n",
    "\n",
    "    nku=nearest_k_user(u,best_K)\n",
    "    bi_list=[]\n",
    "    for nu in nku:\n",
    "        bi_list+=user_business[nu]\n",
    "\n",
    "    predict=b in bi_list\n",
    "        \n",
    "    if predict==1 and real==1:\n",
    "        true_pos+=1\n",
    "    elif predict==1 and real==0:\n",
    "        false_pos+=1\n",
    "    elif predict==0 and real==1:\n",
    "        false_neg+=1\n",
    "    elif predict==0 and real==0:\n",
    "        true_neg+=1\n",
    "print('accuracy =',(true_pos+true_neg)/num_val)\n",
    "print('true pos =',true_pos)\n",
    "print('false pos =',false_pos)\n",
    "print('false neg =',false_neg)\n",
    "print('true neg=',true_neg)\n",
    "pp=true_pos/(true_pos+false_pos)\n",
    "rr=true_pos/(true_pos+false_neg)\n",
    "print('F1 =',(2.0*pp*rr)/(pp+rr))"
   ]
  },
  {
   "cell_type": "code",
   "execution_count": 17,
   "metadata": {},
   "outputs": [
    {
     "name": "stdout",
     "output_type": "stream",
     "text": [
      "63 11 39926\n"
     ]
    }
   ],
   "source": [
    "test_file=open('data/pairs_Visit.txt')\n",
    "fo=open('data/pairs_Visit_out3.txt','w')\n",
    "fo.write('userID-businessID,prediction\\n')\n",
    "c1=0\n",
    "c2=0\n",
    "c3=0\n",
    "for line in test_file:\n",
    "    if line == 'userID-businessID,prediction\\n':\n",
    "        continue\n",
    "    [u,b]=line.strip().split('-')\n",
    "    if u not in user_index or b not in buss_index:\n",
    "        predict=random.randint(0,1)\n",
    "        fo.write('%s-%s,%d\\n' %(u,b,predict))\n",
    "        c1+=1\n",
    "    elif buss_index[b] in user_business[user_index[u]]:\n",
    "        fo.write('%s-%s,1\\n' %(u,b))\n",
    "        c2+=1\n",
    "    else:\n",
    "        ui=user_index[u]\n",
    "        bi=buss_index[b]\n",
    "\n",
    "#         nku=nearest_k_user(ui,best_K)\n",
    "        nku=nearest_k_user(ui,300)\n",
    "        bi_list=[]\n",
    "        for nu in nku:\n",
    "            bi_list+=user_business[nu]\n",
    "\n",
    "        predict=bi in bi_list\n",
    "                \n",
    "        fo.write('%s-%s,%d\\n' %(u,b,predict))\n",
    "        c3+=1\n",
    "fo.close()\n",
    "print(c1,c2,c3)"
   ]
  },
  {
   "cell_type": "code",
   "execution_count": null,
   "metadata": {
    "collapsed": true
   },
   "outputs": [],
   "source": []
  }
 ],
 "metadata": {
  "kernelspec": {
   "display_name": "Python 3",
   "language": "python",
   "name": "python3"
  },
  "language_info": {
   "codemirror_mode": {
    "name": "ipython",
    "version": 3
   },
   "file_extension": ".py",
   "mimetype": "text/x-python",
   "name": "python",
   "nbconvert_exporter": "python",
   "pygments_lexer": "ipython3",
   "version": "3.6.2"
  }
 },
 "nbformat": 4,
 "nbformat_minor": 2
}
