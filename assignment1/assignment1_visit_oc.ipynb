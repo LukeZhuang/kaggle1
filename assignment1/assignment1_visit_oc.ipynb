{
 "cells": [
  {
   "cell_type": "code",
   "execution_count": 1,
   "metadata": {},
   "outputs": [
    {
     "name": "stdout",
     "output_type": "stream",
     "text": [
      "ok\n"
     ]
    }
   ],
   "source": [
    "import numpy as np\n",
    "import matplotlib.pyplot as plt\n",
    "import math\n",
    "import gzip\n",
    "import random\n",
    "import time\n",
    "import matplotlib.pyplot as plt\n",
    "\n",
    "def readGz(f):\n",
    "    for l in gzip.open(f):\n",
    "        yield eval(l)\n",
    "print('ok')"
   ]
  },
  {
   "cell_type": "code",
   "execution_count": 2,
   "metadata": {},
   "outputs": [
    {
     "name": "stdout",
     "output_type": "stream",
     "text": [
      "{'rating': 5.0, 'businessID': 'B408037852', 'reviewText': \"This is where i go to shop for gifts from my mom. She loves this stuff. Cna't get enough. I like that you can customize the items. Store is well alid out and shoppable.\", 'userID': 'U093387342', 'reviewTime': 'Mar 24, 2013', 'categories': [\"Women's Clothing Store\", 'Fashion Accessories Store', 'Shoe Store'], 'reviewHash': 'R471510664', 'unixReviewTime': 1364143460}\n",
      "{'rating': 5.0, 'businessID': 'B410583770', 'reviewText': \"Quaint, stylish atmosphere in a small place right off South Congress. The food and service were great. It's pricey, but the happy hour deals are considerable. Great for a date!\", 'userID': 'U637588426', 'reviewTime': 'Sep 21, 2011', 'categories': ['Italian Restaurant', 'European Restaurant'], 'reviewHash': 'R954562590', 'unixReviewTime': 1316616175}\n",
      "{'rating': 4.0, 'businessID': 'B423621081', 'reviewText': \"I'm a vegetarian, but every so often I want a hotdog with lots of toppings.  And a tall can of beer.  Frank has got that covered.  And they have a cool warehouse space with some pinball machines.  Prices are a little high for hotdogs...fancy hotdogs, but hotdogs nonetheless.  Good location and service, but gets crowded and loud.\", 'userID': 'U985379327', 'reviewTime': 'Sep 10, 2013', 'categories': ['American Restaurant', 'Cafe', 'Hot Dog Restaurant'], 'reviewHash': 'R567271252', 'unixReviewTime': 1378865039, 'categoryID': 0}\n",
      "{'rating': 3.0, 'businessID': 'B088348224', 'reviewText': 'Small, Boring, waste of money, not worth the drive. If you happen to be at the park for something else is the only time worth going.', 'userID': 'U189370087', 'reviewTime': 'Nov 19, 2012', 'categories': ['Park', 'Garden', 'Garden Center'], 'reviewHash': 'R357632647', 'unixReviewTime': 1353384745}\n",
      "{'rating': 3.0, 'businessID': 'B611740995', 'reviewText': 'While burgers may be the thing here, this beef joint happens to serve up the best salads in town. As for the burgers, usually two napkins will do just fine.', 'userID': 'U985118747', 'reviewTime': 'Jan 22, 2013', 'categories': ['Hamburger Restaurant'], 'reviewHash': 'R067705866', 'unixReviewTime': 1358899200}\n"
     ]
    }
   ],
   "source": [
    "cnt=0\n",
    "for l in readGz(\"data/train.json.gz\"):\n",
    "    print(l)\n",
    "    cnt+=1\n",
    "    if cnt>=5:\n",
    "        break"
   ]
  },
  {
   "cell_type": "code",
   "execution_count": 3,
   "metadata": {},
   "outputs": [
    {
     "name": "stdout",
     "output_type": "stream",
     "text": [
      "18793 21321\n",
      "ok\n"
     ]
    }
   ],
   "source": [
    "users=[]\n",
    "bussiness=[]\n",
    "for l in readGz(\"data/train.json.gz\"):\n",
    "    u=l['userID']\n",
    "    b=l['businessID']\n",
    "    users.append(u)\n",
    "    bussiness.append(b)\n",
    "    \n",
    "user_set=set(users)\n",
    "buss_set=set(bussiness)\n",
    "\n",
    "Nu=len(user_set)  # 18793\n",
    "Nb=len(buss_set)  # 21321\n",
    "\n",
    "user_index={}\n",
    "buss_index={}\n",
    "\n",
    "for (i,u) in enumerate(user_set):\n",
    "    user_index[u]=i\n",
    "for (i,b) in enumerate(buss_set):\n",
    "    buss_index[b]=i\n",
    "print(Nu,Nb)\n",
    "print('ok')"
   ]
  },
  {
   "cell_type": "code",
   "execution_count": 4,
   "metadata": {},
   "outputs": [
    {
     "name": "stdout",
     "output_type": "stream",
     "text": [
      "ok\n"
     ]
    }
   ],
   "source": [
    "num_train=199000\n",
    "\n",
    "user_business={}\n",
    "y=np.zeros((Nu,Nb),dtype=np.bool_)\n",
    "\n",
    "ui_val=[]\n",
    "bi_val=[]\n",
    "y_val=[]\n",
    "\n",
    "i=0\n",
    "for l in readGz(\"data/train.json.gz\"):\n",
    "    u=user_index[l['userID']]\n",
    "    b=buss_index[l['businessID']]\n",
    "    if i<num_train:\n",
    "        y[u,b]=1\n",
    "        if u in user_business:\n",
    "            user_business[u].append(b)\n",
    "        else:\n",
    "            user_business[u]=[b]\n",
    "    else:\n",
    "        ui_val.append(u)\n",
    "        bi_val.append(b)\n",
    "        y_val.append(1)\n",
    "    i+=1\n",
    "print('ok')"
   ]
  },
  {
   "cell_type": "code",
   "execution_count": 5,
   "metadata": {},
   "outputs": [
    {
     "name": "stdout",
     "output_type": "stream",
     "text": [
      "ok\n"
     ]
    }
   ],
   "source": [
    "for (u,b_list) in user_business.items():\n",
    "    user_business[u]=np.array(b_list)\n",
    "print('ok')"
   ]
  },
  {
   "cell_type": "code",
   "execution_count": 6,
   "metadata": {},
   "outputs": [
    {
     "name": "stdout",
     "output_type": "stream",
     "text": [
      "(2000,)\n",
      "(2000,)\n",
      "1000\n"
     ]
    }
   ],
   "source": [
    "num_val=(len(users)-num_train)*2\n",
    "ui_val_first=np.array(ui_val)\n",
    "bi_val_first=np.array(bi_val)\n",
    "ui_val_second=np.random.randint(Nu,size=(num_val//2,))\n",
    "bi_val_second=np.random.randint(Nb,size=(num_val//2,))\n",
    "for i in range(ui_val_second.shape[0]):\n",
    "    y_val.append(bi_val_second[i] in user_business[ui_val_second[i]])\n",
    "ui_val=np.concatenate((ui_val_first,ui_val_second))\n",
    "bi_val=np.concatenate((bi_val_first,bi_val_second))\n",
    "y_val=np.array(y_val)\n",
    "print(ui_val.shape)\n",
    "print(bi_val.shape)\n",
    "print(np.sum(y_val))"
   ]
  },
  {
   "cell_type": "code",
   "execution_count": 7,
   "metadata": {
    "scrolled": false
   },
   "outputs": [
    {
     "name": "stdout",
     "output_type": "stream",
     "text": [
      "2017-11-19 21:27:08 iter 1, sample_loss=-10002748.9215577506 accuracy_train=78.89% accuracy_val=46.90%\n",
      "2017-11-19 21:38:38 iter 50, sample_loss=-2679445.3177853995 accuracy_train=75.55% accuracy_val=51.05%\n",
      "2017-11-19 21:50:19 iter 100, sample_loss=-1782760.8763799099 accuracy_train=75.82% accuracy_val=51.40%\n",
      "2017-11-19 22:01:27 iter 150, sample_loss=-1192382.3966934686 accuracy_train=76.15% accuracy_val=52.30%\n",
      "2017-11-19 22:12:43 iter 200, sample_loss=-798497.8196469885 accuracy_train=76.82% accuracy_val=52.65%\n",
      "2017-11-19 22:24:07 iter 250, sample_loss=-535648.1537317609 accuracy_train=77.64% accuracy_val=52.90%\n",
      "2017-11-19 22:35:27 iter 300, sample_loss=-360802.6648145415 accuracy_train=78.84% accuracy_val=52.95%\n",
      "2017-11-19 22:45:40 iter 350, sample_loss=-246517.8950291722 accuracy_train=80.61% accuracy_val=54.40%\n",
      "2017-11-19 22:56:07 iter 400, sample_loss=-173285.6497721256 accuracy_train=83.00% accuracy_val=55.65%\n",
      "2017-11-19 23:07:24 iter 450, sample_loss=-128637.5881260449 accuracy_train=85.82% accuracy_val=59.10%\n",
      "2017-11-19 23:18:50 iter 500, sample_loss=-101819.3339057538 accuracy_train=88.63% accuracy_val=62.65%\n",
      "2017-11-19 23:30:06 iter 550, sample_loss=-85957.4283172630 accuracy_train=91.01% accuracy_val=67.45%\n",
      "2017-11-19 23:41:23 iter 600, sample_loss=-76733.4163924464 accuracy_train=92.72% accuracy_val=72.75%\n",
      "2017-11-19 23:52:17 iter 650, sample_loss=-70542.0485236296 accuracy_train=93.78% accuracy_val=77.05%\n",
      "2017-11-20 00:03:24 iter 700, sample_loss=-66158.0905657530 accuracy_train=94.42% accuracy_val=79.80%\n",
      "2017-11-20 00:14:35 iter 750, sample_loss=-63251.1368741033 accuracy_train=94.63% accuracy_val=83.15%\n",
      "2017-11-20 00:25:58 iter 800, sample_loss=-60715.9610053632 accuracy_train=94.72% accuracy_val=84.85%\n",
      "2017-11-20 00:37:06 iter 850, sample_loss=-59171.0690753158 accuracy_train=94.76% accuracy_val=86.25%\n",
      "2017-11-20 00:48:09 iter 900, sample_loss=-57785.2366009752 accuracy_train=94.66% accuracy_val=87.15%\n",
      "2017-11-20 00:59:12 iter 950, sample_loss=-56795.2556382335 accuracy_train=94.50% accuracy_val=88.10%\n",
      "2017-11-20 01:10:04 iter 1000, sample_loss=-55745.0991176134 accuracy_train=94.44% accuracy_val=88.80%\n",
      "2017-11-20 01:20:33 iter 1050, sample_loss=-55146.0395585093 accuracy_train=94.38% accuracy_val=89.25%\n",
      "2017-11-20 01:31:02 iter 1100, sample_loss=-54316.2552821203 accuracy_train=94.32% accuracy_val=89.60%\n",
      "2017-11-20 01:41:32 iter 1150, sample_loss=-53918.8360335263 accuracy_train=94.22% accuracy_val=89.80%\n",
      "2017-11-20 01:52:01 iter 1200, sample_loss=-53454.4429357324 accuracy_train=94.30% accuracy_val=90.05%\n",
      "2017-11-20 02:02:31 iter 1250, sample_loss=-52968.5804201093 accuracy_train=94.27% accuracy_val=90.45%\n",
      "2017-11-20 02:13:00 iter 1300, sample_loss=-52811.2623579376 accuracy_train=94.23% accuracy_val=90.50%\n",
      "2017-11-20 02:23:28 iter 1350, sample_loss=-52697.6921692668 accuracy_train=94.12% accuracy_val=90.55%\n",
      "2017-11-20 02:33:59 iter 1400, sample_loss=-52399.6709952874 accuracy_train=94.17% accuracy_val=90.80%\n",
      "2017-11-20 02:44:27 iter 1450, sample_loss=-52111.7262937097 accuracy_train=94.13% accuracy_val=90.90%\n",
      "2017-11-20 02:54:55 iter 1500, sample_loss=-52057.8858209324 accuracy_train=94.22% accuracy_val=90.80%\n",
      "2017-11-20 03:05:25 iter 1550, sample_loss=-51882.1851154852 accuracy_train=94.14% accuracy_val=91.10%\n",
      "2017-11-20 03:15:56 iter 1600, sample_loss=-51838.3001774054 accuracy_train=94.08% accuracy_val=91.05%\n",
      "2017-11-20 03:26:26 iter 1650, sample_loss=-51596.1599187192 accuracy_train=94.13% accuracy_val=91.00%\n",
      "2017-11-20 03:36:58 iter 1700, sample_loss=-51513.6976248623 accuracy_train=94.14% accuracy_val=91.30%\n",
      "2017-11-20 03:47:28 iter 1750, sample_loss=-51461.3259397997 accuracy_train=94.12% accuracy_val=91.20%\n",
      "2017-11-20 03:57:57 iter 1800, sample_loss=-51383.8386810710 accuracy_train=94.09% accuracy_val=91.20%\n",
      "2017-11-20 04:08:25 iter 1850, sample_loss=-51002.6393996303 accuracy_train=94.08% accuracy_val=91.10%\n",
      "2017-11-20 04:18:58 iter 1900, sample_loss=-51098.6840713303 accuracy_train=94.20% accuracy_val=91.25%\n",
      "2017-11-20 04:29:27 iter 1950, sample_loss=-51178.0077803941 accuracy_train=94.07% accuracy_val=91.20%\n",
      "2017-11-20 04:39:57 iter 2000, sample_loss=-51083.8259130378 accuracy_train=94.13% accuracy_val=91.40%\n",
      "2017-11-20 04:50:28 iter 2050, sample_loss=-50906.4391377252 accuracy_train=94.14% accuracy_val=91.35%\n",
      "2017-11-20 05:00:57 iter 2100, sample_loss=-51039.2130292203 accuracy_train=94.03% accuracy_val=91.55%\n",
      "2017-11-20 05:11:27 iter 2150, sample_loss=-50759.7906996790 accuracy_train=94.12% accuracy_val=91.35%\n",
      "2017-11-20 05:21:58 iter 2200, sample_loss=-51080.2841606552 accuracy_train=94.10% accuracy_val=91.55%\n",
      "2017-11-20 05:32:29 iter 2250, sample_loss=-50630.7251414352 accuracy_train=94.18% accuracy_val=91.30%\n",
      "2017-11-20 05:43:01 iter 2300, sample_loss=-50910.0606871791 accuracy_train=94.16% accuracy_val=91.60%\n",
      "2017-11-20 05:53:31 iter 2350, sample_loss=-50520.0129288895 accuracy_train=94.23% accuracy_val=91.60%\n",
      "2017-11-20 06:04:01 iter 2400, sample_loss=-50506.7214078547 accuracy_train=94.20% accuracy_val=91.55%\n",
      "2017-11-20 06:14:31 iter 2450, sample_loss=-50411.0575967970 accuracy_train=94.23% accuracy_val=91.25%\n",
      "2017-11-20 06:25:00 iter 2500, sample_loss=-50462.2024042518 accuracy_train=94.26% accuracy_val=91.05%\n",
      "2017-11-20 06:35:30 iter 2550, sample_loss=-50559.2140850790 accuracy_train=94.16% accuracy_val=91.05%\n",
      "2017-11-20 06:46:02 iter 2600, sample_loss=-50496.3747345109 accuracy_train=94.18% accuracy_val=91.35%\n",
      "2017-11-20 06:56:35 iter 2650, sample_loss=-50274.2087747854 accuracy_train=94.30% accuracy_val=91.65%\n",
      "2017-11-20 07:07:05 iter 2700, sample_loss=-50430.4094545855 accuracy_train=94.21% accuracy_val=91.35%\n",
      "2017-11-20 07:17:35 iter 2750, sample_loss=-50641.4304787851 accuracy_train=94.14% accuracy_val=91.40%\n",
      "2017-11-20 07:28:07 iter 2800, sample_loss=-50317.1340223343 accuracy_train=94.29% accuracy_val=91.30%\n",
      "2017-11-20 07:38:38 iter 2850, sample_loss=-50382.7111704611 accuracy_train=94.23% accuracy_val=91.40%\n",
      "2017-11-20 07:49:10 iter 2900, sample_loss=-50286.8501451503 accuracy_train=94.24% accuracy_val=91.15%\n",
      "2017-11-20 07:59:40 iter 2950, sample_loss=-50505.3406730077 accuracy_train=94.26% accuracy_val=91.30%\n",
      "2017-11-20 08:10:12 iter 3000, sample_loss=-50324.6959990206 accuracy_train=94.19% accuracy_val=91.40%\n",
      "2017-11-20 08:20:44 iter 3050, sample_loss=-50372.2377411085 accuracy_train=94.24% accuracy_val=91.65%\n",
      "2017-11-20 08:31:11 iter 3100, sample_loss=-50054.4427326467 accuracy_train=94.39% accuracy_val=91.60%\n",
      "2017-11-20 08:41:28 iter 3150, sample_loss=-50350.7827385152 accuracy_train=94.29% accuracy_val=91.25%\n",
      "2017-11-20 08:51:44 iter 3200, sample_loss=-50354.9194536915 accuracy_train=94.25% accuracy_val=91.45%\n",
      "2017-11-20 09:02:06 iter 3250, sample_loss=-50254.2086801686 accuracy_train=94.25% accuracy_val=91.35%\n",
      "2017-11-20 09:12:39 iter 3300, sample_loss=-50049.0463406412 accuracy_train=94.28% accuracy_val=91.35%\n",
      "2017-11-20 09:23:09 iter 3350, sample_loss=-50223.5624827187 accuracy_train=94.26% accuracy_val=91.35%\n",
      "2017-11-20 09:33:40 iter 3400, sample_loss=-50279.3657986253 accuracy_train=94.31% accuracy_val=91.30%\n",
      "2017-11-20 09:44:16 iter 3450, sample_loss=-50195.6410022701 accuracy_train=94.27% accuracy_val=91.40%\n",
      "2017-11-20 09:55:41 iter 3500, sample_loss=-50136.8464735496 accuracy_train=94.32% accuracy_val=91.50%\n",
      "2017-11-20 10:06:50 iter 3550, sample_loss=-50038.9969140686 accuracy_train=94.28% accuracy_val=91.40%\n",
      "2017-11-20 10:17:47 iter 3600, sample_loss=-50492.8578869703 accuracy_train=94.22% accuracy_val=91.45%\n",
      "2017-11-20 10:28:43 iter 3650, sample_loss=-50305.5926756561 accuracy_train=94.31% accuracy_val=91.45%\n",
      "2017-11-20 10:39:35 iter 3700, sample_loss=-49834.4202110526 accuracy_train=94.36% accuracy_val=91.40%\n",
      "2017-11-20 10:50:28 iter 3750, sample_loss=-50105.4184074063 accuracy_train=94.23% accuracy_val=91.40%\n",
      "2017-11-20 11:01:22 iter 3800, sample_loss=-50030.8793132551 accuracy_train=94.29% accuracy_val=91.50%\n",
      "2017-11-20 11:12:27 iter 3850, sample_loss=-49955.0266365786 accuracy_train=94.29% accuracy_val=91.40%\n",
      "2017-11-20 11:23:23 iter 3900, sample_loss=-50130.0606410040 accuracy_train=94.28% accuracy_val=91.30%\n",
      "2017-11-20 11:34:25 iter 3950, sample_loss=-50090.0841632609 accuracy_train=94.27% accuracy_val=91.35%\n"
     ]
    },
    {
     "name": "stdout",
     "output_type": "stream",
     "text": [
      "2017-11-20 11:45:25 iter 4000, sample_loss=-49758.9663221213 accuracy_train=94.34% accuracy_val=91.25%\n",
      "2017-11-20 11:56:02 iter 4050, sample_loss=-49872.6539354359 accuracy_train=94.39% accuracy_val=91.35%\n",
      "2017-11-20 12:06:57 iter 4100, sample_loss=-50321.1379691580 accuracy_train=94.33% accuracy_val=91.35%\n",
      "2017-11-20 12:17:45 iter 4150, sample_loss=-50277.6014237085 accuracy_train=94.24% accuracy_val=91.45%\n",
      "2017-11-20 12:28:38 iter 4200, sample_loss=-49929.0337522031 accuracy_train=94.23% accuracy_val=91.30%\n",
      "2017-11-20 12:41:03 iter 4250, sample_loss=-49997.9062711962 accuracy_train=94.31% accuracy_val=91.50%\n",
      "2017-11-20 12:52:20 iter 4300, sample_loss=-50073.4532891261 accuracy_train=94.39% accuracy_val=91.50%\n",
      "2017-11-20 13:03:15 iter 4350, sample_loss=-49980.4465366953 accuracy_train=94.20% accuracy_val=91.45%\n",
      "2017-11-20 13:14:19 iter 4400, sample_loss=-50097.1340978924 accuracy_train=94.24% accuracy_val=91.30%\n",
      "2017-11-20 13:25:29 iter 4450, sample_loss=-50131.8087683449 accuracy_train=94.30% accuracy_val=91.30%\n",
      "2017-11-20 13:36:40 iter 4500, sample_loss=-50048.9879089381 accuracy_train=94.31% accuracy_val=91.30%\n",
      "2017-11-20 13:47:51 iter 4550, sample_loss=-49807.0353406201 accuracy_train=94.33% accuracy_val=91.25%\n",
      "2017-11-20 13:59:04 iter 4600, sample_loss=-50055.9260776892 accuracy_train=94.38% accuracy_val=91.10%\n",
      "2017-11-20 14:10:19 iter 4650, sample_loss=-49969.0566007548 accuracy_train=94.24% accuracy_val=91.20%\n",
      "2017-11-20 14:21:31 iter 4700, sample_loss=-49872.6453548540 accuracy_train=94.27% accuracy_val=90.95%\n",
      "2017-11-20 14:32:42 iter 4750, sample_loss=-49739.1598997540 accuracy_train=94.40% accuracy_val=91.10%\n",
      "2017-11-20 14:43:54 iter 4800, sample_loss=-49809.0819354267 accuracy_train=94.35% accuracy_val=91.10%\n",
      "2017-11-20 14:55:05 iter 4850, sample_loss=-49986.5843265472 accuracy_train=94.33% accuracy_val=91.15%\n",
      "2017-11-20 15:06:18 iter 4900, sample_loss=-49967.8504281921 accuracy_train=94.31% accuracy_val=90.90%\n",
      "2017-11-20 15:17:35 iter 4950, sample_loss=-50086.4761936288 accuracy_train=94.34% accuracy_val=91.20%\n",
      "2017-11-20 15:29:11 iter 5000, sample_loss=-49941.5652953658 accuracy_train=94.32% accuracy_val=91.20%\n"
     ]
    }
   ],
   "source": [
    "K=400\n",
    "weight_scale=1\n",
    "max_iter=5000\n",
    "print_every=50\n",
    "batch_size_user=3000\n",
    "batch_size_buss_pair=200\n",
    "learning_rate=1e-2\n",
    "lamb=4e-1\n",
    "\n",
    "def sample():\n",
    "    u_index=np.random.randint(Nu,size=batch_size_user)\n",
    "    b_index=[]\n",
    "    for u in u_index:\n",
    "        this_b_list=[]\n",
    "        b0_index=np.random.choice(np.where(y[u,:]==0)[0],batch_size_buss_pair)\n",
    "        b1_index=np.random.choice(np.where(y[u,:]==1)[0],batch_size_buss_pair)\n",
    "        b_index.append((b0_index,b1_index))\n",
    "    return list(u_index),b_index\n",
    "\n",
    "gamma_u=np.random.randn(Nu,K)*weight_scale\n",
    "gamma_b=np.random.randn(Nb,K)*weight_scale\n",
    "\n",
    "def sigmoid(x):\n",
    "    return 1.0/(1.0+np.exp(-x))\n",
    "\n",
    "sample_loss_his=[]\n",
    "accuracy_val_his=[]\n",
    "accuracy_train_his=[]\n",
    "\n",
    "for it in range(max_iter):\n",
    "    sample_loss=0\n",
    "    \n",
    "    dgamma_u=np.zeros_like(gamma_u)\n",
    "    dgamma_b=np.zeros_like(gamma_b)\n",
    "    \n",
    "    u_index,b_index=sample()\n",
    "    \n",
    "    for (i,u) in enumerate(u_index):\n",
    "        b0_index,b1_index=b_index[i]\n",
    "        for j in range(batch_size_buss_pair):\n",
    "            b0=b0_index[j]\n",
    "            b1=b1_index[j]\n",
    "            temp=sigmoid(np.inner(gamma_u[u,:],gamma_b[b1,:])-np.inner(gamma_u[u,:],gamma_b[b0,:]))\n",
    "            sample_loss+=np.log(temp)\n",
    "            dgamma_u[u,:]+=(1.0-temp)*(gamma_b[b1,:]-gamma_b[b0,:])\n",
    "            dgamma_b[b1,:]+=(1.0-temp)*gamma_u[u,:]\n",
    "            dgamma_b[b0,:]-=(1.0-temp)*gamma_u[u,:]\n",
    "            \n",
    "    sample_loss-=0.5*lamb*(np.sum(np.square(gamma_u))+np.sum(np.square(gamma_b)))\n",
    "    dgamma_u-=lamb*gamma_u\n",
    "    dgamma_b-=lamb*gamma_b\n",
    "    \n",
    "    gamma_u+=learning_rate*dgamma_u\n",
    "    gamma_b+=learning_rate*dgamma_b\n",
    "    \n",
    "    sample_loss_his.append(sample_loss)\n",
    "    \n",
    "    if it==0 or (it+1)%print_every==0:\n",
    "        accuracy_train=0\n",
    "        for (i,u) in enumerate(u_index):\n",
    "            b0_index,b1_index=b_index[i]\n",
    "            for j in range(batch_size_buss_pair):\n",
    "                b0=b0_index[j]\n",
    "                b1=b1_index[j]\n",
    "                predict0=sigmoid(np.inner(gamma_u[u,:],gamma_b[b0,:]))>0.6\n",
    "                predict1=sigmoid(np.inner(gamma_u[u,:],gamma_b[b1,:]))>0.6\n",
    "                if predict0==0:\n",
    "                    accuracy_train+=1\n",
    "                if predict1==1:\n",
    "                    accuracy_train+=1\n",
    "        accuracy_train=100.0*accuracy_train/(batch_size_user*batch_size_buss_pair*2)\n",
    "        accuracy_train_his.append(accuracy_train)\n",
    "        accuracy_val=0\n",
    "        for i in range(num_val):\n",
    "            predict=sigmoid(np.inner(gamma_u[ui_val[i],:],gamma_b[bi_val[i],:]))>0.6\n",
    "            if predict==y_val[i]:\n",
    "                accuracy_val+=1\n",
    "        accuracy_val=100.0*accuracy_val/num_val\n",
    "        accuracy_val_his.append(accuracy_val)\n",
    "        print(time.strftime('%Y-%m-%d %H:%M:%S',time.localtime(time.time())),\n",
    "              'iter %d, sample_loss=%.10f accuracy_train=%.2f%% accuracy_val=%.2f%%' %(it+1,sample_loss,accuracy_train,accuracy_val))"
   ]
  },
  {
   "cell_type": "code",
   "execution_count": 8,
   "metadata": {},
   "outputs": [
    {
     "data": {
      "image/png": "[encoded data removed]",
      "text/plain": [
       "<matplotlib.figure.Figure at 0x26050773ac8>"
      ]
     },
     "metadata": {},
     "output_type": "display_data"
    },
    {
     "data": {
      "image/png": "[encoded data removed]",
      "text/plain": [
       "<matplotlib.figure.Figure at 0x260059b4cf8>"
      ]
     },
     "metadata": {},
     "output_type": "display_data"
    }
   ],
   "source": [
    "plt.plot(range(max_iter),sample_loss_his,'b-')\n",
    "plt.show()\n",
    "plt.plot(range(max_iter//print_every+1),accuracy_train_his,'r-')\n",
    "plt.plot(range(max_iter//print_every+1),accuracy_val_his,'b-')\n",
    "plt.show()"
   ]
  },
  {
   "cell_type": "code",
   "execution_count": 9,
   "metadata": {},
   "outputs": [
    {
     "name": "stdout",
     "output_type": "stream",
     "text": [
      "[[-0.0745202  -0.10263462  0.00888352 ..., -0.26618451  0.07090118\n",
      "  -0.13659933]\n",
      " [ 0.16455313 -0.21634866  0.06740073 ..., -0.09269068  0.02575906\n",
      "   0.10545235]\n",
      " [ 0.0309657   0.10881139  0.13402902 ...,  0.05412258  0.02863497\n",
      "   0.16870759]\n",
      " ..., \n",
      " [-0.14155444 -0.03809193  0.05777469 ...,  0.10545941  0.02863503\n",
      "  -0.0512491 ]\n",
      " [-0.08136837  0.08537868 -0.05052745 ...,  0.03855905  0.11823837\n",
      "  -0.11614353]\n",
      " [-0.00343077 -0.08640731 -0.17526952 ..., -0.00838396  0.11303989\n",
      "  -0.05885863]]\n",
      "[[-0.07175429  0.02946103 -0.07692133 ..., -0.10819634  0.09127723\n",
      "  -0.06476724]\n",
      " [-0.05872598 -0.04077065  0.02233326 ..., -0.11032066 -0.03432015\n",
      "   0.01952849]\n",
      " [ 0.06115277 -0.03712453 -0.04355656 ..., -0.12920506 -0.00524055\n",
      "  -0.08568892]\n",
      " ..., \n",
      " [-0.12294304  0.18899499 -0.05913857 ...,  0.0453051  -0.03797643\n",
      "  -0.11730093]\n",
      " [-0.02489864  0.19047875  0.32606937 ...,  0.0144063   0.25795151\n",
      "   0.05220536]\n",
      " [ 0.35019166 -0.27303258  0.1293273  ..., -0.01953249 -0.04224335\n",
      "   0.07371407]]\n",
      "0.970388564591\n",
      "True\n",
      "0.518299266531\n",
      "True\n",
      "0.519943512735\n",
      "True\n"
     ]
    }
   ],
   "source": [
    "print(gamma_u)\n",
    "print(gamma_b)\n",
    "def predict_y(u,b):\n",
    "    print(sigmoid(np.inner(gamma_u[u,:],gamma_b[b,:])))\n",
    "    return sigmoid(np.inner(gamma_u[u,:],gamma_b[b,:]))>0.5\n",
    "\n",
    "print(predict_y(user_index['U093387342'],buss_index['B408037852']))  # train +\n",
    "print(predict_y(user_index['U093387342'],buss_index['B410583770']))  # train -\n",
    "print(predict_y(user_index['U732361363'],buss_index['B105995104']))  # test"
   ]
  },
  {
   "cell_type": "code",
   "execution_count": 10,
   "metadata": {},
   "outputs": [
    {
     "data": {
      "image/png": "[encoded data removed]",
      "text/plain": [
       "<matplotlib.figure.Figure at 0x260418a8208>"
      ]
     },
     "metadata": {},
     "output_type": "display_data"
    },
    {
     "name": "stdout",
     "output_type": "stream",
     "text": [
      "best bound = 0.633 max accuracy = 0.916\n"
     ]
    }
   ],
   "source": [
    "bound_list=np.linspace(0,1,1001)\n",
    "accuracy_his=[]\n",
    "max_accuracy=-1\n",
    "best_bound=-1\n",
    "for bound in bound_list:\n",
    "    accuracy=0\n",
    "    for i in range(num_val):\n",
    "        predict=sigmoid(np.inner(gamma_u[ui_val[i],:],gamma_b[bi_val[i],:]))>bound\n",
    "        accuracy+=1 if predict==y_val[i] else 0\n",
    "    accuracy/=num_val\n",
    "    if accuracy>max_accuracy:\n",
    "        max_accuracy=accuracy\n",
    "        best_bound=bound\n",
    "    accuracy_his.append(accuracy)\n",
    "plt.plot(bound_list,np.array(accuracy_his))\n",
    "plt.show()\n",
    "print('best bound =',best_bound,'max accuracy =',max_accuracy)"
   ]
  },
  {
   "cell_type": "code",
   "execution_count": 11,
   "metadata": {},
   "outputs": [
    {
     "name": "stdout",
     "output_type": "stream",
     "text": [
      "accuracy = 0.916\n",
      "true pos = 916\n",
      "false pos = 84\n",
      "false neg = 84\n",
      "true neg= 916\n",
      "F1 = 0.916\n"
     ]
    }
   ],
   "source": [
    "true_pos=0\n",
    "true_neg=0\n",
    "false_pos=0\n",
    "false_neg=0\n",
    "\n",
    "for i in range(num_val):\n",
    "    ui=ui_val[i]\n",
    "    bi=bi_val[i]\n",
    "    real=y_val[i]\n",
    "    \n",
    "    predict=sigmoid(np.inner(gamma_u[ui,:],gamma_b[bi,:]))>best_bound\n",
    "        \n",
    "    if predict==1 and real==1:\n",
    "        true_pos+=1\n",
    "    elif predict==1 and real==0:\n",
    "        false_pos+=1\n",
    "    elif predict==0 and real==1:\n",
    "        false_neg+=1\n",
    "    elif predict==0 and real==0:\n",
    "        true_neg+=1\n",
    "print('accuracy =',(true_pos+true_neg)/num_val)\n",
    "print('true pos =',true_pos)\n",
    "print('false pos =',false_pos)\n",
    "print('false neg =',false_neg)\n",
    "print('true neg=',true_neg)\n",
    "pp=true_pos/(true_pos+false_pos)\n",
    "rr=true_pos/(true_pos+false_neg)\n",
    "print('F1 =',(2.0*pp*rr)/(pp+rr))"
   ]
  },
  {
   "cell_type": "code",
   "execution_count": 12,
   "metadata": {},
   "outputs": [
    {
     "name": "stdout",
     "output_type": "stream",
     "text": [
      "63 0 39937\n"
     ]
    }
   ],
   "source": [
    "test_file=open('data/pairs_Visit.txt')\n",
    "fo=open('data/pairs_Visit_out_4.txt','w')\n",
    "fo.write('userID-businessID,prediction\\n')\n",
    "c1=0\n",
    "c2=0\n",
    "c3=0\n",
    "for line in test_file:\n",
    "    if line == 'userID-businessID,prediction\\n':\n",
    "        continue\n",
    "    [u,b]=line.strip().split('-')\n",
    "    if u not in user_index or b not in buss_index:\n",
    "        predict=random.randint(0,1)\n",
    "        fo.write('%s-%s,%d\\n' %(u,b,predict))\n",
    "        c1+=1\n",
    "    else:\n",
    "        ui=user_index[u]\n",
    "        bi=buss_index[b]\n",
    "\n",
    "        predict=sigmoid(np.inner(gamma_u[ui,:],gamma_b[bi,:]))>best_bound\n",
    "                \n",
    "        fo.write('%s-%s,%d\\n' %(u,b,predict))\n",
    "        c3+=1\n",
    "fo.close()\n",
    "print(c1,c2,c3)"
   ]
  },
  {
   "cell_type": "code",
   "execution_count": null,
   "metadata": {
    "collapsed": true
   },
   "outputs": [],
   "source": []
  }
 ],
 "metadata": {
  "kernelspec": {
   "display_name": "Python 3",
   "language": "python",
   "name": "python3"
  },
  "language_info": {
   "codemirror_mode": {
    "name": "ipython",
    "version": 3
   },
   "file_extension": ".py",
   "mimetype": "text/x-python",
   "name": "python",
   "nbconvert_exporter": "python",
   "pygments_lexer": "ipython3",
   "version": "3.6.2"
  }
 },
 "nbformat": 4,
 "nbformat_minor": 2
}
