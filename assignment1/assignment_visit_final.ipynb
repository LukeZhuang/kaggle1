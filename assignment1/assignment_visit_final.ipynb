{
 "cells": [
  {
   "cell_type": "code",
   "execution_count": 1,
   "metadata": {},
   "outputs": [
    {
     "name": "stdout",
     "output_type": "stream",
     "text": [
      "ok\n"
     ]
    }
   ],
   "source": [
    "import numpy as np\n",
    "import matplotlib.pyplot as plt\n",
    "import math\n",
    "import gzip\n",
    "import random\n",
    "import time\n",
    "import matplotlib.pyplot as plt\n",
    "\n",
    "def readGz(f):\n",
    "    for l in gzip.open(f):\n",
    "        yield eval(l)\n",
    "print('ok')"
   ]
  },
  {
   "cell_type": "code",
   "execution_count": 2,
   "metadata": {},
   "outputs": [
    {
     "name": "stdout",
     "output_type": "stream",
     "text": [
      "{'rating': 5.0, 'businessID': 'B408037852', 'reviewText': \"This is where i go to shop for gifts from my mom. She loves this stuff. Cna't get enough. I like that you can customize the items. Store is well alid out and shoppable.\", 'userID': 'U093387342', 'reviewTime': 'Mar 24, 2013', 'categories': [\"Women's Clothing Store\", 'Fashion Accessories Store', 'Shoe Store'], 'reviewHash': 'R471510664', 'unixReviewTime': 1364143460}\n",
      "{'rating': 5.0, 'businessID': 'B410583770', 'reviewText': \"Quaint, stylish atmosphere in a small place right off South Congress. The food and service were great. It's pricey, but the happy hour deals are considerable. Great for a date!\", 'userID': 'U637588426', 'reviewTime': 'Sep 21, 2011', 'categories': ['Italian Restaurant', 'European Restaurant'], 'reviewHash': 'R954562590', 'unixReviewTime': 1316616175}\n",
      "{'rating': 4.0, 'businessID': 'B423621081', 'reviewText': \"I'm a vegetarian, but every so often I want a hotdog with lots of toppings.  And a tall can of beer.  Frank has got that covered.  And they have a cool warehouse space with some pinball machines.  Prices are a little high for hotdogs...fancy hotdogs, but hotdogs nonetheless.  Good location and service, but gets crowded and loud.\", 'userID': 'U985379327', 'reviewTime': 'Sep 10, 2013', 'categories': ['American Restaurant', 'Cafe', 'Hot Dog Restaurant'], 'reviewHash': 'R567271252', 'unixReviewTime': 1378865039, 'categoryID': 0}\n",
      "{'rating': 3.0, 'businessID': 'B088348224', 'reviewText': 'Small, Boring, waste of money, not worth the drive. If you happen to be at the park for something else is the only time worth going.', 'userID': 'U189370087', 'reviewTime': 'Nov 19, 2012', 'categories': ['Park', 'Garden', 'Garden Center'], 'reviewHash': 'R357632647', 'unixReviewTime': 1353384745}\n",
      "{'rating': 3.0, 'businessID': 'B611740995', 'reviewText': 'While burgers may be the thing here, this beef joint happens to serve up the best salads in town. As for the burgers, usually two napkins will do just fine.', 'userID': 'U985118747', 'reviewTime': 'Jan 22, 2013', 'categories': ['Hamburger Restaurant'], 'reviewHash': 'R067705866', 'unixReviewTime': 1358899200}\n"
     ]
    }
   ],
   "source": [
    "cnt=0\n",
    "for l in readGz(\"data/train.json.gz\"):\n",
    "    print(l)\n",
    "    cnt+=1\n",
    "    if cnt>=5:\n",
    "        break"
   ]
  },
  {
   "cell_type": "code",
   "execution_count": 3,
   "metadata": {},
   "outputs": [
    {
     "name": "stdout",
     "output_type": "stream",
     "text": [
      "18793 21321\n",
      "ok\n"
     ]
    }
   ],
   "source": [
    "users=[]\n",
    "bussiness=[]\n",
    "for l in readGz(\"data/train.json.gz\"):\n",
    "    u=l['userID']\n",
    "    b=l['businessID']\n",
    "    users.append(u)\n",
    "    bussiness.append(b)\n",
    "    \n",
    "user_set=set(users)\n",
    "buss_set=set(bussiness)\n",
    "\n",
    "Nu=len(user_set)  # 18793\n",
    "Nb=len(buss_set)  # 21321\n",
    "\n",
    "user_index={}\n",
    "buss_index={}\n",
    "\n",
    "for (i,u) in enumerate(user_set):\n",
    "    user_index[u]=i\n",
    "for (i,b) in enumerate(buss_set):\n",
    "    buss_index[b]=i\n",
    "print(Nu,Nb)\n",
    "print('ok')"
   ]
  },
  {
   "cell_type": "code",
   "execution_count": 4,
   "metadata": {},
   "outputs": [
    {
     "name": "stdout",
     "output_type": "stream",
     "text": [
      "ok\n"
     ]
    }
   ],
   "source": [
    "num_train=199000\n",
    "\n",
    "user_business={}\n",
    "y=np.zeros((Nu,Nb),dtype=np.bool_)\n",
    "\n",
    "ui_val=[]\n",
    "bi_val=[]\n",
    "y_val=[]\n",
    "\n",
    "i=0\n",
    "for l in readGz(\"data/train.json.gz\"):\n",
    "    u=user_index[l['userID']]\n",
    "    b=buss_index[l['businessID']]\n",
    "    if i<num_train:\n",
    "        y[u,b]=1\n",
    "        if u in user_business:\n",
    "            user_business[u].append(b)\n",
    "        else:\n",
    "            user_business[u]=[b]\n",
    "    else:\n",
    "        ui_val.append(u)\n",
    "        bi_val.append(b)\n",
    "        y_val.append(1)\n",
    "    i+=1\n",
    "print('ok')"
   ]
  },
  {
   "cell_type": "code",
   "execution_count": 5,
   "metadata": {},
   "outputs": [
    {
     "name": "stdout",
     "output_type": "stream",
     "text": [
      "ok\n"
     ]
    }
   ],
   "source": [
    "for (u,b_list) in user_business.items():\n",
    "    user_business[u]=np.array(b_list)\n",
    "print('ok')"
   ]
  },
  {
   "cell_type": "code",
   "execution_count": 6,
   "metadata": {},
   "outputs": [
    {
     "name": "stdout",
     "output_type": "stream",
     "text": [
      "(2000,)\n",
      "(2000,)\n",
      "1000\n"
     ]
    }
   ],
   "source": [
    "num_val=(len(users)-num_train)*2\n",
    "ui_val_first=np.array(ui_val)\n",
    "bi_val_first=np.array(bi_val)\n",
    "ui_val_second=np.random.randint(Nu,size=(num_val//2,))\n",
    "bi_val_second=np.random.randint(Nb,size=(num_val//2,))\n",
    "for i in range(ui_val_second.shape[0]):\n",
    "    y_val.append(bi_val_second[i] in user_business[ui_val_second[i]])\n",
    "ui_val=np.concatenate((ui_val_first,ui_val_second))\n",
    "bi_val=np.concatenate((bi_val_first,bi_val_second))\n",
    "y_val=np.array(y_val)\n",
    "print(ui_val.shape)\n",
    "print(bi_val.shape)\n",
    "print(np.sum(y_val))"
   ]
  },
  {
   "cell_type": "code",
   "execution_count": 7,
   "metadata": {},
   "outputs": [
    {
     "name": "stdout",
     "output_type": "stream",
     "text": [
      "2017-11-18 21:24:16 iter 1, sample_loss=-8249819.1404865477 accuracy_train=78.95% accuracy_val=51.35%\n",
      "2017-11-18 21:32:57 iter 50, sample_loss=-2389352.7110240590 accuracy_train=75.56% accuracy_val=51.60%\n",
      "2017-11-18 21:41:54 iter 100, sample_loss=-1590587.6192620203 accuracy_train=75.85% accuracy_val=52.20%\n",
      "2017-11-18 21:50:51 iter 150, sample_loss=-1063988.6934024764 accuracy_train=76.28% accuracy_val=51.95%\n",
      "2017-11-18 21:59:46 iter 200, sample_loss=-712805.4245873404 accuracy_train=76.88% accuracy_val=52.10%\n",
      "2017-11-18 22:08:43 iter 250, sample_loss=-478333.1360757722 accuracy_train=77.88% accuracy_val=52.15%\n",
      "2017-11-18 22:17:43 iter 300, sample_loss=-323187.4435247226 accuracy_train=79.21% accuracy_val=52.95%\n",
      "2017-11-18 22:26:26 iter 350, sample_loss=-221832.5611661528 accuracy_train=81.06% accuracy_val=53.40%\n",
      "2017-11-18 22:35:33 iter 400, sample_loss=-157868.7571376158 accuracy_train=83.61% accuracy_val=56.10%\n",
      "2017-11-18 22:45:05 iter 450, sample_loss=-118492.3775910341 accuracy_train=86.60% accuracy_val=58.90%\n",
      "2017-11-18 22:54:08 iter 500, sample_loss=-95128.7840470536 accuracy_train=89.47% accuracy_val=62.45%\n",
      "2017-11-18 23:02:57 iter 550, sample_loss=-81077.1019316522 accuracy_train=91.92% accuracy_val=67.05%\n",
      "2017-11-18 23:11:53 iter 600, sample_loss=-72088.2003484691 accuracy_train=93.57% accuracy_val=71.95%\n",
      "2017-11-18 23:20:50 iter 650, sample_loss=-66250.9680090481 accuracy_train=94.67% accuracy_val=75.95%\n",
      "2017-11-18 23:29:35 iter 700, sample_loss=-62079.9144253598 accuracy_train=95.21% accuracy_val=79.45%\n",
      "2017-11-18 23:38:09 iter 750, sample_loss=-59240.4347388127 accuracy_train=95.36% accuracy_val=82.05%\n",
      "2017-11-18 23:46:23 iter 800, sample_loss=-57251.9000800432 accuracy_train=95.35% accuracy_val=83.75%\n",
      "2017-11-18 23:54:36 iter 850, sample_loss=-55178.7463810314 accuracy_train=95.32% accuracy_val=85.50%\n",
      "2017-11-19 00:02:49 iter 900, sample_loss=-53862.7225245354 accuracy_train=95.18% accuracy_val=86.55%\n",
      "2017-11-19 00:11:15 iter 950, sample_loss=-52941.3826393995 accuracy_train=95.03% accuracy_val=87.90%\n",
      "2017-11-19 00:19:42 iter 1000, sample_loss=-52141.1950562658 accuracy_train=94.87% accuracy_val=88.40%\n",
      "2017-11-19 00:28:17 iter 1050, sample_loss=-51326.9223008873 accuracy_train=94.80% accuracy_val=89.05%\n",
      "2017-11-19 00:36:54 iter 1100, sample_loss=-50815.5356756934 accuracy_train=94.62% accuracy_val=89.50%\n",
      "2017-11-19 00:45:31 iter 1150, sample_loss=-50295.0524034641 accuracy_train=94.49% accuracy_val=89.75%\n",
      "2017-11-19 00:54:12 iter 1200, sample_loss=-49825.9570253539 accuracy_train=94.50% accuracy_val=90.00%\n",
      "2017-11-19 01:02:26 iter 1250, sample_loss=-49791.1196411973 accuracy_train=94.45% accuracy_val=89.85%\n",
      "2017-11-19 01:10:36 iter 1300, sample_loss=-49135.3268538037 accuracy_train=94.46% accuracy_val=89.70%\n",
      "2017-11-19 01:18:48 iter 1350, sample_loss=-49092.8015476143 accuracy_train=94.30% accuracy_val=90.05%\n",
      "2017-11-19 01:27:00 iter 1400, sample_loss=-48712.1080938192 accuracy_train=94.44% accuracy_val=90.15%\n",
      "2017-11-19 01:35:14 iter 1450, sample_loss=-48571.9049566403 accuracy_train=94.42% accuracy_val=90.15%\n",
      "2017-11-19 01:43:27 iter 1500, sample_loss=-48509.5196154547 accuracy_train=94.37% accuracy_val=90.45%\n",
      "2017-11-19 01:51:42 iter 1550, sample_loss=-48122.7280925979 accuracy_train=94.35% accuracy_val=89.95%\n",
      "2017-11-19 01:59:56 iter 1600, sample_loss=-48100.2027889722 accuracy_train=94.25% accuracy_val=90.15%\n",
      "2017-11-19 02:08:07 iter 1650, sample_loss=-48334.1647792022 accuracy_train=94.23% accuracy_val=90.25%\n",
      "2017-11-19 02:16:20 iter 1700, sample_loss=-48051.2057514746 accuracy_train=94.23% accuracy_val=90.20%\n",
      "2017-11-19 02:24:29 iter 1750, sample_loss=-47961.0268361292 accuracy_train=94.31% accuracy_val=90.50%\n",
      "2017-11-19 02:32:39 iter 1800, sample_loss=-47668.6366483968 accuracy_train=94.23% accuracy_val=90.50%\n",
      "2017-11-19 02:40:52 iter 1850, sample_loss=-47684.5273933256 accuracy_train=94.30% accuracy_val=90.50%\n",
      "2017-11-19 02:49:05 iter 1900, sample_loss=-47455.4395541193 accuracy_train=94.38% accuracy_val=90.45%\n",
      "2017-11-19 02:57:18 iter 1950, sample_loss=-47432.9538911574 accuracy_train=94.32% accuracy_val=90.50%\n",
      "2017-11-19 03:05:31 iter 2000, sample_loss=-47326.3589289587 accuracy_train=94.24% accuracy_val=90.40%\n",
      "2017-11-19 03:13:44 iter 2050, sample_loss=-47349.1568759994 accuracy_train=94.37% accuracy_val=90.50%\n",
      "2017-11-19 03:21:57 iter 2100, sample_loss=-47590.9865692496 accuracy_train=94.22% accuracy_val=90.80%\n",
      "2017-11-19 03:30:13 iter 2150, sample_loss=-47292.3383755834 accuracy_train=94.27% accuracy_val=90.75%\n",
      "2017-11-19 03:38:27 iter 2200, sample_loss=-47229.0384942858 accuracy_train=94.23% accuracy_val=90.45%\n",
      "2017-11-19 03:46:40 iter 2250, sample_loss=-47142.2835800923 accuracy_train=94.38% accuracy_val=90.45%\n",
      "2017-11-19 03:54:50 iter 2300, sample_loss=-47417.0623525892 accuracy_train=94.13% accuracy_val=90.60%\n",
      "2017-11-19 04:03:03 iter 2350, sample_loss=-47281.5651317972 accuracy_train=94.26% accuracy_val=90.75%\n",
      "2017-11-19 04:11:16 iter 2400, sample_loss=-46948.6868805555 accuracy_train=94.30% accuracy_val=90.75%\n",
      "2017-11-19 04:19:29 iter 2450, sample_loss=-47148.4955917895 accuracy_train=94.36% accuracy_val=90.70%\n",
      "2017-11-19 04:27:42 iter 2500, sample_loss=-47084.7512084046 accuracy_train=94.35% accuracy_val=90.50%\n",
      "2017-11-19 04:35:55 iter 2550, sample_loss=-46963.3337994818 accuracy_train=94.31% accuracy_val=90.60%\n",
      "2017-11-19 04:44:08 iter 2600, sample_loss=-47111.5412280998 accuracy_train=94.23% accuracy_val=90.55%\n",
      "2017-11-19 04:52:18 iter 2650, sample_loss=-47248.8477863819 accuracy_train=94.33% accuracy_val=90.60%\n",
      "2017-11-19 05:00:29 iter 2700, sample_loss=-46976.5433606793 accuracy_train=94.29% accuracy_val=90.55%\n",
      "2017-11-19 05:08:43 iter 2750, sample_loss=-46836.2183527341 accuracy_train=94.37% accuracy_val=90.70%\n",
      "2017-11-19 05:16:57 iter 2800, sample_loss=-46830.1932603609 accuracy_train=94.35% accuracy_val=90.60%\n",
      "2017-11-19 05:25:10 iter 2850, sample_loss=-46946.3072166774 accuracy_train=94.30% accuracy_val=90.60%\n",
      "2017-11-19 05:33:25 iter 2900, sample_loss=-46927.5390242386 accuracy_train=94.30% accuracy_val=90.50%\n",
      "2017-11-19 05:41:38 iter 2950, sample_loss=-46853.1440351094 accuracy_train=94.27% accuracy_val=90.60%\n",
      "2017-11-19 05:49:53 iter 3000, sample_loss=-46667.4253042011 accuracy_train=94.32% accuracy_val=90.65%\n",
      "2017-11-19 05:58:07 iter 3050, sample_loss=-46845.0724626471 accuracy_train=94.38% accuracy_val=90.65%\n",
      "2017-11-19 06:06:20 iter 3100, sample_loss=-46984.2032268186 accuracy_train=94.33% accuracy_val=90.70%\n",
      "2017-11-19 06:14:34 iter 3150, sample_loss=-46868.5893035758 accuracy_train=94.39% accuracy_val=90.70%\n",
      "2017-11-19 06:22:47 iter 3200, sample_loss=-46872.9537593229 accuracy_train=94.31% accuracy_val=90.80%\n",
      "2017-11-19 06:31:03 iter 3250, sample_loss=-46461.1824142357 accuracy_train=94.40% accuracy_val=90.75%\n",
      "2017-11-19 06:39:16 iter 3300, sample_loss=-46721.4788210407 accuracy_train=94.21% accuracy_val=90.70%\n",
      "2017-11-19 06:47:30 iter 3350, sample_loss=-46715.7583672438 accuracy_train=94.43% accuracy_val=90.85%\n",
      "2017-11-19 06:55:45 iter 3400, sample_loss=-46722.9645115000 accuracy_train=94.44% accuracy_val=90.75%\n",
      "2017-11-19 07:03:58 iter 3450, sample_loss=-46495.3435589994 accuracy_train=94.39% accuracy_val=90.70%\n",
      "2017-11-19 07:12:12 iter 3500, sample_loss=-46613.6890307416 accuracy_train=94.33% accuracy_val=90.90%\n",
      "2017-11-19 07:20:25 iter 3550, sample_loss=-46431.2380396141 accuracy_train=94.38% accuracy_val=90.85%\n",
      "2017-11-19 07:28:39 iter 3600, sample_loss=-46670.8372089319 accuracy_train=94.36% accuracy_val=90.65%\n",
      "2017-11-19 07:36:51 iter 3650, sample_loss=-46800.1538536435 accuracy_train=94.38% accuracy_val=90.55%\n",
      "2017-11-19 07:45:05 iter 3700, sample_loss=-46574.0673007570 accuracy_train=94.23% accuracy_val=90.70%\n",
      "2017-11-19 07:53:20 iter 3750, sample_loss=-46624.4314673584 accuracy_train=94.33% accuracy_val=90.85%\n",
      "2017-11-19 08:01:34 iter 3800, sample_loss=-46758.6174431407 accuracy_train=94.30% accuracy_val=90.75%\n",
      "2017-11-19 08:09:47 iter 3850, sample_loss=-46496.9290218574 accuracy_train=94.32% accuracy_val=90.70%\n",
      "2017-11-19 08:18:08 iter 3900, sample_loss=-47024.7983417770 accuracy_train=94.26% accuracy_val=90.70%\n",
      "2017-11-19 08:26:33 iter 3950, sample_loss=-46466.3048025987 accuracy_train=94.37% accuracy_val=90.85%\n"
     ]
    },
    {
     "name": "stdout",
     "output_type": "stream",
     "text": [
      "2017-11-19 08:34:59 iter 4000, sample_loss=-46506.7419381075 accuracy_train=94.35% accuracy_val=90.65%\n",
      "2017-11-19 08:43:24 iter 4050, sample_loss=-46740.8942259956 accuracy_train=94.32% accuracy_val=90.55%\n",
      "2017-11-19 08:51:48 iter 4100, sample_loss=-46568.8441832478 accuracy_train=94.31% accuracy_val=90.60%\n",
      "2017-11-19 09:00:12 iter 4150, sample_loss=-46735.7986326038 accuracy_train=94.38% accuracy_val=90.75%\n",
      "2017-11-19 09:08:37 iter 4200, sample_loss=-46622.1786766682 accuracy_train=94.35% accuracy_val=90.70%\n",
      "2017-11-19 09:17:03 iter 4250, sample_loss=-46588.4656887142 accuracy_train=94.29% accuracy_val=90.80%\n",
      "2017-11-19 09:25:43 iter 4300, sample_loss=-46638.5695391961 accuracy_train=94.26% accuracy_val=90.65%\n",
      "2017-11-19 09:34:08 iter 4350, sample_loss=-46565.5550355831 accuracy_train=94.38% accuracy_val=90.80%\n",
      "2017-11-19 09:42:33 iter 4400, sample_loss=-46540.9476576366 accuracy_train=94.35% accuracy_val=90.65%\n",
      "2017-11-19 09:50:59 iter 4450, sample_loss=-46421.0817399522 accuracy_train=94.37% accuracy_val=90.75%\n",
      "2017-11-19 09:59:24 iter 4500, sample_loss=-46198.2956048873 accuracy_train=94.33% accuracy_val=90.65%\n",
      "2017-11-19 10:07:50 iter 4550, sample_loss=-46429.3719513821 accuracy_train=94.32% accuracy_val=90.75%\n",
      "2017-11-19 10:16:14 iter 4600, sample_loss=-46527.4649311125 accuracy_train=94.34% accuracy_val=90.85%\n",
      "2017-11-19 10:24:40 iter 4650, sample_loss=-46406.5188164768 accuracy_train=94.42% accuracy_val=90.60%\n",
      "2017-11-19 10:32:53 iter 4700, sample_loss=-46495.2302491117 accuracy_train=94.29% accuracy_val=90.75%\n",
      "2017-11-19 10:41:04 iter 4750, sample_loss=-46598.6067213714 accuracy_train=94.28% accuracy_val=90.65%\n",
      "2017-11-19 10:49:14 iter 4800, sample_loss=-46559.6153564856 accuracy_train=94.33% accuracy_val=90.65%\n",
      "2017-11-19 10:57:26 iter 4850, sample_loss=-46424.2593520516 accuracy_train=94.41% accuracy_val=90.85%\n",
      "2017-11-19 11:05:41 iter 4900, sample_loss=-46528.9421415716 accuracy_train=94.31% accuracy_val=90.85%\n",
      "2017-11-19 11:13:56 iter 4950, sample_loss=-46501.8578000369 accuracy_train=94.38% accuracy_val=90.75%\n",
      "2017-11-19 11:22:08 iter 5000, sample_loss=-46560.7734248932 accuracy_train=94.39% accuracy_val=90.75%\n"
     ]
    }
   ],
   "source": [
    "K=400\n",
    "weight_scale=1\n",
    "max_iter=5000\n",
    "print_every=50\n",
    "batch_size_user=3000\n",
    "batch_size_buss_pair=150\n",
    "learning_rate=1e-2\n",
    "lamb=4e-1\n",
    "\n",
    "def sample():\n",
    "    u_index=np.random.randint(Nu,size=batch_size_user)\n",
    "    b_index=[]\n",
    "    for u in u_index:\n",
    "        this_b_list=[]\n",
    "        b0_index=np.random.choice(np.where(y[u,:]==0)[0],batch_size_buss_pair)\n",
    "        b1_index=np.random.choice(np.where(y[u,:]==1)[0],batch_size_buss_pair)\n",
    "        for i in range(batch_size_buss_pair):\n",
    "            this_b_list.append((b0_index[i],b1_index[i]))\n",
    "        b_index.append(this_b_list)\n",
    "    return list(u_index),b_index\n",
    "\n",
    "gamma_u=np.random.randn(Nu,K)*weight_scale\n",
    "gamma_b=np.random.randn(Nb,K)*weight_scale\n",
    "\n",
    "def sigmoid(x):\n",
    "    return 1.0/(1.0+np.exp(-x))\n",
    "\n",
    "sample_loss_his=[]\n",
    "accuracy_val_his=[]\n",
    "accuracy_train_his=[]\n",
    "\n",
    "for it in range(max_iter):\n",
    "    sample_loss=0\n",
    "    \n",
    "    dgamma_u=np.zeros_like(gamma_u)\n",
    "    dgamma_b=np.zeros_like(gamma_b)\n",
    "    \n",
    "    u_index,b_index=sample()\n",
    "    \n",
    "    for (i,u) in enumerate(u_index):\n",
    "        b_list=b_index[i]\n",
    "        for (b0,b1) in b_list:\n",
    "            temp=sigmoid(np.inner(gamma_u[u,:],gamma_b[b1,:])-np.inner(gamma_u[u,:],gamma_b[b0,:]))\n",
    "            sample_loss+=np.log(temp)\n",
    "            dgamma_u[u,:]+=(1.0-temp)*(gamma_b[b1,:]-gamma_b[b0,:])\n",
    "            dgamma_b[b1,:]+=(1.0-temp)*gamma_u[u,:]\n",
    "            dgamma_b[b0,:]-=(1.0-temp)*gamma_u[u,:]\n",
    "            \n",
    "    sample_loss-=0.5*lamb*(np.sum(np.square(gamma_u))+np.sum(np.square(gamma_b)))\n",
    "    dgamma_u-=lamb*gamma_u\n",
    "    dgamma_b-=lamb*gamma_b\n",
    "    \n",
    "    gamma_u+=learning_rate*dgamma_u\n",
    "    gamma_b+=learning_rate*dgamma_b\n",
    "    \n",
    "    sample_loss_his.append(sample_loss)\n",
    "    \n",
    "    if it==0 or (it+1)%print_every==0:\n",
    "        accuracy_train=0\n",
    "        for (i,u) in enumerate(u_index):\n",
    "            b_list=b_index[i]\n",
    "            for (b0,b1) in b_list:\n",
    "                predict0=sigmoid(np.inner(gamma_u[u,:],gamma_b[b0,:]))>0.6\n",
    "                predict1=sigmoid(np.inner(gamma_u[u,:],gamma_b[b1,:]))>0.6\n",
    "                if predict0==0:\n",
    "                    accuracy_train+=1\n",
    "                if predict1==1:\n",
    "                    accuracy_train+=1\n",
    "        accuracy_train=100.0*accuracy_train/(batch_size_user*batch_size_buss_pair*2)\n",
    "        accuracy_train_his.append(accuracy_train)\n",
    "        accuracy_val=0\n",
    "        for i in range(num_val):\n",
    "            predict=sigmoid(np.inner(gamma_u[ui_val[i],:],gamma_b[bi_val[i],:]))>0.6\n",
    "            if predict==y_val[i]:\n",
    "                accuracy_val+=1\n",
    "        accuracy_val=100.0*accuracy_val/num_val\n",
    "        accuracy_val_his.append(accuracy_val)\n",
    "        print(time.strftime('%Y-%m-%d %H:%M:%S',time.localtime(time.time())),\n",
    "              'iter %d, sample_loss=%.10f accuracy_train=%.2f%% accuracy_val=%.2f%%' %(it+1,sample_loss,accuracy_train,accuracy_val))"
   ]
  },
  {
   "cell_type": "code",
   "execution_count": 8,
   "metadata": {},
   "outputs": [
    {
     "data": {
      "image/png": "[encoded data removed]",
      "text/plain": [
       "<matplotlib.figure.Figure at 0x1d5efc36cc0>"
      ]
     },
     "metadata": {},
     "output_type": "display_data"
    },
    {
     "data": {
      "image/png": "[encoded data removed]",
      "text/plain": [
       "<matplotlib.figure.Figure at 0x1d59e7d0a20>"
      ]
     },
     "metadata": {},
     "output_type": "display_data"
    }
   ],
   "source": [
    "plt.plot(range(max_iter),sample_loss_his,'b-')\n",
    "plt.show()\n",
    "plt.plot(range(max_iter//print_every+1),accuracy_train_his,'r-')\n",
    "plt.plot(range(max_iter//print_every+1),accuracy_val_his,'b-')\n",
    "plt.show()"
   ]
  },
  {
   "cell_type": "code",
   "execution_count": 9,
   "metadata": {},
   "outputs": [
    {
     "name": "stdout",
     "output_type": "stream",
     "text": [
      "[[ 0.03935571  0.07596732 -0.13449681 ...,  0.04236134 -0.11140343\n",
      "   0.22559213]\n",
      " [-0.18270476 -0.19536961  0.17281223 ...,  0.1552453  -0.07556583\n",
      "  -0.04181209]\n",
      " [-0.05692413 -0.13063943 -0.11850363 ..., -0.02851646 -0.03375666\n",
      "  -0.11701158]\n",
      " ..., \n",
      " [ 0.19687745 -0.02532594  0.02156703 ...,  0.09054881  0.08213591\n",
      "   0.04613953]\n",
      " [-0.01148138 -0.01266552  0.10373824 ...,  0.07840855  0.06748617\n",
      "  -0.04859549]\n",
      " [-0.06841165 -0.06678253  0.07951745 ..., -0.10159582  0.14029304\n",
      "  -0.05189093]]\n",
      "[[ 0.0009302  -0.13140983  0.09188073 ...,  0.06935012  0.04181022\n",
      "   0.19664496]\n",
      " [ 0.06144654  0.17820036 -0.24821427 ..., -0.16790058 -0.01244722\n",
      "   0.07641156]\n",
      " [ 0.09135474 -0.07018373  0.09686894 ...,  0.26121721 -0.16186866\n",
      "  -0.17257873]\n",
      " ..., \n",
      " [-0.08028667 -0.03127641 -0.16883885 ..., -0.00302034  0.07732866\n",
      "  -0.2613917 ]\n",
      " [ 0.17593689 -0.18778326 -0.12594109 ...,  0.09860601  0.0385617\n",
      "  -0.00853858]\n",
      " [-0.0187856   0.0420347   0.06458524 ..., -0.05068514 -0.02598905\n",
      "   0.08535397]]\n",
      "0.965080523149\n",
      "True\n",
      "0.419847056707\n",
      "False\n",
      "0.501771626687\n",
      "True\n"
     ]
    }
   ],
   "source": [
    "print(gamma_u)\n",
    "print(gamma_b)\n",
    "def predict_y(u,b):\n",
    "    print(sigmoid(np.inner(gamma_u[u,:],gamma_b[b,:])))\n",
    "    return sigmoid(np.inner(gamma_u[u,:],gamma_b[b,:]))>0.5\n",
    "\n",
    "print(predict_y(user_index['U093387342'],buss_index['B408037852']))  # train +\n",
    "print(predict_y(user_index['U093387342'],buss_index['B410583770']))  # train -\n",
    "print(predict_y(user_index['U732361363'],buss_index['B105995104']))  # test"
   ]
  },
  {
   "cell_type": "code",
   "execution_count": 10,
   "metadata": {},
   "outputs": [
    {
     "data": {
      "image/png": "[encoded data removed]",
      "text/plain": [
       "<matplotlib.figure.Figure at 0x1d5efc09cf8>"
      ]
     },
     "metadata": {},
     "output_type": "display_data"
    },
    {
     "name": "stdout",
     "output_type": "stream",
     "text": [
      "best bound = 0.619 max accuracy = 0.913\n"
     ]
    }
   ],
   "source": [
    "bound_list=np.linspace(0,1,1001)\n",
    "accuracy_his=[]\n",
    "max_accuracy=-1\n",
    "best_bound=-1\n",
    "for bound in bound_list:\n",
    "    accuracy=0\n",
    "    for i in range(num_val):\n",
    "        predict=sigmoid(np.inner(gamma_u[ui_val[i],:],gamma_b[bi_val[i],:]))>bound\n",
    "        accuracy+=1 if predict==y_val[i] else 0\n",
    "    accuracy/=num_val\n",
    "    if accuracy>max_accuracy:\n",
    "        max_accuracy=accuracy\n",
    "        best_bound=bound\n",
    "    accuracy_his.append(accuracy)\n",
    "plt.plot(bound_list,np.array(accuracy_his))\n",
    "plt.show()\n",
    "print('best bound =',best_bound,'max accuracy =',max_accuracy)"
   ]
  },
  {
   "cell_type": "code",
   "execution_count": 11,
   "metadata": {},
   "outputs": [
    {
     "name": "stdout",
     "output_type": "stream",
     "text": [
      "accuracy = 0.913\n",
      "true pos = 926\n",
      "false pos = 100\n",
      "false neg = 74\n",
      "true neg= 900\n",
      "F1 = 0.914116485686081\n"
     ]
    }
   ],
   "source": [
    "true_pos=0\n",
    "true_neg=0\n",
    "false_pos=0\n",
    "false_neg=0\n",
    "\n",
    "for i in range(num_val):\n",
    "    ui=ui_val[i]\n",
    "    bi=bi_val[i]\n",
    "    real=y_val[i]\n",
    "    \n",
    "    predict=sigmoid(np.inner(gamma_u[ui,:],gamma_b[bi,:]))>best_bound\n",
    "        \n",
    "    if predict==1 and real==1:\n",
    "        true_pos+=1\n",
    "    elif predict==1 and real==0:\n",
    "        false_pos+=1\n",
    "    elif predict==0 and real==1:\n",
    "        false_neg+=1\n",
    "    elif predict==0 and real==0:\n",
    "        true_neg+=1\n",
    "print('accuracy =',(true_pos+true_neg)/num_val)\n",
    "print('true pos =',true_pos)\n",
    "print('false pos =',false_pos)\n",
    "print('false neg =',false_neg)\n",
    "print('true neg=',true_neg)\n",
    "pp=true_pos/(true_pos+false_pos)\n",
    "rr=true_pos/(true_pos+false_neg)\n",
    "print('F1 =',(2.0*pp*rr)/(pp+rr))"
   ]
  },
  {
   "cell_type": "code",
   "execution_count": 12,
   "metadata": {},
   "outputs": [
    {
     "name": "stdout",
     "output_type": "stream",
     "text": [
      "63 0 39937\n"
     ]
    }
   ],
   "source": [
    "test_file=open('data/pairs_Visit.txt')\n",
    "fo=open('data/pairs_Visit_out_4.txt','w')\n",
    "fo.write('userID-businessID,prediction\\n')\n",
    "c1=0\n",
    "c2=0\n",
    "c3=0\n",
    "for line in test_file:\n",
    "    if line == 'userID-businessID,prediction\\n':\n",
    "        continue\n",
    "    [u,b]=line.strip().split('-')\n",
    "    if u not in user_index or b not in buss_index:\n",
    "        predict=random.randint(0,1)\n",
    "        fo.write('%s-%s,%d\\n' %(u,b,predict))\n",
    "        c1+=1\n",
    "    else:\n",
    "        ui=user_index[u]\n",
    "        bi=buss_index[b]\n",
    "\n",
    "        predict=sigmoid(np.inner(gamma_u[ui,:],gamma_b[bi,:]))>best_bound\n",
    "                \n",
    "        fo.write('%s-%s,%d\\n' %(u,b,predict))\n",
    "        c3+=1\n",
    "fo.close()\n",
    "print(c1,c2,c3)"
   ]
  },
  {
   "cell_type": "code",
   "execution_count": null,
   "metadata": {
    "collapsed": true
   },
   "outputs": [],
   "source": []
  }
 ],
 "metadata": {
  "kernelspec": {
   "display_name": "Python 3",
   "language": "python",
   "name": "python3"
  },
  "language_info": {
   "codemirror_mode": {
    "name": "ipython",
    "version": 3
   },
   "file_extension": ".py",
   "mimetype": "text/x-python",
   "name": "python",
   "nbconvert_exporter": "python",
   "pygments_lexer": "ipython3",
   "version": "3.6.2"
  }
 },
 "nbformat": 4,
 "nbformat_minor": 2
}
