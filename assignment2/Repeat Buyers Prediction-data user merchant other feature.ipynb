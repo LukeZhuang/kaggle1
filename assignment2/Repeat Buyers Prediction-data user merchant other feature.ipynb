{
 "cells": [
  {
   "cell_type": "code",
   "execution_count": 1,
   "metadata": {
    "collapsed": true
   },
   "outputs": [],
   "source": [
    "import numpy as np\n",
    "import pymysql\n",
    "import matplotlib.pyplot as plt\n",
    "import random\n",
    "import time\n",
    "import math\n",
    "from sklearn.linear_model import LogisticRegression\n",
    "\n",
    "num_train=260864\n",
    "num_test=261477"
   ]
  },
  {
   "cell_type": "code",
   "execution_count": 2,
   "metadata": {
    "collapsed": true
   },
   "outputs": [],
   "source": [
    "conn = pymysql.connect(host='localhost', port=3306,user='root',passwd='root',db='cse258',charset='UTF8')\n",
    "cur = conn.cursor()"
   ]
  },
  {
   "cell_type": "code",
   "execution_count": 3,
   "metadata": {
    "collapsed": true
   },
   "outputs": [],
   "source": [
    "def calc_feature(user,seller):\n",
    "    cmd='SELECT COUNT(DISTINCT item_id),COUNT(DISTINCT brand_id) FROM user_log WHERE user_id='+user+' AND seller_id='+seller\n",
    "    cur.execute(cmd)\n",
    "    result=cur.fetchone()\n",
    "    return result"
   ]
  },
  {
   "cell_type": "code",
   "execution_count": 4,
   "metadata": {},
   "outputs": [
    {
     "name": "stdout",
     "output_type": "stream",
     "text": [
      "2017-11-30 15:23:30 finished 1 pairs\n",
      "2017-11-30 15:27:48 finished 5000 pairs\n",
      "2017-11-30 15:31:50 finished 10000 pairs\n",
      "2017-11-30 15:36:42 finished 15000 pairs\n",
      "2017-11-30 15:45:34 finished 20000 pairs\n",
      "2017-11-30 15:56:09 finished 25000 pairs\n",
      "2017-11-30 16:02:45 finished 30000 pairs\n",
      "2017-11-30 16:08:14 finished 35000 pairs\n",
      "2017-11-30 16:13:17 finished 40000 pairs\n",
      "2017-11-30 16:17:13 finished 45000 pairs\n",
      "2017-11-30 16:21:31 finished 50000 pairs\n",
      "2017-11-30 16:25:36 finished 55000 pairs\n",
      "2017-11-30 16:29:41 finished 60000 pairs\n",
      "2017-11-30 16:33:53 finished 65000 pairs\n",
      "2017-11-30 16:38:00 finished 70000 pairs\n",
      "2017-11-30 16:42:09 finished 75000 pairs\n",
      "2017-11-30 16:46:17 finished 80000 pairs\n",
      "2017-11-30 16:50:26 finished 85000 pairs\n",
      "2017-11-30 16:54:34 finished 90000 pairs\n",
      "2017-11-30 16:58:50 finished 95000 pairs\n",
      "2017-11-30 17:03:09 finished 100000 pairs\n",
      "2017-11-30 17:07:29 finished 105000 pairs\n",
      "2017-11-30 17:11:48 finished 110000 pairs\n",
      "2017-11-30 17:16:10 finished 115000 pairs\n",
      "2017-11-30 17:20:30 finished 120000 pairs\n",
      "2017-11-30 17:24:51 finished 125000 pairs\n",
      "2017-11-30 17:29:05 finished 130000 pairs\n",
      "2017-11-30 17:33:25 finished 135000 pairs\n",
      "2017-11-30 17:37:45 finished 140000 pairs\n",
      "2017-11-30 17:41:59 finished 145000 pairs\n",
      "2017-11-30 17:46:21 finished 150000 pairs\n",
      "2017-11-30 17:50:35 finished 155000 pairs\n",
      "2017-11-30 17:54:58 finished 160000 pairs\n",
      "2017-11-30 17:59:20 finished 165000 pairs\n",
      "2017-11-30 18:03:36 finished 170000 pairs\n",
      "2017-11-30 18:07:54 finished 175000 pairs\n",
      "2017-11-30 18:12:18 finished 180000 pairs\n",
      "2017-11-30 18:16:42 finished 185000 pairs\n",
      "2017-11-30 18:20:49 finished 190000 pairs\n",
      "2017-11-30 18:24:59 finished 195000 pairs\n",
      "2017-11-30 18:29:07 finished 200000 pairs\n",
      "2017-11-30 18:33:21 finished 205000 pairs\n",
      "2017-11-30 18:37:37 finished 210000 pairs\n",
      "2017-11-30 18:42:01 finished 215000 pairs\n",
      "2017-11-30 18:46:26 finished 220000 pairs\n",
      "2017-11-30 18:50:39 finished 225000 pairs\n",
      "2017-11-30 18:54:52 finished 230000 pairs\n",
      "2017-11-30 18:58:51 finished 235000 pairs\n",
      "2017-11-30 19:03:37 finished 240000 pairs\n",
      "2017-11-30 19:08:00 finished 245000 pairs\n",
      "2017-11-30 19:12:13 finished 250000 pairs\n",
      "2017-11-30 19:16:29 finished 255000 pairs\n",
      "2017-11-30 19:20:41 finished 260000 pairs\n",
      "2017-11-30 19:21:24 finished 260864 pairs\n",
      "(260864, 2)\n",
      "[[20  1]\n",
      " [ 1  1]\n",
      " [ 2  1]\n",
      " ..., \n",
      " [ 1  1]\n",
      " [ 1  1]\n",
      " [15  1]]\n"
     ]
    }
   ],
   "source": [
    "X=[]\n",
    "f_train=open('data_format1/train_format1.csv')\n",
    "cnt=0\n",
    "print_every=5000\n",
    "for line in f_train:\n",
    "    l=line.strip()\n",
    "    if l=='user_id,merchant_id,label':\n",
    "        continue\n",
    "    [user,seller,this_y]=l.split(',')\n",
    "    res=calc_feature(user,seller)\n",
    "    X.append([res[0],res[1]])\n",
    "    if cnt==0 or (cnt+1)%print_every==0 or (cnt+1)==num_train:\n",
    "        print(time.strftime('%Y-%m-%d %H:%M:%S',time.localtime(time.time())),\n",
    "              'finished '+str(cnt+1)+' pairs')\n",
    "    cnt+=1\n",
    "\n",
    "X=np.array(X)\n",
    "print(X.shape)\n",
    "print(X)\n",
    "np.save('data/x_userinfo_branditem.npy', X)"
   ]
  },
  {
   "cell_type": "code",
   "execution_count": 5,
   "metadata": {},
   "outputs": [
    {
     "name": "stdout",
     "output_type": "stream",
     "text": [
      "2017-11-30 19:21:24 finished 1 pairs\n",
      "2017-11-30 19:25:32 finished 5000 pairs\n",
      "2017-11-30 19:29:48 finished 10000 pairs\n",
      "2017-11-30 19:33:59 finished 15000 pairs\n",
      "2017-11-30 19:38:09 finished 20000 pairs\n",
      "2017-11-30 19:42:20 finished 25000 pairs\n",
      "2017-11-30 19:46:28 finished 30000 pairs\n",
      "2017-11-30 19:50:35 finished 35000 pairs\n",
      "2017-11-30 19:54:40 finished 40000 pairs\n",
      "2017-11-30 19:58:41 finished 45000 pairs\n",
      "2017-11-30 20:02:50 finished 50000 pairs\n",
      "2017-11-30 20:06:45 finished 55000 pairs\n",
      "2017-11-30 20:10:51 finished 60000 pairs\n",
      "2017-11-30 20:14:48 finished 65000 pairs\n",
      "2017-11-30 20:18:55 finished 70000 pairs\n",
      "2017-11-30 20:24:38 finished 75000 pairs\n",
      "2017-11-30 20:32:25 finished 80000 pairs\n",
      "2017-11-30 20:37:44 finished 85000 pairs\n",
      "2017-11-30 20:41:55 finished 90000 pairs\n",
      "2017-11-30 20:46:13 finished 95000 pairs\n",
      "2017-11-30 20:50:39 finished 100000 pairs\n",
      "2017-11-30 20:55:09 finished 105000 pairs\n",
      "2017-11-30 20:59:32 finished 110000 pairs\n",
      "2017-11-30 21:04:01 finished 115000 pairs\n",
      "2017-11-30 21:09:24 finished 120000 pairs\n",
      "2017-11-30 21:20:03 finished 125000 pairs\n",
      "2017-11-30 21:25:27 finished 130000 pairs\n",
      "2017-11-30 21:29:38 finished 135000 pairs\n",
      "2017-11-30 21:33:46 finished 140000 pairs\n",
      "2017-11-30 21:38:13 finished 145000 pairs\n",
      "2017-11-30 21:42:24 finished 150000 pairs\n",
      "2017-11-30 21:46:52 finished 155000 pairs\n",
      "2017-11-30 21:53:33 finished 160000 pairs\n",
      "2017-11-30 21:58:55 finished 165000 pairs\n",
      "2017-11-30 22:03:34 finished 170000 pairs\n",
      "2017-11-30 22:08:12 finished 175000 pairs\n",
      "2017-11-30 22:12:47 finished 180000 pairs\n",
      "2017-11-30 22:17:37 finished 185000 pairs\n",
      "2017-11-30 22:22:24 finished 190000 pairs\n",
      "2017-11-30 22:26:41 finished 195000 pairs\n",
      "2017-11-30 22:30:50 finished 200000 pairs\n",
      "2017-11-30 22:35:14 finished 205000 pairs\n",
      "2017-11-30 22:39:32 finished 210000 pairs\n",
      "2017-11-30 22:43:44 finished 215000 pairs\n",
      "2017-11-30 22:48:04 finished 220000 pairs\n",
      "2017-11-30 22:52:28 finished 225000 pairs\n",
      "2017-11-30 22:57:08 finished 230000 pairs\n",
      "2017-11-30 23:01:36 finished 235000 pairs\n",
      "2017-11-30 23:05:58 finished 240000 pairs\n",
      "2017-11-30 23:10:20 finished 245000 pairs\n",
      "2017-11-30 23:14:39 finished 250000 pairs\n",
      "2017-11-30 23:18:56 finished 255000 pairs\n",
      "2017-11-30 23:23:15 finished 260000 pairs\n",
      "2017-11-30 23:24:34 finished 261477 pairs\n",
      "(261477, 2)\n",
      "[[1 1]\n",
      " [9 1]\n",
      " [1 1]\n",
      " ..., \n",
      " [5 1]\n",
      " [2 1]\n",
      " [1 1]]\n"
     ]
    }
   ],
   "source": [
    "X_test=[]\n",
    "f_test=open('data_format1/test_format1.csv')\n",
    "cnt=0\n",
    "print_every=5000\n",
    "for line in f_test:\n",
    "    l=line.strip()\n",
    "    if l=='user_id,merchant_id,prob':\n",
    "        continue\n",
    "    [user,seller,_]=l.split(',')\n",
    "    \n",
    "    res=calc_feature(user,seller)\n",
    "    X_test.append([res[0],res[1]])\n",
    "    \n",
    "    if cnt==0 or (cnt+1)%print_every==0 or (cnt+1)==num_test:\n",
    "        print(time.strftime('%Y-%m-%d %H:%M:%S',time.localtime(time.time())),\n",
    "              'finished '+str(cnt+1)+' pairs')\n",
    "    cnt+=1\n",
    "\n",
    "X_test=np.array(X_test)\n",
    "print(X_test.shape)\n",
    "print(X_test)\n",
    "np.save('data/x_userinfo_branditem_test.npy', X_test)"
   ]
  },
  {
   "cell_type": "code",
   "execution_count": null,
   "metadata": {
    "collapsed": true
   },
   "outputs": [],
   "source": []
  }
 ],
 "metadata": {
  "kernelspec": {
   "display_name": "Python 3",
   "language": "python",
   "name": "python3"
  },
  "language_info": {
   "codemirror_mode": {
    "name": "ipython",
    "version": 3
   },
   "file_extension": ".py",
   "mimetype": "text/x-python",
   "name": "python",
   "nbconvert_exporter": "python",
   "pygments_lexer": "ipython3",
   "version": "3.6.2"
  }
 },
 "nbformat": 4,
 "nbformat_minor": 2
}
