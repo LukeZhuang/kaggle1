{
 "cells": [
  {
   "cell_type": "code",
   "execution_count": 1,
   "metadata": {
    "collapsed": true
   },
   "outputs": [],
   "source": [
    "import numpy as np\n",
    "import pymysql\n",
    "import matplotlib.pyplot as plt\n",
    "import random\n",
    "import time\n",
    "import math\n",
    "from sklearn.linear_model import LogisticRegression\n",
    "\n",
    "num_train=260864\n",
    "num_test=261477"
   ]
  },
  {
   "cell_type": "code",
   "execution_count": 2,
   "metadata": {
    "collapsed": true
   },
   "outputs": [],
   "source": [
    "user_info={}\n",
    "f=open('data_format1/user_info_format1.csv')\n",
    "for line in f:\n",
    "    l=line.strip()\n",
    "    if l=='user_id,age_range,gender':\n",
    "        continue\n",
    "    [user,age_range,gender]=l.split(',')\n",
    "    if age_range=='':\n",
    "        age_range='3'\n",
    "    if gender=='':\n",
    "        gender='0'\n",
    "    user_info[user]=(int(age_range),int(gender))"
   ]
  },
  {
   "cell_type": "code",
   "execution_count": 3,
   "metadata": {
    "collapsed": true
   },
   "outputs": [],
   "source": [
    "conn = pymysql.connect(host='localhost', port=3306,user='root',passwd='root',db='cse258',charset='UTF8')\n",
    "cur = conn.cursor()"
   ]
  },
  {
   "cell_type": "code",
   "execution_count": 4,
   "metadata": {
    "collapsed": true
   },
   "outputs": [],
   "source": [
    "def calc_feature(user,seller):\n",
    "    cmd='SELECT action_type FROM user_log WHERE user_id='+user+' AND seller_id='+seller\n",
    "    cur.execute(cmd)\n",
    "    result=cur.fetchall()\n",
    "    tot_len=len(result)\n",
    "    lens=[0,0,0,0]\n",
    "    for datum in result:\n",
    "        lens[datum[0]]+=1\n",
    "    lens.append(tot_len)\n",
    "    return lens"
   ]
  },
  {
   "cell_type": "code",
   "execution_count": 5,
   "metadata": {},
   "outputs": [
    {
     "name": "stdout",
     "output_type": "stream",
     "text": [
      "2017-11-25 12:17:16 finished 1 pairs\n",
      "2017-11-25 12:21:13 finished 5000 pairs\n",
      "2017-11-25 12:25:33 finished 10000 pairs\n",
      "2017-11-25 12:29:50 finished 15000 pairs\n",
      "2017-11-25 12:33:57 finished 20000 pairs\n",
      "2017-11-25 12:38:10 finished 25000 pairs\n",
      "2017-11-25 12:42:24 finished 30000 pairs\n",
      "2017-11-25 12:46:36 finished 35000 pairs\n",
      "2017-11-25 12:50:53 finished 40000 pairs\n",
      "2017-11-25 12:55:08 finished 45000 pairs\n",
      "2017-11-25 12:59:25 finished 50000 pairs\n",
      "2017-11-25 13:03:40 finished 55000 pairs\n",
      "2017-11-25 13:08:01 finished 60000 pairs\n",
      "2017-11-25 13:12:24 finished 65000 pairs\n",
      "2017-11-25 13:16:48 finished 70000 pairs\n",
      "2017-11-25 13:21:13 finished 75000 pairs\n",
      "2017-11-25 13:25:38 finished 80000 pairs\n",
      "2017-11-25 13:29:56 finished 85000 pairs\n",
      "2017-11-25 13:34:15 finished 90000 pairs\n",
      "2017-11-25 13:38:38 finished 95000 pairs\n",
      "2017-11-25 13:42:59 finished 100000 pairs\n",
      "2017-11-25 13:47:18 finished 105000 pairs\n",
      "2017-11-25 13:51:39 finished 110000 pairs\n",
      "2017-11-25 13:56:00 finished 115000 pairs\n",
      "2017-11-25 14:00:22 finished 120000 pairs\n",
      "2017-11-25 14:04:45 finished 125000 pairs\n",
      "2017-11-25 14:09:06 finished 130000 pairs\n",
      "2017-11-25 14:13:28 finished 135000 pairs\n",
      "2017-11-25 14:17:44 finished 140000 pairs\n",
      "2017-11-25 14:21:57 finished 145000 pairs\n",
      "2017-11-25 14:26:14 finished 150000 pairs\n",
      "2017-11-25 14:30:36 finished 155000 pairs\n",
      "2017-11-25 14:34:59 finished 160000 pairs\n",
      "2017-11-25 14:39:23 finished 165000 pairs\n",
      "2017-11-25 14:43:43 finished 170000 pairs\n",
      "2017-11-25 14:47:57 finished 175000 pairs\n",
      "2017-11-25 14:52:20 finished 180000 pairs\n",
      "2017-11-25 14:56:44 finished 185000 pairs\n",
      "2017-11-25 15:01:06 finished 190000 pairs\n",
      "2017-11-25 15:05:28 finished 195000 pairs\n",
      "2017-11-25 15:09:48 finished 200000 pairs\n",
      "2017-11-25 15:14:11 finished 205000 pairs\n",
      "2017-11-25 15:18:36 finished 210000 pairs\n",
      "2017-11-25 15:22:56 finished 215000 pairs\n",
      "2017-11-25 15:27:21 finished 220000 pairs\n",
      "2017-11-25 15:31:42 finished 225000 pairs\n",
      "2017-11-25 15:36:04 finished 230000 pairs\n",
      "2017-11-25 15:40:23 finished 235000 pairs\n",
      "2017-11-25 15:44:43 finished 240000 pairs\n",
      "2017-11-25 15:49:01 finished 245000 pairs\n",
      "2017-11-25 15:53:24 finished 250000 pairs\n",
      "2017-11-25 15:57:44 finished 255000 pairs\n",
      "2017-11-25 16:02:06 finished 260000 pairs\n",
      "(260864, 8)\n",
      "(260864,)\n"
     ]
    }
   ],
   "source": [
    "X=[]\n",
    "y=[]\n",
    "f_train=open('data_format1/train_format1.csv')\n",
    "cnt=0\n",
    "print_every=5000\n",
    "for line in f_train:\n",
    "    l=line.strip()\n",
    "    if l=='user_id,merchant_id,label':\n",
    "        continue\n",
    "    [user,seller,this_y]=l.split(',')\n",
    "    fe=calc_feature(user,seller)\n",
    "    info=user_info[user]\n",
    "    X.append([1,info[0],info[1],fe[0],fe[1],fe[2],fe[3],fe[4]])\n",
    "    y.append(int(this_y))\n",
    "    if cnt>0 and (cnt==1 or cnt%print_every==0 or cnt==num_train):\n",
    "        print(time.strftime('%Y-%m-%d %H:%M:%S',time.localtime(time.time())),\n",
    "              'finished '+str(cnt)+' pairs')\n",
    "    cnt+=1\n",
    "\n",
    "X=np.array(X)\n",
    "y=np.array(y)\n",
    "print(X.shape)\n",
    "print(y.shape)\n",
    "np.save('data/x_userinfo_ratio.npy', X)\n",
    "np.save('data/y.npy', y)"
   ]
  },
  {
   "cell_type": "code",
   "execution_count": 11,
   "metadata": {},
   "outputs": [
    {
     "name": "stdout",
     "output_type": "stream",
     "text": [
      "2017-11-25 16:02:55 finished 1 pairs\n",
      "2017-11-25 16:07:12 finished 5000 pairs\n",
      "2017-11-25 16:11:44 finished 10000 pairs\n",
      "2017-11-25 16:16:07 finished 15000 pairs\n",
      "2017-11-25 16:20:30 finished 20000 pairs\n",
      "2017-11-25 16:24:51 finished 25000 pairs\n",
      "2017-11-25 16:29:17 finished 30000 pairs\n",
      "2017-11-25 16:33:49 finished 35000 pairs\n",
      "2017-11-25 16:38:10 finished 40000 pairs\n",
      "2017-11-25 16:42:29 finished 45000 pairs\n",
      "2017-11-25 16:46:47 finished 50000 pairs\n",
      "2017-11-25 16:51:06 finished 55000 pairs\n",
      "2017-11-25 16:55:29 finished 60000 pairs\n",
      "2017-11-25 16:59:56 finished 65000 pairs\n",
      "2017-11-25 17:04:19 finished 70000 pairs\n",
      "2017-11-25 17:08:36 finished 75000 pairs\n",
      "2017-11-25 17:13:43 finished 80000 pairs\n",
      "2017-11-25 17:21:35 finished 85000 pairs\n",
      "2017-11-25 17:25:56 finished 90000 pairs\n",
      "2017-11-25 17:30:10 finished 95000 pairs\n",
      "2017-11-25 17:34:29 finished 100000 pairs\n",
      "2017-11-25 17:38:47 finished 105000 pairs\n",
      "2017-11-25 17:43:07 finished 110000 pairs\n",
      "2017-11-25 17:47:32 finished 115000 pairs\n",
      "2017-11-25 17:51:58 finished 120000 pairs\n",
      "2017-11-25 17:56:24 finished 125000 pairs\n",
      "2017-11-25 18:00:53 finished 130000 pairs\n",
      "2017-11-25 18:05:11 finished 135000 pairs\n",
      "2017-11-25 18:09:25 finished 140000 pairs\n",
      "2017-11-25 18:13:48 finished 145000 pairs\n",
      "2017-11-25 18:18:09 finished 150000 pairs\n",
      "2017-11-25 18:22:34 finished 155000 pairs\n",
      "2017-11-25 18:26:52 finished 160000 pairs\n",
      "2017-11-25 18:31:19 finished 165000 pairs\n",
      "2017-11-25 18:35:43 finished 170000 pairs\n",
      "2017-11-25 18:40:00 finished 175000 pairs\n",
      "2017-11-25 18:44:21 finished 180000 pairs\n",
      "2017-11-25 18:48:44 finished 185000 pairs\n",
      "2017-11-25 18:53:14 finished 190000 pairs\n",
      "2017-11-25 18:57:42 finished 195000 pairs\n",
      "2017-11-25 19:03:41 finished 200000 pairs\n",
      "2017-11-25 19:08:26 finished 205000 pairs\n",
      "2017-11-25 19:12:55 finished 210000 pairs\n",
      "2017-11-25 19:17:22 finished 215000 pairs\n",
      "2017-11-25 19:22:18 finished 220000 pairs\n",
      "2017-11-25 19:27:07 finished 225000 pairs\n",
      "2017-11-25 19:31:49 finished 230000 pairs\n",
      "2017-11-25 19:36:35 finished 235000 pairs\n",
      "2017-11-25 19:44:07 finished 240000 pairs\n",
      "2017-11-25 19:48:37 finished 245000 pairs\n",
      "2017-11-25 19:53:03 finished 250000 pairs\n",
      "2017-11-25 19:57:50 finished 255000 pairs\n",
      "2017-11-25 20:02:12 finished 260000 pairs\n",
      "2017-11-25 20:02:59 finished 260864 pairs\n",
      "(261477, 8)\n"
     ]
    }
   ],
   "source": [
    "X_test=[]\n",
    "f_test=open('data_format1/test_format1.csv')\n",
    "cnt=0\n",
    "print_every=5000\n",
    "for line in f_test:\n",
    "    l=line.strip()\n",
    "    if l=='user_id,merchant_id,prob':\n",
    "        continue\n",
    "    [user,seller,_]=l.split(',')\n",
    "    fe=calc_feature(user,seller)\n",
    "    info=user_info[user]\n",
    "    X_test.append([1,info[0],info[1],fe[0],fe[1],fe[2],fe[3],fe[4]])\n",
    "    if cnt>0 and (cnt==1 or cnt%print_every==0 or cnt==num_test):\n",
    "        print(time.strftime('%Y-%m-%d %H:%M:%S',time.localtime(time.time())),\n",
    "              'finished '+str(cnt)+' pairs')\n",
    "    cnt+=1\n",
    "\n",
    "X_test=np.array(X_test)\n",
    "print(X_test.shape)\n",
    "np.save('data/x_userinfo_ratio_test.npy', X_test)"
   ]
  },
  {
   "cell_type": "code",
   "execution_count": 14,
   "metadata": {
    "collapsed": true
   },
   "outputs": [],
   "source": [
    "cur.close()\n",
    "conn.close()"
   ]
  },
  {
   "cell_type": "code",
   "execution_count": null,
   "metadata": {
    "collapsed": true
   },
   "outputs": [],
   "source": []
  }
 ],
 "metadata": {
  "kernelspec": {
   "display_name": "Python 3",
   "language": "python",
   "name": "python3"
  },
  "language_info": {
   "codemirror_mode": {
    "name": "ipython",
    "version": 3
   },
   "file_extension": ".py",
   "mimetype": "text/x-python",
   "name": "python",
   "nbconvert_exporter": "python",
   "pygments_lexer": "ipython3",
   "version": "3.6.2"
  }
 },
 "nbformat": 4,
 "nbformat_minor": 2
}
