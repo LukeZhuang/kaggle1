{
 "cells": [
  {
   "cell_type": "code",
   "execution_count": 1,
   "metadata": {
    "collapsed": true
   },
   "outputs": [],
   "source": [
    "import numpy as np\n",
    "import pymysql\n",
    "import matplotlib.pyplot as plt\n",
    "import random\n",
    "import time\n",
    "import math\n",
    "from sklearn.linear_model import LogisticRegression\n",
    "from sklearn.tree import DecisionTreeClassifier\n",
    "\n",
    "num_train=260864\n",
    "num_test=261477"
   ]
  },
  {
   "cell_type": "code",
   "execution_count": 2,
   "metadata": {
    "collapsed": true
   },
   "outputs": [],
   "source": [
    "user_info={}\n",
    "f=open('data_format1/user_info_format1.csv')\n",
    "for line in f:\n",
    "    l=line.strip()\n",
    "    if l=='user_id,age_range,gender':\n",
    "        continue\n",
    "    [user,age_range,gender]=l.split(',')\n",
    "    if age_range=='':\n",
    "        age_range='3'\n",
    "    if gender=='':\n",
    "        gender='0'\n",
    "    user_info[user]=(int(age_range),int(gender))"
   ]
  },
  {
   "cell_type": "code",
   "execution_count": 3,
   "metadata": {
    "collapsed": true
   },
   "outputs": [],
   "source": [
    "class predictor(object):\n",
    "    def __init__(self, mode):\n",
    "        self.mode=mode\n",
    "        if mode=='logistic regression':\n",
    "            self.clf=LogisticRegression(C=1e-3,class_weight='balanced',max_iter=10000,tol=1e-8)\n",
    "        elif mode=='decision tree':\n",
    "            self.clf=DecisionTreeClassifier(criterion='entropy',class_weight='balanced',min_samples_leaf=1000, max_leaf_nodes=5000)\n",
    "    def train(self):\n",
    "        self.clf.fit(X_train,y_train)\n",
    "    def predict(self,test_data):\n",
    "        return self.clf.predict_proba(test_data)[:,1]"
   ]
  },
  {
   "cell_type": "code",
   "execution_count": 4,
   "metadata": {
    "scrolled": false
   },
   "outputs": [
    {
     "name": "stdout",
     "output_type": "stream",
     "text": [
      "(260864, 17)\n",
      "test time # 1  ,AUC = 0.621537396667\n",
      "average_AUC = 0.621537396667\n"
     ]
    },
    {
     "data": {
      "image/png": "[encoded data removed]",
      "text/plain": [
       "<matplotlib.figure.Figure at 0x2096ad88d68>"
      ]
     },
     "metadata": {},
     "output_type": "display_data"
    }
   ],
   "source": [
    "average_AUC=0\n",
    "test_time=1\n",
    "\n",
    "for tt in range(test_time):\n",
    "\n",
    "    data_X=np.load('data/x_userinfo_ratio.npy') # 0,1,2,3,4,5,6,7\n",
    "    data_X_bias=np.load('data/x_bias.npy') # 8,9\n",
    "    data_X_bi=np.load('data/x_userinfo_branditem.npy') # 10,11\n",
    "    data_X_monthly=np.load('data/x_monthly.npy') # 12,13,14,15\n",
    "    data_y=np.load('data/y.npy') # 16\n",
    "    data=np.column_stack((data_X,data_X_bias))\n",
    "    data=np.column_stack((data,data_X_bi))\n",
    "    data=np.column_stack((data,data_X_monthly))\n",
    "    data=np.column_stack((data,data_y))\n",
    "    print(data.shape)\n",
    "    data=list(data)\n",
    "    new_data=[]\n",
    "    for datum in data:\n",
    "        l=list(datum)\n",
    "#         new_data.append([l[1],l[2],l[3],l[3]/l[7],l[4],l[4]/l[7],l[5],l[5]/l[7],l[6],l[6]/l[7],l[7],int(l[8])])\n",
    "        new_data.append([l[1]==1,l[1]==2,l[1]==3,l[1]==4,l[1]==5,l[1]==6,l[1]>=7,l[2],\n",
    "#                          l[3],l[3]/l[7],l[4],l[4]/l[7],l[5],l[5]/l[7],l[6],l[6]/l[7],l[7],\n",
    "                         l[3],l[4],l[5],l[6],l[7],\n",
    "                         l[8],l[9],l[10],l[11],l[12],l[13],l[14],l[15],\n",
    "                         int(l[16])])\n",
    "    random.shuffle(new_data)\n",
    "    new_data=np.array(new_data)\n",
    "#     np.save('data/new_data_train.npy',new_data)\n",
    "    data_X=new_data[:,:-1]\n",
    "    data_y=new_data[:,-1]\n",
    "    data_y=data_y.astype(int)\n",
    "#     print(data_X.shape)\n",
    "#     print(data_y.shape)\n",
    "\n",
    "    ratio=0.8\n",
    "    X_train=data_X[:int(num_train*ratio),:]\n",
    "    y_train=data_y[:int(num_train*ratio)]\n",
    "    X_val=data_X[int(num_train*ratio):,:]\n",
    "    y_val=data_y[int(num_train*ratio):]\n",
    "#     print(X_train.shape)\n",
    "#     print(y_train.shape)\n",
    "#     print(X_val.shape)\n",
    "#     print(y_val.shape)\n",
    "#     print(np.sum(y_train))\n",
    "#     print(np.sum(y_val))\n",
    "\n",
    "    lr=predictor('logistic regression')\n",
    "    lr.train()\n",
    "    bounds=np.linspace(0.0,1.0,1001)\n",
    "    perform_his=[]\n",
    "    \n",
    "    prob=lr.predict(X_val)\n",
    "\n",
    "    for bound in bounds:\n",
    "        pre=prob>bound\n",
    "        true_pos=np.sum(np.logical_and(pre==1,y_val==1))\n",
    "        true_neg=np.sum(np.logical_and(pre==0,y_val==0))\n",
    "        false_pos=np.sum(np.logical_and(pre==1,y_val==0))\n",
    "        false_neg=np.sum(np.logical_and(pre==0,y_val==1))\n",
    "        TPR=true_pos/(true_pos+false_neg)\n",
    "        FPR=false_pos/(false_pos+true_neg)\n",
    "        perform_his.append((FPR,TPR))\n",
    "        if tt==test_time-1:\n",
    "            plt.plot(FPR,TPR,'+')\n",
    "    perform_his_s= sorted(perform_his, key=lambda d:d[0])\n",
    "\n",
    "    AUC=0\n",
    "    for i in range(1,len(perform_his_s)):\n",
    "        pre_p=perform_his_s[i-1]\n",
    "        cur_p=perform_his_s[i]\n",
    "        AUC+=(cur_p[1]+pre_p[1])*(cur_p[0]-pre_p[0])/2\n",
    "\n",
    "    print('test time #',(tt+1),' ,AUC =',AUC)\n",
    "\n",
    "    # pre=lr.predict_proba(X_val)[:,1]>best_bound\n",
    "    # true_pos=np.sum(np.logical_and(pre==1,y_val==1))\n",
    "    # true_neg=np.sum(np.logical_and(pre==0,y_val==0))\n",
    "    # false_pos=np.sum(np.logical_and(pre==1,y_val==0))\n",
    "    # false_neg=np.sum(np.logical_and(pre==0,y_val==1))\n",
    "    # TPR=true_pos/np.sum(pre==1)\n",
    "    # TNR=true_neg/np.sum(pre==0)\n",
    "    # BER=1-(TPR+TNR)/2\n",
    "    # precision=true_pos/(true_pos+false_pos)\n",
    "    # recall=true_pos/(true_pos+false_neg)\n",
    "    # F1=2*precision*recall/(precision+recall)\n",
    "    # print('true_pos =',true_pos)\n",
    "    # print('true_neg =',true_neg)\n",
    "    # print('false_pos =',false_pos)\n",
    "    # print('false_neg =',false_neg)\n",
    "    # print('BER =',BER)\n",
    "    # print('precision =',precision)\n",
    "    # print('recall =',recall)\n",
    "    # print('F1 score =',F1)\n",
    "    \n",
    "    average_AUC+=AUC\n",
    "    \n",
    "print('average_AUC =',average_AUC/test_time)\n",
    "plt.show()"
   ]
  },
  {
   "cell_type": "code",
   "execution_count": 5,
   "metadata": {},
   "outputs": [
    {
     "name": "stdout",
     "output_type": "stream",
     "text": [
      "(261477, 16)\n",
      "[ 0.5280825   0.62296275  0.45686772 ...,  0.618551    0.44975201\n",
      "  0.44680215]\n"
     ]
    }
   ],
   "source": [
    "X_test=np.load('data/x_userinfo_ratio_test.npy')\n",
    "X_test_bias=np.load('data/x_bias_test.npy')\n",
    "X_test_bi=np.load('data/x_userinfo_branditem_test.npy') # 10,11\n",
    "X_test_monthly=np.load('data/x_monthly_test.npy') # 12,13,14,15\n",
    "data_test=np.column_stack((X_test,X_test_bias))\n",
    "data_test=np.column_stack((data_test,X_test_bi))\n",
    "data_test=np.column_stack((data_test,X_test_monthly))\n",
    "print(data_test.shape)\n",
    "data_test=list(data_test)\n",
    "new_data_test=[]\n",
    "for datum in data_test:\n",
    "    l=list(datum)\n",
    "#     new_data_test.append([l[1],l[2],l[3],l[3]/l[7],l[4],l[4]/l[7],l[5],l[5]/l[7],l[6],l[6]/l[7],l[7]])\n",
    "    new_data_test.append([l[1]==1,l[1]==2,l[1]==3,l[1]==4,l[1]==5,l[1]==6,l[1]>=7,l[2],\n",
    "#                          l[3],l[3]/l[7],l[4],l[4]/l[7],l[5],l[5]/l[7],l[6],l[6]/l[7],l[7],\n",
    "                         l[3],l[4],l[5],l[6],l[7],\n",
    "                         l[8],l[9],l[10],l[11],l[12],l[13],l[14],l[15]])\n",
    "X_test=np.array(new_data_test)\n",
    "np.save('data/new_data_test.npy',X_test)\n",
    "pre=lr.predict(X_test)\n",
    "print(pre)"
   ]
  },
  {
   "cell_type": "code",
   "execution_count": 6,
   "metadata": {
    "collapsed": true
   },
   "outputs": [],
   "source": [
    "f_out=open('prediction.csv','w')\n",
    "f_out.write('user_id,merchant_id,prob\\n')\n",
    "f_test=open('data_format1/test_format1.csv')\n",
    "i=0\n",
    "for line in f_test:\n",
    "    l=line.strip()\n",
    "    if l=='user_id,merchant_id,prob':\n",
    "        continue\n",
    "    [user,seller,_]=l.split(',')\n",
    "    f_out.write(user+','+seller+','+str(pre[i])+'\\n')\n",
    "    i+=1\n",
    "f_out.close()"
   ]
  },
  {
   "cell_type": "code",
   "execution_count": 7,
   "metadata": {
    "collapsed": true
   },
   "outputs": [],
   "source": [
    "# print(X_test)\n",
    "# print(pre)"
   ]
  },
  {
   "cell_type": "code",
   "execution_count": null,
   "metadata": {
    "collapsed": true
   },
   "outputs": [],
   "source": []
  }
 ],
 "metadata": {
  "kernelspec": {
   "display_name": "Python 3",
   "language": "python",
   "name": "python3"
  },
  "language_info": {
   "codemirror_mode": {
    "name": "ipython",
    "version": 3
   },
   "file_extension": ".py",
   "mimetype": "text/x-python",
   "name": "python",
   "nbconvert_exporter": "python",
   "pygments_lexer": "ipython3",
   "version": "3.6.2"
  }
 },
 "nbformat": 4,
 "nbformat_minor": 2
}
