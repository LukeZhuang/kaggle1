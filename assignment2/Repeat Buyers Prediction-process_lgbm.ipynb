{
 "cells": [
  {
   "cell_type": "code",
   "execution_count": 1,
   "metadata": {
    "collapsed": true
   },
   "outputs": [],
   "source": [
    "import numpy as np\n",
    "import pandas as pd\n",
    "import lightgbm as lgbm\n",
    "import random\n",
    "import time\n",
    "import matplotlib.pyplot as plt"
   ]
  },
  {
   "cell_type": "code",
   "execution_count": 2,
   "metadata": {},
   "outputs": [
    {
     "name": "stdout",
     "output_type": "stream",
     "text": [
      "260864\n",
      "261477\n",
      "(208691, 21)\n",
      "(208691,)\n",
      "(52173, 21)\n",
      "(52173,)\n"
     ]
    }
   ],
   "source": [
    "data=np.load('data/new_data_train.npy')\n",
    "X_test=np.load('data/new_data_test.npy')\n",
    "\n",
    "data_all=np.copy(data)\n",
    "\n",
    "data=list(data)\n",
    "random.shuffle(data)\n",
    "data=np.array(data)\n",
    "\n",
    "num_data=data.shape[0]\n",
    "num_test=X_test.shape[0]\n",
    "\n",
    "print(num_data)\n",
    "print(num_test)\n",
    "\n",
    "ratio_train=0.8\n",
    "\n",
    "data_train=data[:int(num_data*ratio_train),:]\n",
    "data_val=data[int(num_data*ratio_train):,:]\n",
    "\n",
    "X_train=data_train[:,:-1]\n",
    "y_train=data_train[:,-1]\n",
    "X_val=data_val[:,:-1]\n",
    "y_val=data_val[:,-1]\n",
    "\n",
    "print(X_train.shape)\n",
    "print(y_train.shape)\n",
    "print(X_val.shape)\n",
    "print(y_val.shape)"
   ]
  },
  {
   "cell_type": "code",
   "execution_count": 3,
   "metadata": {
    "scrolled": false
   },
   "outputs": [
    {
     "name": "stdout",
     "output_type": "stream",
     "text": [
      "weight = 15.3346117721\n",
      "[50]\tcv_agg's auc: 0.616705 + 0.00191067\n",
      "[100]\tcv_agg's auc: 0.61863 + 0.00210995\n",
      "[150]\tcv_agg's auc: 0.620331 + 0.00225576\n",
      "[200]\tcv_agg's auc: 0.621373 + 0.00236504\n",
      "[250]\tcv_agg's auc: 0.622089 + 0.00236126\n",
      "[300]\tcv_agg's auc: 0.62304 + 0.0022844\n",
      "[350]\tcv_agg's auc: 0.623914 + 0.00220073\n",
      "[400]\tcv_agg's auc: 0.624817 + 0.00219661\n",
      "[450]\tcv_agg's auc: 0.62557 + 0.00222548\n",
      "[500]\tcv_agg's auc: 0.62612 + 0.00215343\n",
      "[550]\tcv_agg's auc: 0.626549 + 0.00216127\n",
      "[600]\tcv_agg's auc: 0.626983 + 0.00219089\n",
      "[650]\tcv_agg's auc: 0.627333 + 0.00217789\n",
      "[700]\tcv_agg's auc: 0.627653 + 0.00216783\n",
      "[750]\tcv_agg's auc: 0.62795 + 0.00214307\n",
      "[800]\tcv_agg's auc: 0.628221 + 0.00217364\n",
      "[850]\tcv_agg's auc: 0.628449 + 0.00216129\n",
      "[900]\tcv_agg's auc: 0.628687 + 0.00217147\n",
      "[950]\tcv_agg's auc: 0.62887 + 0.00218932\n",
      "[1000]\tcv_agg's auc: 0.629048 + 0.00218201\n",
      "[1050]\tcv_agg's auc: 0.629189 + 0.00218551\n",
      "[1100]\tcv_agg's auc: 0.62934 + 0.00218419\n",
      "[1150]\tcv_agg's auc: 0.629447 + 0.00219278\n",
      "[1200]\tcv_agg's auc: 0.62956 + 0.00219102\n",
      "[1250]\tcv_agg's auc: 0.629642 + 0.00218353\n",
      "[1300]\tcv_agg's auc: 0.629748 + 0.00216347\n",
      "[1350]\tcv_agg's auc: 0.62984 + 0.00215052\n",
      "[1400]\tcv_agg's auc: 0.629911 + 0.00215456\n",
      "[1450]\tcv_agg's auc: 0.62998 + 0.00214597\n",
      "[1500]\tcv_agg's auc: 0.630032 + 0.00215384\n",
      "[1550]\tcv_agg's auc: 0.630085 + 0.00215147\n",
      "[1600]\tcv_agg's auc: 0.630139 + 0.00215677\n",
      "[1650]\tcv_agg's auc: 0.630181 + 0.00215881\n",
      "[1700]\tcv_agg's auc: 0.630242 + 0.00215385\n",
      "[1750]\tcv_agg's auc: 0.630276 + 0.00214301\n",
      "[1800]\tcv_agg's auc: 0.630308 + 0.00213943\n",
      "[1850]\tcv_agg's auc: 0.630332 + 0.00214627\n",
      "[1900]\tcv_agg's auc: 0.630358 + 0.00214193\n",
      "[1950]\tcv_agg's auc: 0.630379 + 0.00215036\n",
      "[2000]\tcv_agg's auc: 0.630397 + 0.00215145\n",
      "[2050]\tcv_agg's auc: 0.630425 + 0.00216783\n",
      "[2100]\tcv_agg's auc: 0.630443 + 0.00217933\n",
      "[2150]\tcv_agg's auc: 0.630469 + 0.00220715\n",
      "[2200]\tcv_agg's auc: 0.630485 + 0.00223253\n",
      "[2250]\tcv_agg's auc: 0.630504 + 0.00225299\n",
      "[2300]\tcv_agg's auc: 0.630527 + 0.0022746\n",
      "[2350]\tcv_agg's auc: 0.63054 + 0.00228048\n",
      "[2400]\tcv_agg's auc: 0.63056 + 0.00229998\n",
      "[2450]\tcv_agg's auc: 0.630577 + 0.00230728\n",
      "[2500]\tcv_agg's auc: 0.630586 + 0.00232711\n",
      "[2550]\tcv_agg's auc: 0.630595 + 0.00235148\n",
      "[2600]\tcv_agg's auc: 0.630596 + 0.0023676\n",
      "[2650]\tcv_agg's auc: 0.630603 + 0.00238295\n",
      "[2700]\tcv_agg's auc: 0.630608 + 0.00238833\n",
      "[2750]\tcv_agg's auc: 0.630607 + 0.00239627\n",
      "[2800]\tcv_agg's auc: 0.63062 + 0.00240889\n",
      "[2850]\tcv_agg's auc: 0.630634 + 0.00242594\n",
      "[2900]\tcv_agg's auc: 0.630624 + 0.00243959\n",
      "[2950]\tcv_agg's auc: 0.630625 + 0.00245137\n",
      "[3000]\tcv_agg's auc: 0.630628 + 0.00247372\n",
      "[3050]\tcv_agg's auc: 0.630622 + 0.00248209\n",
      "[3100]\tcv_agg's auc: 0.630619 + 0.00249862\n",
      "[3150]\tcv_agg's auc: 0.630633 + 0.00251054\n",
      "[3200]\tcv_agg's auc: 0.630634 + 0.00250739\n",
      "[3250]\tcv_agg's auc: 0.630634 + 0.00251921\n",
      "[3300]\tcv_agg's auc: 0.630643 + 0.00251983\n",
      "[3350]\tcv_agg's auc: 0.630636 + 0.00253299\n",
      "[3400]\tcv_agg's auc: 0.630641 + 0.00254613\n",
      "[3450]\tcv_agg's auc: 0.630648 + 0.00256384\n",
      "[3500]\tcv_agg's auc: 0.630646 + 0.00257126\n",
      "[3550]\tcv_agg's auc: 0.630645 + 0.00258426\n",
      "[3600]\tcv_agg's auc: 0.630646 + 0.00258993\n",
      "[3650]\tcv_agg's auc: 0.630643 + 0.00260315\n",
      "[3700]\tcv_agg's auc: 0.630641 + 0.00261484\n",
      "[3750]\tcv_agg's auc: 0.63063 + 0.0026204\n",
      "[3800]\tcv_agg's auc: 0.630642 + 0.00263018\n",
      "[3850]\tcv_agg's auc: 0.630642 + 0.00263568\n",
      "[3900]\tcv_agg's auc: 0.630634 + 0.0026347\n",
      "[3950]\tcv_agg's auc: 0.630632 + 0.0026393\n",
      "[4000]\tcv_agg's auc: 0.630628 + 0.0026416\n",
      "best cv score: 0.630655341217\n"
     ]
    },
    {
     "data": {
      "image/png": "[encoded data removed]",
      "text/plain": [
       "<matplotlib.figure.Figure at 0x2544b84a3c8>"
      ]
     },
     "metadata": {},
     "output_type": "display_data"
    },
    {
     "name": "stdout",
     "output_type": "stream",
     "text": [
      "Training until validation scores don't improve for 500 rounds.\n",
      "[50]\tvalid_0's auc: 0.610649\n",
      "[100]\tvalid_0's auc: 0.611581\n",
      "[150]\tvalid_0's auc: 0.612478\n",
      "[200]\tvalid_0's auc: 0.613741\n",
      "[250]\tvalid_0's auc: 0.614145\n",
      "[300]\tvalid_0's auc: 0.614813\n",
      "[350]\tvalid_0's auc: 0.615375\n",
      "[400]\tvalid_0's auc: 0.616092\n",
      "[450]\tvalid_0's auc: 0.616841\n",
      "[500]\tvalid_0's auc: 0.617447\n",
      "[550]\tvalid_0's auc: 0.617829\n",
      "[600]\tvalid_0's auc: 0.618175\n",
      "[650]\tvalid_0's auc: 0.618659\n",
      "[700]\tvalid_0's auc: 0.619064\n",
      "[750]\tvalid_0's auc: 0.619416\n",
      "[800]\tvalid_0's auc: 0.619723\n",
      "[850]\tvalid_0's auc: 0.619971\n",
      "[900]\tvalid_0's auc: 0.620227\n",
      "[950]\tvalid_0's auc: 0.620418\n",
      "[1000]\tvalid_0's auc: 0.620614\n",
      "[1050]\tvalid_0's auc: 0.620818\n",
      "[1100]\tvalid_0's auc: 0.620978\n",
      "[1150]\tvalid_0's auc: 0.621119\n",
      "[1200]\tvalid_0's auc: 0.621254\n",
      "[1250]\tvalid_0's auc: 0.621351\n",
      "[1300]\tvalid_0's auc: 0.621484\n",
      "[1350]\tvalid_0's auc: 0.621613\n",
      "[1400]\tvalid_0's auc: 0.621673\n",
      "[1450]\tvalid_0's auc: 0.621746\n",
      "[1500]\tvalid_0's auc: 0.621807\n",
      "[1550]\tvalid_0's auc: 0.621882\n",
      "[1600]\tvalid_0's auc: 0.621939\n",
      "[1650]\tvalid_0's auc: 0.621982\n",
      "[1700]\tvalid_0's auc: 0.622036\n",
      "[1750]\tvalid_0's auc: 0.622087\n",
      "[1800]\tvalid_0's auc: 0.622096\n",
      "[1850]\tvalid_0's auc: 0.622144\n",
      "[1900]\tvalid_0's auc: 0.622176\n",
      "[1950]\tvalid_0's auc: 0.622187\n",
      "[2000]\tvalid_0's auc: 0.622177\n",
      "[2050]\tvalid_0's auc: 0.62221\n",
      "[2100]\tvalid_0's auc: 0.622255\n",
      "[2150]\tvalid_0's auc: 0.622265\n",
      "[2200]\tvalid_0's auc: 0.622298\n",
      "[2250]\tvalid_0's auc: 0.622321\n",
      "[2300]\tvalid_0's auc: 0.622317\n",
      "[2350]\tvalid_0's auc: 0.622341\n",
      "[2400]\tvalid_0's auc: 0.62236\n",
      "[2450]\tvalid_0's auc: 0.622381\n",
      "[2500]\tvalid_0's auc: 0.622402\n",
      "[2550]\tvalid_0's auc: 0.622434\n",
      "[2600]\tvalid_0's auc: 0.62243\n",
      "[2650]\tvalid_0's auc: 0.622459\n",
      "[2700]\tvalid_0's auc: 0.622488\n",
      "[2750]\tvalid_0's auc: 0.622524\n",
      "[2800]\tvalid_0's auc: 0.622552\n",
      "[2850]\tvalid_0's auc: 0.622571\n",
      "[2900]\tvalid_0's auc: 0.622622\n",
      "[2950]\tvalid_0's auc: 0.622633\n",
      "[3000]\tvalid_0's auc: 0.622665\n",
      "[3050]\tvalid_0's auc: 0.622678\n",
      "[3100]\tvalid_0's auc: 0.622709\n",
      "[3150]\tvalid_0's auc: 0.622752\n",
      "[3200]\tvalid_0's auc: 0.622766\n",
      "[3250]\tvalid_0's auc: 0.622798\n",
      "[3300]\tvalid_0's auc: 0.622814\n",
      "[3350]\tvalid_0's auc: 0.622823\n",
      "[3400]\tvalid_0's auc: 0.622859\n",
      "[3450]\tvalid_0's auc: 0.622862\n",
      "[3500]\tvalid_0's auc: 0.62288\n",
      "[3550]\tvalid_0's auc: 0.622877\n",
      "[3600]\tvalid_0's auc: 0.622877\n",
      "[3650]\tvalid_0's auc: 0.622895\n",
      "[3700]\tvalid_0's auc: 0.622918\n",
      "[3750]\tvalid_0's auc: 0.622935\n",
      "[3800]\tvalid_0's auc: 0.622958\n",
      "[3850]\tvalid_0's auc: 0.622978\n",
      "[3900]\tvalid_0's auc: 0.623004\n",
      "[3950]\tvalid_0's auc: 0.623025\n",
      "[4000]\tvalid_0's auc: 0.623028\n",
      "[4050]\tvalid_0's auc: 0.623029\n",
      "[4100]\tvalid_0's auc: 0.623027\n",
      "[4150]\tvalid_0's auc: 0.623029\n",
      "[4200]\tvalid_0's auc: 0.623017\n",
      "[4250]\tvalid_0's auc: 0.62299\n",
      "[4300]\tvalid_0's auc: 0.622966\n",
      "[4350]\tvalid_0's auc: 0.622952\n",
      "[4400]\tvalid_0's auc: 0.622925\n",
      "[4450]\tvalid_0's auc: 0.622902\n",
      "[4500]\tvalid_0's auc: 0.622893\n",
      "[4550]\tvalid_0's auc: 0.622873\n",
      "Early stopping, best iteration is:\n",
      "[4053]\tvalid_0's auc: 0.623036\n"
     ]
    }
   ],
   "source": [
    "num1=np.sum(y_train)\n",
    "num0=y_train.shape[0]-num1\n",
    "weight=num0/num1\n",
    "print('weight =',weight)\n",
    "\n",
    "lgbm_params = {\n",
    "    'boosting_type': 'gbdt', 'objective': 'binary', 'nthread': -1,\n",
    "    'num_leaves': 2**2-1, 'learning_rate': 0.01, 'max_depth': 8, 'subsample_for_bin': 200000,\n",
    "    'subsample': 1.0, 'subsample_freq': 1, 'colsample_bytree': 0.6, 'reg_alpha': 0, 'reg_lambda': 3,\n",
    "    'min_split_gain': 0.8, 'min_child_weight': 1.0, 'min_child_samples': 5000, \n",
    "    'scale_pos_weight': weight,'metric':'auc'}\n",
    "\n",
    "\n",
    "# t4 = lgbm.sklearn.LGBMClassifier(n_estimators=1000, seed=0, **t4_params)\n",
    "\n",
    "train_data = lgbm.Dataset(X_train, label=y_train)\n",
    "validation_data = lgbm.Dataset(X_val, label=y_val)\n",
    "dataset=lgbm.Dataset(data_all[:,:-1], label=data_all[:,-1])\n",
    "\n",
    "num_round = 5000\n",
    "# bst = lgbm.train(lgbm_params, train_data, num_round, valid_sets=[validation_data], verbose_eval=50,early_stopping_rounds=500)\n",
    "cv_results = lgbm.cv(lgbm_params, dataset, num_round, nfold=5, verbose_eval=50, early_stopping_rounds=500)\n",
    "print('best cv score:', cv_results['auc-mean'][-1])\n",
    "\n",
    "plt.errorbar(x=range(0, len(cv_results['auc-mean'])),\n",
    "             y=cv_results['auc-mean'])\n",
    "plt.xlabel('iteration')\n",
    "plt.ylabel('AUC')\n",
    "plt.savefig('img/AUC_his.png')\n",
    "plt.show()\n",
    "\n",
    "bst = lgbm.train(lgbm_params, train_data, num_round, valid_sets=[validation_data], verbose_eval=50,early_stopping_rounds=500)\n"
   ]
  },
  {
   "cell_type": "code",
   "execution_count": 4,
   "metadata": {},
   "outputs": [
    {
     "name": "stdout",
     "output_type": "stream",
     "text": [
      "[ 0.55388707  0.45412629  0.67246061 ...,  0.42406181  0.50766556\n",
      "  0.63546965]\n"
     ]
    }
   ],
   "source": [
    "ypred = bst.predict(X_val)\n",
    "print(ypred)"
   ]
  },
  {
   "cell_type": "code",
   "execution_count": null,
   "metadata": {},
   "outputs": [
    {
     "data": {
      "image/png": "[encoded data removed]",
      "text/plain": [
       "<matplotlib.figure.Figure at 0x2544b8a0940>"
      ]
     },
     "metadata": {},
     "output_type": "display_data"
    },
    {
     "name": "stdout",
     "output_type": "stream",
     "text": [
      "AUC = 0.623030324583\n"
     ]
    }
   ],
   "source": [
    "perform_his=[]\n",
    "bounds=np.linspace(0.0,1.0,1001)\n",
    "\n",
    "for bound in bounds:\n",
    "    pre=ypred>bound\n",
    "    true_pos=np.sum(np.logical_and(pre==1,y_val==1))\n",
    "    true_neg=np.sum(np.logical_and(pre==0,y_val==0))\n",
    "    false_pos=np.sum(np.logical_and(pre==1,y_val==0))\n",
    "    false_neg=np.sum(np.logical_and(pre==0,y_val==1))\n",
    "    TPR=true_pos/(true_pos+false_neg)\n",
    "    FPR=false_pos/(false_pos+true_neg)\n",
    "    perform_his.append((FPR,TPR))\n",
    "    plt.plot(FPR,TPR,'+')\n",
    "    perform_his_s= sorted(perform_his, key=lambda d:d[0])\n",
    "\n",
    "plt.title('ROC curve')\n",
    "plt.savefig('img/ROC.png')\n",
    "plt.show()\n",
    "\n",
    "AUC=0\n",
    "for i in range(1,len(perform_his_s)):\n",
    "    pre_p=perform_his_s[i-1]\n",
    "    cur_p=perform_his_s[i]\n",
    "    AUC+=(cur_p[1]+pre_p[1])*(cur_p[0]-pre_p[0])/2\n",
    "    \n",
    "print('AUC =',AUC)"
   ]
  },
  {
   "cell_type": "code",
   "execution_count": null,
   "metadata": {
    "collapsed": true
   },
   "outputs": [],
   "source": [
    "ypred = bst.predict(X_test)\n",
    "print(ypred)"
   ]
  },
  {
   "cell_type": "code",
   "execution_count": null,
   "metadata": {
    "collapsed": true
   },
   "outputs": [],
   "source": [
    "f_out=open('prediction.csv','w')\n",
    "f_out.write('user_id,merchant_id,prob\\n')\n",
    "f_test=open('data_format1/test_format1.csv')\n",
    "i=0\n",
    "for line in f_test:\n",
    "    l=line.strip()\n",
    "    if l=='user_id,merchant_id,prob':\n",
    "        continue\n",
    "    [user,seller,_]=l.split(',')\n",
    "    f_out.write(user+','+seller+','+str(ypred[i])+'\\n')\n",
    "    i+=1\n",
    "f_out.close()"
   ]
  },
  {
   "cell_type": "code",
   "execution_count": null,
   "metadata": {
    "collapsed": true
   },
   "outputs": [],
   "source": [
    "print(lgbm_params)"
   ]
  },
  {
   "cell_type": "code",
   "execution_count": null,
   "metadata": {
    "collapsed": true
   },
   "outputs": [],
   "source": []
  }
 ],
 "metadata": {
  "kernelspec": {
   "display_name": "Python 3",
   "language": "python",
   "name": "python3"
  },
  "language_info": {
   "codemirror_mode": {
    "name": "ipython",
    "version": 3
   },
   "file_extension": ".py",
   "mimetype": "text/x-python",
   "name": "python",
   "nbconvert_exporter": "python",
   "pygments_lexer": "ipython3",
   "version": "3.6.2"
  }
 },
 "nbformat": 4,
 "nbformat_minor": 2
}
