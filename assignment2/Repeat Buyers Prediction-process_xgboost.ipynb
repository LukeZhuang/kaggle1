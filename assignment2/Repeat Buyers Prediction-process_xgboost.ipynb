{
 "cells": [
  {
   "cell_type": "code",
   "execution_count": 1,
   "metadata": {
    "collapsed": true
   },
   "outputs": [],
   "source": [
    "import numpy as np\n",
    "import pandas as pd\n",
    "import xgboost as xgb\n",
    "import random\n",
    "import time\n",
    "import matplotlib.pyplot as plt"
   ]
  },
  {
   "cell_type": "code",
   "execution_count": 2,
   "metadata": {},
   "outputs": [
    {
     "name": "stdout",
     "output_type": "stream",
     "text": [
      "260864\n",
      "261477\n",
      "(208691, 21)\n",
      "(208691,)\n",
      "(52173, 21)\n",
      "(52173,)\n"
     ]
    }
   ],
   "source": [
    "data=np.load('data/new_data_train.npy')\n",
    "X_test=np.load('data/new_data_test.npy')\n",
    "\n",
    "data_all=np.copy(data)\n",
    "\n",
    "data=list(data)\n",
    "random.shuffle(data)\n",
    "data=np.array(data)\n",
    "\n",
    "num_data=data.shape[0]\n",
    "num_test=X_test.shape[0]\n",
    "\n",
    "print(num_data)\n",
    "print(num_test)\n",
    "\n",
    "ratio_train=0.8\n",
    "\n",
    "data_train=data[:int(num_data*ratio_train),:]\n",
    "data_val=data[int(num_data*ratio_train):,:]\n",
    "\n",
    "X_train=data_train[:,:-1]\n",
    "y_train=data_train[:,-1]\n",
    "X_val=data_val[:,:-1]\n",
    "y_val=data_val[:,-1]\n",
    "\n",
    "print(X_train.shape)\n",
    "print(y_train.shape)\n",
    "print(X_val.shape)\n",
    "print(y_val.shape)"
   ]
  },
  {
   "cell_type": "code",
   "execution_count": 3,
   "metadata": {},
   "outputs": [
    {
     "name": "stdout",
     "output_type": "stream",
     "text": [
      "15.4673715774\n",
      "[0]\tval-auc:0.601085\n",
      "Will train until val-auc hasn't improved in 500 rounds.\n",
      "[50]\tval-auc:0.604215\n",
      "[100]\tval-auc:0.607356\n",
      "[150]\tval-auc:0.608527\n",
      "[200]\tval-auc:0.609553\n",
      "[250]\tval-auc:0.611671\n",
      "[300]\tval-auc:0.612211\n",
      "[350]\tval-auc:0.612503\n",
      "[400]\tval-auc:0.613215\n",
      "[450]\tval-auc:0.613639\n",
      "[500]\tval-auc:0.614134\n",
      "[550]\tval-auc:0.614414\n",
      "[600]\tval-auc:0.614635\n",
      "[650]\tval-auc:0.614725\n",
      "[700]\tval-auc:0.614798\n",
      "[750]\tval-auc:0.614871\n",
      "[800]\tval-auc:0.615003\n",
      "[850]\tval-auc:0.615102\n",
      "[900]\tval-auc:0.615271\n",
      "[950]\tval-auc:0.61538\n",
      "[1000]\tval-auc:0.615473\n",
      "[1050]\tval-auc:0.615544\n",
      "[1100]\tval-auc:0.615682\n",
      "[1150]\tval-auc:0.615838\n",
      "[1200]\tval-auc:0.61581\n",
      "[1250]\tval-auc:0.615752\n",
      "[1300]\tval-auc:0.615818\n",
      "[1350]\tval-auc:0.616002\n",
      "[1400]\tval-auc:0.616078\n",
      "[1450]\tval-auc:0.61607\n",
      "[1500]\tval-auc:0.616014\n",
      "[1550]\tval-auc:0.615954\n",
      "[1600]\tval-auc:0.615921\n"
     ]
    },
    {
     "ename": "KeyboardInterrupt",
     "evalue": "",
     "output_type": "error",
     "traceback": [
      "\u001b[1;31m---------------------------------------------------------------------------\u001b[0m",
      "\u001b[1;31mKeyboardInterrupt\u001b[0m                         Traceback (most recent call last)",
      "\u001b[1;32m<ipython-input-3-a7b58243782f>\u001b[0m in \u001b[0;36m<module>\u001b[1;34m()\u001b[0m\n\u001b[0;32m     17\u001b[0m \u001b[1;33m\u001b[0m\u001b[0m\n\u001b[0;32m     18\u001b[0m bst = xgb.train(param, data_train, num_boost_round=num_round, evals=[(data_validation,'val')], \n\u001b[1;32m---> 19\u001b[1;33m                 verbose_eval =50, early_stopping_rounds=500)\n\u001b[0m",
      "\u001b[1;32mD:\\Anaconda3\\lib\\site-packages\\xgboost-0.6-py3.6.egg\\xgboost\\training.py\u001b[0m in \u001b[0;36mtrain\u001b[1;34m(params, dtrain, num_boost_round, evals, obj, feval, maximize, early_stopping_rounds, evals_result, verbose_eval, xgb_model, callbacks, learning_rates)\u001b[0m\n\u001b[0;32m    202\u001b[0m                            \u001b[0mevals\u001b[0m\u001b[1;33m=\u001b[0m\u001b[0mevals\u001b[0m\u001b[1;33m,\u001b[0m\u001b[1;33m\u001b[0m\u001b[0m\n\u001b[0;32m    203\u001b[0m                            \u001b[0mobj\u001b[0m\u001b[1;33m=\u001b[0m\u001b[0mobj\u001b[0m\u001b[1;33m,\u001b[0m \u001b[0mfeval\u001b[0m\u001b[1;33m=\u001b[0m\u001b[0mfeval\u001b[0m\u001b[1;33m,\u001b[0m\u001b[1;33m\u001b[0m\u001b[0m\n\u001b[1;32m--> 204\u001b[1;33m                            xgb_model=xgb_model, callbacks=callbacks)\n\u001b[0m\u001b[0;32m    205\u001b[0m \u001b[1;33m\u001b[0m\u001b[0m\n\u001b[0;32m    206\u001b[0m \u001b[1;33m\u001b[0m\u001b[0m\n",
      "\u001b[1;32mD:\\Anaconda3\\lib\\site-packages\\xgboost-0.6-py3.6.egg\\xgboost\\training.py\u001b[0m in \u001b[0;36m_train_internal\u001b[1;34m(params, dtrain, num_boost_round, evals, obj, feval, xgb_model, callbacks)\u001b[0m\n\u001b[0;32m     72\u001b[0m         \u001b[1;31m# Skip the first update if it is a recovery step.\u001b[0m\u001b[1;33m\u001b[0m\u001b[1;33m\u001b[0m\u001b[0m\n\u001b[0;32m     73\u001b[0m         \u001b[1;32mif\u001b[0m \u001b[0mversion\u001b[0m \u001b[1;33m%\u001b[0m \u001b[1;36m2\u001b[0m \u001b[1;33m==\u001b[0m \u001b[1;36m0\u001b[0m\u001b[1;33m:\u001b[0m\u001b[1;33m\u001b[0m\u001b[0m\n\u001b[1;32m---> 74\u001b[1;33m             \u001b[0mbst\u001b[0m\u001b[1;33m.\u001b[0m\u001b[0mupdate\u001b[0m\u001b[1;33m(\u001b[0m\u001b[0mdtrain\u001b[0m\u001b[1;33m,\u001b[0m \u001b[0mi\u001b[0m\u001b[1;33m,\u001b[0m \u001b[0mobj\u001b[0m\u001b[1;33m)\u001b[0m\u001b[1;33m\u001b[0m\u001b[0m\n\u001b[0m\u001b[0;32m     75\u001b[0m             \u001b[0mbst\u001b[0m\u001b[1;33m.\u001b[0m\u001b[0msave_rabit_checkpoint\u001b[0m\u001b[1;33m(\u001b[0m\u001b[1;33m)\u001b[0m\u001b[1;33m\u001b[0m\u001b[0m\n\u001b[0;32m     76\u001b[0m             \u001b[0mversion\u001b[0m \u001b[1;33m+=\u001b[0m \u001b[1;36m1\u001b[0m\u001b[1;33m\u001b[0m\u001b[0m\n",
      "\u001b[1;32mD:\\Anaconda3\\lib\\site-packages\\xgboost-0.6-py3.6.egg\\xgboost\\core.py\u001b[0m in \u001b[0;36mupdate\u001b[1;34m(self, dtrain, iteration, fobj)\u001b[0m\n\u001b[0;32m    896\u001b[0m         \u001b[1;32mif\u001b[0m \u001b[0mfobj\u001b[0m \u001b[1;32mis\u001b[0m \u001b[1;32mNone\u001b[0m\u001b[1;33m:\u001b[0m\u001b[1;33m\u001b[0m\u001b[0m\n\u001b[0;32m    897\u001b[0m             _check_call(_LIB.XGBoosterUpdateOneIter(self.handle, ctypes.c_int(iteration),\n\u001b[1;32m--> 898\u001b[1;33m                                                     dtrain.handle))\n\u001b[0m\u001b[0;32m    899\u001b[0m         \u001b[1;32melse\u001b[0m\u001b[1;33m:\u001b[0m\u001b[1;33m\u001b[0m\u001b[0m\n\u001b[0;32m    900\u001b[0m             \u001b[0mpred\u001b[0m \u001b[1;33m=\u001b[0m \u001b[0mself\u001b[0m\u001b[1;33m.\u001b[0m\u001b[0mpredict\u001b[0m\u001b[1;33m(\u001b[0m\u001b[0mdtrain\u001b[0m\u001b[1;33m)\u001b[0m\u001b[1;33m\u001b[0m\u001b[0m\n",
      "\u001b[1;31mKeyboardInterrupt\u001b[0m: "
     ]
    }
   ],
   "source": [
    "num1=np.sum(y_train)\n",
    "num0=y_train.shape[0]-num1\n",
    "weight=num0/num1\n",
    "print(weight)\n",
    "\n",
    "data_train = xgb.DMatrix(X_train, label=y_train)\n",
    "data_validation = xgb.DMatrix(X_val, label=y_val)\n",
    "data_test = xgb.DMatrix(X_test)\n",
    "\n",
    "data = xgb.DMatrix(data_all[:,:-1],label=data_all[:,-1])\n",
    "\n",
    "param = {'objective':'binary:logistic', 'scale_pos_weight':weight, 'learning_rate':0.001, 'max_depth':8, 'eval_metric':'auc',\n",
    "         'min_child_weight':1, 'subsample':1, 'nthread':4, 'n_estimators':100,\n",
    "         'reg_alpha': 1, 'reg_lambda':1}\n",
    "\n",
    "num_round = 5000\n",
    "\n",
    "bst = xgb.train(param, data_train, num_boost_round=num_round, evals=[(data_validation,'val')], \n",
    "                verbose_eval =50, early_stopping_rounds=500)"
   ]
  },
  {
   "cell_type": "code",
   "execution_count": null,
   "metadata": {
    "collapsed": true
   },
   "outputs": [],
   "source": [
    "y_pred = bst.predict(data_validation)\n",
    "print(y_pred)"
   ]
  },
  {
   "cell_type": "code",
   "execution_count": null,
   "metadata": {
    "collapsed": true
   },
   "outputs": [],
   "source": [
    "perform_his=[]\n",
    "bounds=np.linspace(0.0,1.0,1001)\n",
    "\n",
    "for bound in bounds:\n",
    "    pre=y_pred>bound\n",
    "    true_pos=np.sum(np.logical_and(pre==1,y_val==1))\n",
    "    true_neg=np.sum(np.logical_and(pre==0,y_val==0))\n",
    "    false_pos=np.sum(np.logical_and(pre==1,y_val==0))\n",
    "    false_neg=np.sum(np.logical_and(pre==0,y_val==1))\n",
    "    TPR=true_pos/(true_pos+false_neg)\n",
    "    FPR=false_pos/(false_pos+true_neg)\n",
    "    perform_his.append((FPR,TPR))\n",
    "    plt.plot(FPR,TPR,'+')\n",
    "    perform_his_s= sorted(perform_his, key=lambda d:d[0])\n",
    "    \n",
    "plt.show()\n",
    "\n",
    "AUC=0\n",
    "for i in range(1,len(perform_his_s)):\n",
    "    pre_p=perform_his_s[i-1]\n",
    "    cur_p=perform_his_s[i]\n",
    "    AUC+=(cur_p[1]+pre_p[1])*(cur_p[0]-pre_p[0])/2\n",
    "    \n",
    "print('AUC =',AUC)"
   ]
  },
  {
   "cell_type": "code",
   "execution_count": null,
   "metadata": {
    "collapsed": true
   },
   "outputs": [],
   "source": [
    "ypred = bst.predict(data_test)\n",
    "print(ypred)"
   ]
  },
  {
   "cell_type": "code",
   "execution_count": null,
   "metadata": {
    "collapsed": true
   },
   "outputs": [],
   "source": [
    "f_out=open('prediction.csv','w')\n",
    "f_out.write('user_id,merchant_id,prob\\n')\n",
    "f_test=open('data_format1/test_format1.csv')\n",
    "i=0\n",
    "for line in f_test:\n",
    "    l=line.strip()\n",
    "    if l=='user_id,merchant_id,prob':\n",
    "        continue\n",
    "    [user,seller,_]=l.split(',')\n",
    "    f_out.write(user+','+seller+','+str(ypred[i])+'\\n')\n",
    "    i+=1\n",
    "f_out.close()"
   ]
  }
 ],
 "metadata": {
  "kernelspec": {
   "display_name": "Python 3",
   "language": "python",
   "name": "python3"
  },
  "language_info": {
   "codemirror_mode": {
    "name": "ipython",
    "version": 3
   },
   "file_extension": ".py",
   "mimetype": "text/x-python",
   "name": "python",
   "nbconvert_exporter": "python",
   "pygments_lexer": "ipython3",
   "version": "3.6.2"
  }
 },
 "nbformat": 4,
 "nbformat_minor": 2
}
