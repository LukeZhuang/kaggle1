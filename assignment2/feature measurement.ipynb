{
 "cells": [
  {
   "cell_type": "code",
   "execution_count": 1,
   "metadata": {},
   "outputs": [],
   "source": [
    "import numpy as np\n",
    "from sklearn.linear_model import LogisticRegression\n",
    "from sklearn.model_selection import cross_val_score\n",
    "import matplotlib.pyplot as plt"
   ]
  },
  {
   "cell_type": "code",
   "execution_count": 2,
   "metadata": {},
   "outputs": [
    {
     "name": "stdout",
     "output_type": "stream",
     "text": [
      "(260864, 21)\n",
      "(260864,)\n"
     ]
    }
   ],
   "source": [
    "data_train=np.load('data/new_data_train.npy')\n",
    "X_train=data_train[:,:-1]\n",
    "y_train=data_train[:,-1]\n",
    "print(X_train.shape)\n",
    "print(y_train.shape)"
   ]
  },
  {
   "cell_type": "code",
   "execution_count": 37,
   "metadata": {
    "collapsed": true
   },
   "outputs": [],
   "source": [
    "user_profile_feature=X_train[:,:8]\n",
    "click_count=X_train[:,8].reshape(X_train.shape[0],1)\n",
    "favourite_count=X_train[:,9].reshape(X_train.shape[0],1)\n",
    "purchase_count=X_train[:,10].reshape(X_train.shape[0],1)\n",
    "cart_count=X_train[:,11].reshape(X_train.shape[0],1)\n",
    "action_count=X_train[:,12].reshape(X_train.shape[0],1)\n",
    "num_seller_count=X_train[:,13].reshape(X_train.shape[0],1)\n",
    "num_repeat_seller_count=X_train[:,14].reshape(X_train.shape[0],1)\n",
    "distinct_item_count=X_train[:,15].reshape(X_train.shape[0],1)\n",
    "distinct_brand_count=X_train[:,16].reshape(X_train.shape[0],1)\n",
    "month_count=X_train[:,17].reshape(X_train.shape[0],1)\n",
    "month_action_count=X_train[:,18].reshape(X_train.shape[0],1)\n",
    "month_action_mean=X_train[:,19].reshape(X_train.shape[0],1)\n",
    "month_action_std=X_train[:,20].reshape(X_train.shape[0],1)\n",
    "\n",
    "user_merchant_action_history=np.column_stack((click_count,favourite_count,purchase_count,cart_count,\n",
    "                                              action_count,distinct_item_count,distinct_brand_count))\n",
    "repeat_buyer_features=np.column_stack((num_seller_count,num_repeat_seller_count))\n",
    "monthly_aggregation_feature=np.column_stack((month_count,month_action_count,month_action_mean,month_action_std))"
   ]
  },
  {
   "cell_type": "code",
   "execution_count": 66,
   "metadata": {
    "scrolled": false
   },
   "outputs": [
    {
     "name": "stdout",
     "output_type": "stream",
     "text": [
      "[ 0.57134442  0.57325807  0.5757289   0.57014041  0.56187372  0.5741877\n",
      "  0.57938909  0.57041495  0.56903274  0.56793832]\n",
      "mean AUC value = 0.571330831798\n"
     ]
    }
   ],
   "source": [
    "clf=LogisticRegression(C=1,class_weight='balanced',max_iter=10000,tol=1e-8)\n",
    "scores = cross_val_score(clf, num_repeat_seller_count/num_seller_count, y_train, cv=10, scoring='roc_auc')\n",
    "print(scores)\n",
    "print('mean AUC value =',np.mean(scores))"
   ]
  },
  {
   "cell_type": "code",
   "execution_count": null,
   "metadata": {},
   "outputs": [],
   "source": [
    "plt.title('favourite action count feature')\n",
    "plt.xlabel('iteration')\n",
    "plt.ylabel('AUC')\n",
    "plt.plot(cv_results['auc-mean'])\n",
    "plt.savefig('img/favourite action count.png')\n",
    "plt.show()"
   ]
  },
  {
   "cell_type": "code",
   "execution_count": null,
   "metadata": {
    "collapsed": true
   },
   "outputs": [],
   "source": []
  }
 ],
 "metadata": {
  "kernelspec": {
   "display_name": "Python 3",
   "language": "python",
   "name": "python3"
  },
  "language_info": {
   "codemirror_mode": {
    "name": "ipython",
    "version": 3
   },
   "file_extension": ".py",
   "mimetype": "text/x-python",
   "name": "python",
   "nbconvert_exporter": "python",
   "pygments_lexer": "ipython3",
   "version": "3.6.2"
  }
 },
 "nbformat": 4,
 "nbformat_minor": 2
}
